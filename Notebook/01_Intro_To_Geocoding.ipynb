{
  "nbformat": 4,
  "nbformat_minor": 0,
  "metadata": {
    "colab": {
      "provenance": []
    },
    "kernelspec": {
      "name": "python3",
      "display_name": "Python 3"
    },
    "language_info": {
      "name": "python"
    }
  },
  "cells": [
    {
      "cell_type": "markdown",
      "source": [
        "# 🌍 Introduction to Geocoding: From Addresses to Coordinates\n"
      ],
      "metadata": {
        "id": "wJclYqlN-7P8"
      }
    },
    {
      "cell_type": "markdown",
      "source": [
        "## Why This Guide? 🎯\n",
        "\n",
        "Geocoding is the foundation of modern spatial analysis. Whether you're:\n",
        "* Planning delivery routes 🚚\n",
        "* Analyzing real estate markets 🏘️\n",
        "* Creating location-based apps 📱\n",
        "* Visualizing customer distribution 📊\n",
        "\n",
        "You'll need to master the art of converting addresses into coordinates."
      ],
      "metadata": {
        "id": "cSeKC60lB20p"
      }
    },
    {
      "cell_type": "markdown",
      "source": [
        "## 1. Understanding Geocoding Basics 📍\n",
        "\n",
        "### What is Geocoding?\n",
        "Geocoding is the process of transforming location descriptions (addresses, place names) into geographic coordinates (latitude, longitude). Think of it as teaching a computer to read a map!\n",
        "\n",
        "### Types of Geocoding\n",
        "* **Forward Geocoding**: Address ➡️ Coordinates\n",
        "* **Reverse Geocoding**: Coordinates ➡️ Address\n",
        "* **Batch Geocoding**: Processing multiple locations at once\n",
        "* **Real-time Geocoding**: On-the-fly conversion"
      ],
      "metadata": {
        "id": "aDLYGr6eB51H"
      }
    },
    {
      "cell_type": "markdown",
      "source": [
        "## 2. Technical Implementation 💻\n",
        "\n",
        "### Required Libraries"
      ],
      "metadata": {
        "id": "2SoL6KzkB8fE"
      }
    },
    {
      "cell_type": "code",
      "source": [
        "!pip install faker -q"
      ],
      "metadata": {
        "colab": {
          "base_uri": "https://localhost:8080/"
        },
        "id": "LLki72kUC2I8",
        "outputId": "d5777aa7-7896-4e44-c90f-3975c81ce518"
      },
      "execution_count": 2,
      "outputs": [
        {
          "output_type": "stream",
          "name": "stdout",
          "text": [
            "\u001b[?25l   \u001b[90m━━━━━━━━━━━━━━━━━━━━━━━━━━━━━━━━━━━━━━━━\u001b[0m \u001b[32m0.0/1.9 MB\u001b[0m \u001b[31m?\u001b[0m eta \u001b[36m-:--:--\u001b[0m\r\u001b[2K   \u001b[91m━━━━\u001b[0m\u001b[91m╸\u001b[0m\u001b[90m━━━━━━━━━━━━━━━━━━━━━━━━━━━━━━━━━━━\u001b[0m \u001b[32m0.2/1.9 MB\u001b[0m \u001b[31m7.1 MB/s\u001b[0m eta \u001b[36m0:00:01\u001b[0m\r\u001b[2K   \u001b[91m━━━━━━━━━━━━━━━━━━━━━━━━━━━━━━━━━━━━\u001b[0m\u001b[91m╸\u001b[0m\u001b[90m━━━\u001b[0m \u001b[32m1.7/1.9 MB\u001b[0m \u001b[31m24.9 MB/s\u001b[0m eta \u001b[36m0:00:01\u001b[0m\r\u001b[2K   \u001b[90m━━━━━━━━━━━━━━━━━━━━━━━━━━━━━━━━━━━━━━━━\u001b[0m \u001b[32m1.9/1.9 MB\u001b[0m \u001b[31m18.6 MB/s\u001b[0m eta \u001b[36m0:00:00\u001b[0m\n",
            "\u001b[?25h"
          ]
        }
      ]
    },
    {
      "cell_type": "code",
      "source": [
        "import geopandas as gpd\n",
        "import pandas as pd\n",
        "import folium\n",
        "from geopy.geocoders import Nominatim\n",
        "from faker import Faker  # For generating sample data\n",
        "import time  # For rate limiting"
      ],
      "metadata": {
        "id": "N6FSHmO_-93j"
      },
      "execution_count": 3,
      "outputs": []
    },
    {
      "cell_type": "markdown",
      "source": [
        "### Basic Geocoding Setup"
      ],
      "metadata": {
        "id": "YGLyf8qR-_5g"
      }
    },
    {
      "cell_type": "code",
      "source": [
        "# Initialize geocoder with a meaningful user agent\n",
        "geolocator = Nominatim(user_agent=\"your_project_name\")\n",
        "\n",
        "# Create a robust geocoding function\n",
        "def geocode_address(address, max_retries=3):\n",
        "    for attempt in range(max_retries):\n",
        "        try:\n",
        "            time.sleep(1)  # Respect rate limits\n",
        "            location = geolocator.geocode(address)\n",
        "            if location:\n",
        "                return {\n",
        "                    'latitude': location.latitude,\n",
        "                    'longitude': location.longitude,\n",
        "                    'success': True\n",
        "                }\n",
        "        except Exception as e:\n",
        "            print(f\"Attempt {attempt + 1} failed: {str(e)}\")\n",
        "            if attempt == max_retries - 1:\n",
        "                return {\n",
        "                    'latitude': None,\n",
        "                    'longitude': None,\n",
        "                    'success': False\n",
        "                }\n",
        "            time.sleep(2 ** attempt)  # Exponential backoff"
      ],
      "metadata": {
        "id": "QZUomOrE_N6B"
      },
      "execution_count": 4,
      "outputs": []
    },
    {
      "cell_type": "markdown",
      "source": [
        "### Batch Processing Example"
      ],
      "metadata": {
        "id": "Led_jCW0_KXZ"
      }
    },
    {
      "cell_type": "code",
      "source": [
        "def process_address_batch(addresses, batch_size=10):\n",
        "    results = []\n",
        "    for i in range(0, len(addresses), batch_size):\n",
        "        batch = addresses[i:i + batch_size]\n",
        "        batch_results = [geocode_address(addr) for addr in batch]\n",
        "        results.extend(batch_results)\n",
        "        time.sleep(2)  # Pause between batches\n",
        "    return results"
      ],
      "metadata": {
        "id": "hrwkvE82_JMf"
      },
      "execution_count": 5,
      "outputs": []
    },
    {
      "cell_type": "markdown",
      "source": [
        "## 3. Best Practices 🎓\n",
        "\n",
        "### Rate Limiting ⏰\n",
        "* Respect API limits (1 request/second for Nominatim)\n",
        "* Implement exponential backoff\n",
        "* Use batch processing for large datasets\n",
        "* Cache results for frequently accessed addresses\n",
        "\n",
        "### Data Cleaning 🧹\n",
        "* Standardize address formats\n",
        "* Remove special characters\n",
        "* Include country codes\n",
        "* Handle missing data gracefully\n",
        "\n",
        "### Error Handling 🛠️"
      ],
      "metadata": {
        "id": "p4idth5b_RSM"
      }
    },
    {
      "cell_type": "code",
      "source": [
        "def validate_coordinates(lat, lon):\n",
        "    \"\"\"Validate geographic coordinates\"\"\"\n",
        "    return (\n",
        "        isinstance(lat, (int, float)) and\n",
        "        isinstance(lon, (int, float)) and\n",
        "        -90 <= lat <= 90 and\n",
        "        -180 <= lon <= 180\n",
        "    )"
      ],
      "metadata": {
        "id": "g7w03_t7_SBH"
      },
      "execution_count": 6,
      "outputs": []
    },
    {
      "cell_type": "markdown",
      "source": [
        "## 4. Visualization 🗺️\n",
        "\n",
        "### Creating Interactive Maps"
      ],
      "metadata": {
        "id": "GvZkLnii_U9u"
      }
    },
    {
      "cell_type": "code",
      "execution_count": 7,
      "metadata": {
        "id": "Ir4OcZ83-07X"
      },
      "outputs": [],
      "source": [
        "def create_map(geocoded_data, center=[0, 0], zoom=2):\n",
        "    \"\"\"Create an interactive map with markers\"\"\"\n",
        "    m = folium.Map(location=center, zoom_start=zoom)\n",
        "\n",
        "    for point in geocoded_data:\n",
        "        if point['success']:\n",
        "            folium.Marker(\n",
        "                [point['latitude'], point['longitude']],\n",
        "                popup=point['address'],\n",
        "                icon=folium.Icon(color='green')\n",
        "            ).add_to(m)\n",
        "\n",
        "    return m"
      ]
    },
    {
      "cell_type": "markdown",
      "source": [
        "## 5. Common Pitfalls 🚫\n",
        "\n",
        "### Avoid These Common Mistakes:\n",
        "* Not handling API timeouts\n",
        "* Ignoring rate limits\n",
        "* Using non-standardized addresses\n",
        "* Missing error handling\n",
        "* Forgetting to validate coordinates"
      ],
      "metadata": {
        "id": "5XxUG7GbCWdr"
      }
    },
    {
      "cell_type": "markdown",
      "source": [
        "## 6. Advanced Features 🚀\n",
        "\n",
        "### Reverse Geocoding"
      ],
      "metadata": {
        "id": "9dzkVckvCXSL"
      }
    },
    {
      "cell_type": "code",
      "source": [
        "def reverse_geocode(lat, lon):\n",
        "    \"\"\"Convert coordinates to address\"\"\"\n",
        "    if validate_coordinates(lat, lon):\n",
        "        location = geolocator.reverse((lat, lon))\n",
        "        return location.address if location else None\n",
        "    return None"
      ],
      "metadata": {
        "id": "DRDaDv7tCZ4K"
      },
      "execution_count": 8,
      "outputs": []
    },
    {
      "cell_type": "markdown",
      "source": [
        "## 7. Resources 📚\n",
        "\n",
        "### Official Documentation:\n",
        "* [GeoPy Documentation](https://geopy.readthedocs.io/)\n",
        "* [OpenStreetMap Nominatim](https://nominatim.org/release-docs/latest/)\n",
        "* [Folium Documentation](https://python-visualization.github.io/folium/)\n",
        "\n",
        "### Data Sources:\n",
        "* OpenStreetMap\n",
        "* Google Places API\n",
        "* Here Maps\n",
        "* Mapbox"
      ],
      "metadata": {
        "id": "OeYfrALECdni"
      }
    },
    {
      "cell_type": "markdown",
      "source": [
        "## 8. Safety and Ethics 🛡️\n",
        "\n",
        "### Important Considerations:\n",
        "* Respect data privacy\n",
        "* Store coordinates securely\n",
        "* Handle sensitive locations appropriately\n",
        "* Follow API terms of service\n",
        "* Consider GDPR implications"
      ],
      "metadata": {
        "id": "Ny7DwLhPChDr"
      }
    },
    {
      "cell_type": "markdown",
      "source": [
        "## Next Steps 🎯\n",
        "\n",
        "Ready to dive deeper? Check out:\n",
        "* 02-Geocoding-with-APIs.ipynb for advanced API usage\n",
        "* Real-world geocoding applications\n",
        "* Optimization techniques\n",
        "* Alternative geocoding services\n",
        "\n",
        "Remember: Good geocoding is like good navigation - it's all about accuracy, reliability, and knowing where you're going! 🧭\n"
      ],
      "metadata": {
        "id": "bEMkN-QbCkt6"
      }
    },
    {
      "cell_type": "code",
      "source": [
        "#@title Follow Me!\n",
        "%%html\n",
        "\n",
        "<div style=\"background: linear-gradient(90deg, #1a1a1a, #2d2d2d); color: white; padding: 2rem; border-radius: 10px; font-family: 'Roboto', sans-serif; margin-top: 2rem;\">\n",
        "    <h2 style=\"text-align: center; margin-bottom: 1rem;\">\n",
        "        <span style=\"display: block; color: white; font-size: 2.7rem; margin-bottom: 0.5rem;\">ありがとうございます！</span>\n",
        "        <span style=\"display: block; color: white; font-size: 1.8rem;\">🌍 Thank you for making it this far! 🎌</span>\n",
        "    </h2>\n",
        "\n",
        "    <p style=\"font-size: 1.2rem; margin-bottom: 1.5rem;\">If you're interested in the world of geoinformatics and want to keep learning, connect with me! | 一緒に学びましょう！</p>\n",
        "\n",
        "    <div style=\"display: flex; flex-wrap: wrap; gap: 1rem; margin-bottom: 1rem;\">\n",
        "        <a href=\"https://x.com/GastonEchenique\" target=\"_blank\" style=\"text-decoration: none; color: white; display: flex; align-items: center; background: #1DA1F2; padding: 0.5rem 1rem; border-radius: 5px; transition: transform 0.2s;\">\n",
        "            <svg style=\"width: 24px; height: 24px; margin-right: 0.5rem;\" viewBox=\"0 0 24 24\" fill=\"currentColor\">\n",
        "                <path d=\"M18.244 2.25h3.308l-7.227 8.26 8.502 11.24H16.17l-5.214-6.817L4.99 21.75H1.68l7.73-8.835L1.254 2.25H8.08l4.713 6.231zm-1.161 17.52h1.833L7.084 4.126H5.117z\"/>\n",
        "            </svg>\n",
        "            <span>@GastonEchenique</span>\n",
        "        </a>\n",
        "\n",
        "        <a href=\"https://www.linkedin.com/in/gaston-echenique/\" target=\"_blank\" style=\"text-decoration: none; color: white; display: flex; align-items: center; background: #0A66C2; padding: 0.5rem 1rem; border-radius: 5px; transition: transform 0.2s;\">\n",
        "            <svg style=\"width: 24px; height: 24px; margin-right: 0.5rem;\" viewBox=\"0 0 24 24\" fill=\"currentColor\">\n",
        "                <path d=\"M20.447 20.452h-3.554v-5.569c0-1.328-.027-3.037-1.852-3.037-1.853 0-2.136 1.445-2.136 2.939v5.667H9.351V9h3.414v1.561h.046c.477-.9 1.637-1.85 3.37-1.85 3.601 0 4.267 2.37 4.267 5.455v6.286zM5.337 7.433c-1.144 0-2.063-.926-2.063-2.065 0-1.138.92-2.063 2.063-2.063 1.14 0 2.064.925 2.064 2.063 0 1.139-.925 2.065-2.064 2.065zm1.782 13.019H3.555V9h3.564v11.452zM22.225 0H1.771C.792 0 0 .774 0 1.729v20.542C0 23.227.792 24 1.771 24h20.451C23.2 24 24 23.227 24 22.271V1.729C24 .774 23.2 0 22.222 0h.003z\"/>\n",
        "            </svg>\n",
        "            <span>Gastón Echenique</span>\n",
        "        </a>\n",
        "\n",
        "        <a href=\"https://github.com/oechenique\" target=\"_blank\" style=\"text-decoration: none; color: white; display: flex; align-items: center; background: #333; padding: 0.5rem 1rem; border-radius: 5px; transition: transform 0.2s;\">\n",
        "            <svg style=\"width: 24px; height: 24px; margin-right: 0.5rem;\" viewBox=\"0 0 24 24\" fill=\"currentColor\">\n",
        "                <path d=\"M12 0c-6.626 0-12 5.373-12 12 0 5.302 3.438 9.8 8.207 11.387.599.111.793-.261.793-.577v-2.234c-3.338.726-4.033-1.416-4.033-1.416-.546-1.387-1.333-1.756-1.333-1.756-1.089-.745.083-.729.083-.729 1.205.084 1.839 1.237 1.839 1.237 1.07 1.834 2.807 1.304 3.492.997.107-.775.418-1.305.762-1.604-2.665-.305-5.467-1.334-5.467-5.931 0-1.311.469-2.381 1.236-3.221-.124-.303-.535-1.524.117-3.176 0 0 1.008-.322 3.301 1.23.957-.266 1.983-.399 3.003-.404 1.02.005 2.047.138 3.006.404 2.291-1.552 3.297-1.23 3.297-1.23.653 1.653.242 2.874.118 3.176.77.84 1.235 1.911 1.235 3.221 0 4.609-2.807 5.624-5.479 5.921.43.372.823 1.102.823 2.222v3.293c0 .319.192.694.801.576 4.765-1.589 8.199-6.086 8.199-11.386 0-6.627-5.373-12-12-12z\"/>\n",
        "            </svg>\n",
        "            <span>oechenique</span>\n",
        "        </a>\n",
        "\n",
        "        <a href=\"https://oechenique.github.io/geoanalytics/\" target=\"_blank\" style=\"text-decoration: none; color: white; display: flex; align-items: center; background: #2ecc71; padding: 0.5rem 1rem; border-radius: 5px; transition: transform 0.2s;\">\n",
        "            <svg style=\"width: 24px; height: 24px; margin-right: 0.5rem;\" viewBox=\"0 0 24 24\" fill=\"currentColor\">\n",
        "                <path d=\"M12 0c-6.627 0-12 5.373-12 12s5.373 12 12 12 12-5.373 12-12-5.373-12-12-12zm1 16.057v-3.057h2.994c-.059 1.143-.212 2.24-.456 3.279-.823-.12-1.674-.188-2.538-.222zm1.957 2.162c-.499 1.33-1.159 2.497-1.957 3.456v-3.62c.666.028 1.319.081 1.957.164zm-1.957-7.219v-3.015c.868-.034 1.721-.103 2.548-.224.238 1.027.389 2.111.446 3.239h-2.994zm0-5.014v-3.661c.806.969 1.471 2.15 1.971 3.496-.642.084-1.3.137-1.971.165zm2.703-3.267c1.237.496 2.354 1.228 3.29 2.146-.642.234-1.311.442-2.019.607-.344-.992-.775-1.91-1.271-2.753zm-7.241 13.56c-.244-1.039-.398-2.136-.456-3.279h2.994v3.057c-.865.034-1.714.102-2.538.222zm2.538 1.776v3.62c-.798-.959-1.458-2.126-1.957-3.456.638-.083 1.291-.136 1.957-.164zm-2.994-7.055c.057-1.128.207-2.212.446-3.239.827.121 1.68.19 2.548.224v3.015h-2.994zm1.024-5.179c.5-1.346 1.165-2.527 1.97-3.496v3.661c-.671-.028-1.329-.081-1.97-.165zm-2.005-.35c-.708-.165-1.377-.373-2.018-.607.937-.918 2.053-1.65 3.29-2.146-.496.844-.927 1.762-1.272 2.753zm-.549 1.918c-.264 1.151-.434 2.36-.492 3.611h-3.933c.165-1.658.739-3.197 1.617-4.518.88.361 1.816.67 2.808.907zm.009 9.262c-.988.236-1.92.542-2.797.9-.89-1.328-1.471-2.879-1.637-4.551h3.934c.058 1.265.231 2.488.5 3.651zm.553 1.917c.342.976.768 1.881 1.257 2.712-1.223-.49-2.326-1.211-3.256-2.115.636-.229 1.299-.435 1.999-.597zm9.924 0c.7.163 1.362.367 1.999.597-.931.903-2.034 1.625-3.257 2.116.489-.832.915-1.737 1.258-2.713zm.553-1.917c.27-1.163.442-2.386.501-3.651h3.934c-.167 1.672-.748 3.223-1.638 4.551-.877-.358-1.81-.664-2.797-.9zm.501-5.651c-.058-1.251-.229-2.46-.492-3.611.992-.237 1.929-.546 2.809-.907.877 1.321 1.451 2.86 1.616 4.518h-3.933z\"/>\n",
        "            </svg>\n",
        "            <span>GeoAnalytics</span>\n",
        "        </a>\n",
        "\n",
        "        <a href=\"https://discord.com/users/gastonechenique\" target=\"_blank\" style=\"text-decoration: none; color: white; display: flex; align-items: center; background: #5865F2; padding: 0.5rem 1rem; border-radius: 5px; transition: transform 0.2s;\">\n",
        "            <svg style=\"width: 24px; height: 24px; margin-right: 0.5rem;\" viewBox=\"0 0 24 24\" fill=\"currentColor\">\n",
        "                <path d=\"M20.317 4.37a19.791 19.791 0 0 0-4.885-1.515a.074.074 0 0 0-.079.037c-.21.375-.444.864-.608 1.25a18.27 18.27 0 0 0-5.487 0a12.64 12.64 0 0 0-.617-1.25a.077.077 0 0 0-.079-.037A19.736 19.736 0 0 0 3.677 4.37a.07.07 0 0 0-.032.027C.533 9.046-.32 13.58.099 18.057a.082.082 0 0 0 .031.057a19.9 19.9 0 0 0 5.993 3.03a.078.078 0 0 0 .084-.028a14.09 14.09 0 0 0 1.226-1.994a.076.076 0 0 0-.041-.106a13.107 13.107 0 0 1-1.872-.892a.077.077 0 0 1-.008-.128a10.2 10.2 0 0 0 .372-.292a.074.074 0 0 1 .077-.01c3.928 1.793 8.18 1.793 12.062 0a.074.074 0 0 1 .078.01c.12.098.246.198.373.292a.077.077 0 0 1-.006.127a12.299 12.299 0 0 1-1.873.892a.077.077 0 0 0-.041.107c.36.698.772 1.362 1.225 1.993a.076.076 0 0 0 .084.028a19.839 19.839 0 0 0 6.002-3.03a.077.077 0 0 0 .032-.054c.5-5.177-.838-9.674-3.549-13.66a.061.061 0 0 0-.031-.03zM8.02 15.33c-1.183 0-2.157-1.085-2.157-2.419c0-1.333.956-2.419 2.157-2.419c1.21 0 2.176 1.096 2.157 2.42c0 1.333-.956 2.418-2.157 2.418zm7.975 0c-1.183 0-2.157-1.085-2.157-2.419c0-1.333.955-2.419 2.157-2.419c1.21 0 2.176 1.096 2.157 2.42c0 1.333-.946 2.418-2.157 2.418z\"/>\n",
        "            </svg>\n",
        "            <span>Gaston | ガストン</span>\n",
        "        </a>\n",
        "    </div>\n",
        "\n",
        "    <p style=\"font-size: 1rem; color: #888;\">💡 頑張りましょう！Don't miss more content about GIS, Data Science and Geoinformatics!</p>\n",
        "\n",
        "    <div style=\"margin-top: 1rem; padding-top: 1rem; border-top: 1px solid #444; font-size: 0.9rem; color: #666;\">\n",
        "        Made with 🗺️ & 💻 by Gaston Echenique | エチェニケ・ガストン\n",
        "    </div>\n",
        "</div>"
      ],
      "metadata": {
        "colab": {
          "base_uri": "https://localhost:8080/",
          "height": 418
        },
        "cellView": "form",
        "id": "SQ1pAVoUCnwA",
        "outputId": "f93dfa45-2489-47a7-bccc-93518fad8711"
      },
      "execution_count": 9,
      "outputs": [
        {
          "output_type": "display_data",
          "data": {
            "text/plain": [
              "<IPython.core.display.HTML object>"
            ],
            "text/html": [
              "\n",
              "<div style=\"background: linear-gradient(90deg, #1a1a1a, #2d2d2d); color: white; padding: 2rem; border-radius: 10px; font-family: 'Roboto', sans-serif; margin-top: 2rem;\">\n",
              "    <h2 style=\"text-align: center; margin-bottom: 1rem;\">\n",
              "        <span style=\"display: block; color: white; font-size: 2.7rem; margin-bottom: 0.5rem;\">ありがとうございます！</span>\n",
              "        <span style=\"display: block; color: white; font-size: 1.8rem;\">🌍 Thank you for making it this far! 🎌</span>\n",
              "    </h2>\n",
              "\n",
              "    <p style=\"font-size: 1.2rem; margin-bottom: 1.5rem;\">If you're interested in the world of geoinformatics and want to keep learning, connect with me! | 一緒に学びましょう！</p>\n",
              "\n",
              "    <div style=\"display: flex; flex-wrap: wrap; gap: 1rem; margin-bottom: 1rem;\">\n",
              "        <a href=\"https://x.com/GastonEchenique\" target=\"_blank\" style=\"text-decoration: none; color: white; display: flex; align-items: center; background: #1DA1F2; padding: 0.5rem 1rem; border-radius: 5px; transition: transform 0.2s;\">\n",
              "            <svg style=\"width: 24px; height: 24px; margin-right: 0.5rem;\" viewBox=\"0 0 24 24\" fill=\"currentColor\">\n",
              "                <path d=\"M18.244 2.25h3.308l-7.227 8.26 8.502 11.24H16.17l-5.214-6.817L4.99 21.75H1.68l7.73-8.835L1.254 2.25H8.08l4.713 6.231zm-1.161 17.52h1.833L7.084 4.126H5.117z\"/>\n",
              "            </svg>\n",
              "            <span>@GastonEchenique</span>\n",
              "        </a>\n",
              "\n",
              "        <a href=\"https://www.linkedin.com/in/gaston-echenique/\" target=\"_blank\" style=\"text-decoration: none; color: white; display: flex; align-items: center; background: #0A66C2; padding: 0.5rem 1rem; border-radius: 5px; transition: transform 0.2s;\">\n",
              "            <svg style=\"width: 24px; height: 24px; margin-right: 0.5rem;\" viewBox=\"0 0 24 24\" fill=\"currentColor\">\n",
              "                <path d=\"M20.447 20.452h-3.554v-5.569c0-1.328-.027-3.037-1.852-3.037-1.853 0-2.136 1.445-2.136 2.939v5.667H9.351V9h3.414v1.561h.046c.477-.9 1.637-1.85 3.37-1.85 3.601 0 4.267 2.37 4.267 5.455v6.286zM5.337 7.433c-1.144 0-2.063-.926-2.063-2.065 0-1.138.92-2.063 2.063-2.063 1.14 0 2.064.925 2.064 2.063 0 1.139-.925 2.065-2.064 2.065zm1.782 13.019H3.555V9h3.564v11.452zM22.225 0H1.771C.792 0 0 .774 0 1.729v20.542C0 23.227.792 24 1.771 24h20.451C23.2 24 24 23.227 24 22.271V1.729C24 .774 23.2 0 22.222 0h.003z\"/>\n",
              "            </svg>\n",
              "            <span>Gastón Echenique</span>\n",
              "        </a>\n",
              "\n",
              "        <a href=\"https://github.com/oechenique\" target=\"_blank\" style=\"text-decoration: none; color: white; display: flex; align-items: center; background: #333; padding: 0.5rem 1rem; border-radius: 5px; transition: transform 0.2s;\">\n",
              "            <svg style=\"width: 24px; height: 24px; margin-right: 0.5rem;\" viewBox=\"0 0 24 24\" fill=\"currentColor\">\n",
              "                <path d=\"M12 0c-6.626 0-12 5.373-12 12 0 5.302 3.438 9.8 8.207 11.387.599.111.793-.261.793-.577v-2.234c-3.338.726-4.033-1.416-4.033-1.416-.546-1.387-1.333-1.756-1.333-1.756-1.089-.745.083-.729.083-.729 1.205.084 1.839 1.237 1.839 1.237 1.07 1.834 2.807 1.304 3.492.997.107-.775.418-1.305.762-1.604-2.665-.305-5.467-1.334-5.467-5.931 0-1.311.469-2.381 1.236-3.221-.124-.303-.535-1.524.117-3.176 0 0 1.008-.322 3.301 1.23.957-.266 1.983-.399 3.003-.404 1.02.005 2.047.138 3.006.404 2.291-1.552 3.297-1.23 3.297-1.23.653 1.653.242 2.874.118 3.176.77.84 1.235 1.911 1.235 3.221 0 4.609-2.807 5.624-5.479 5.921.43.372.823 1.102.823 2.222v3.293c0 .319.192.694.801.576 4.765-1.589 8.199-6.086 8.199-11.386 0-6.627-5.373-12-12-12z\"/>\n",
              "            </svg>\n",
              "            <span>oechenique</span>\n",
              "        </a>\n",
              "\n",
              "        <a href=\"https://oechenique.github.io/geoanalytics/\" target=\"_blank\" style=\"text-decoration: none; color: white; display: flex; align-items: center; background: #2ecc71; padding: 0.5rem 1rem; border-radius: 5px; transition: transform 0.2s;\">\n",
              "            <svg style=\"width: 24px; height: 24px; margin-right: 0.5rem;\" viewBox=\"0 0 24 24\" fill=\"currentColor\">\n",
              "                <path d=\"M12 0c-6.627 0-12 5.373-12 12s5.373 12 12 12 12-5.373 12-12-5.373-12-12-12zm1 16.057v-3.057h2.994c-.059 1.143-.212 2.24-.456 3.279-.823-.12-1.674-.188-2.538-.222zm1.957 2.162c-.499 1.33-1.159 2.497-1.957 3.456v-3.62c.666.028 1.319.081 1.957.164zm-1.957-7.219v-3.015c.868-.034 1.721-.103 2.548-.224.238 1.027.389 2.111.446 3.239h-2.994zm0-5.014v-3.661c.806.969 1.471 2.15 1.971 3.496-.642.084-1.3.137-1.971.165zm2.703-3.267c1.237.496 2.354 1.228 3.29 2.146-.642.234-1.311.442-2.019.607-.344-.992-.775-1.91-1.271-2.753zm-7.241 13.56c-.244-1.039-.398-2.136-.456-3.279h2.994v3.057c-.865.034-1.714.102-2.538.222zm2.538 1.776v3.62c-.798-.959-1.458-2.126-1.957-3.456.638-.083 1.291-.136 1.957-.164zm-2.994-7.055c.057-1.128.207-2.212.446-3.239.827.121 1.68.19 2.548.224v3.015h-2.994zm1.024-5.179c.5-1.346 1.165-2.527 1.97-3.496v3.661c-.671-.028-1.329-.081-1.97-.165zm-2.005-.35c-.708-.165-1.377-.373-2.018-.607.937-.918 2.053-1.65 3.29-2.146-.496.844-.927 1.762-1.272 2.753zm-.549 1.918c-.264 1.151-.434 2.36-.492 3.611h-3.933c.165-1.658.739-3.197 1.617-4.518.88.361 1.816.67 2.808.907zm.009 9.262c-.988.236-1.92.542-2.797.9-.89-1.328-1.471-2.879-1.637-4.551h3.934c.058 1.265.231 2.488.5 3.651zm.553 1.917c.342.976.768 1.881 1.257 2.712-1.223-.49-2.326-1.211-3.256-2.115.636-.229 1.299-.435 1.999-.597zm9.924 0c.7.163 1.362.367 1.999.597-.931.903-2.034 1.625-3.257 2.116.489-.832.915-1.737 1.258-2.713zm.553-1.917c.27-1.163.442-2.386.501-3.651h3.934c-.167 1.672-.748 3.223-1.638 4.551-.877-.358-1.81-.664-2.797-.9zm.501-5.651c-.058-1.251-.229-2.46-.492-3.611.992-.237 1.929-.546 2.809-.907.877 1.321 1.451 2.86 1.616 4.518h-3.933z\"/>\n",
              "            </svg>\n",
              "            <span>GeoAnalytics</span>\n",
              "        </a>\n",
              "\n",
              "        <a href=\"https://discord.com/users/gastonechenique\" target=\"_blank\" style=\"text-decoration: none; color: white; display: flex; align-items: center; background: #5865F2; padding: 0.5rem 1rem; border-radius: 5px; transition: transform 0.2s;\">\n",
              "            <svg style=\"width: 24px; height: 24px; margin-right: 0.5rem;\" viewBox=\"0 0 24 24\" fill=\"currentColor\">\n",
              "                <path d=\"M20.317 4.37a19.791 19.791 0 0 0-4.885-1.515a.074.074 0 0 0-.079.037c-.21.375-.444.864-.608 1.25a18.27 18.27 0 0 0-5.487 0a12.64 12.64 0 0 0-.617-1.25a.077.077 0 0 0-.079-.037A19.736 19.736 0 0 0 3.677 4.37a.07.07 0 0 0-.032.027C.533 9.046-.32 13.58.099 18.057a.082.082 0 0 0 .031.057a19.9 19.9 0 0 0 5.993 3.03a.078.078 0 0 0 .084-.028a14.09 14.09 0 0 0 1.226-1.994a.076.076 0 0 0-.041-.106a13.107 13.107 0 0 1-1.872-.892a.077.077 0 0 1-.008-.128a10.2 10.2 0 0 0 .372-.292a.074.074 0 0 1 .077-.01c3.928 1.793 8.18 1.793 12.062 0a.074.074 0 0 1 .078.01c.12.098.246.198.373.292a.077.077 0 0 1-.006.127a12.299 12.299 0 0 1-1.873.892a.077.077 0 0 0-.041.107c.36.698.772 1.362 1.225 1.993a.076.076 0 0 0 .084.028a19.839 19.839 0 0 0 6.002-3.03a.077.077 0 0 0 .032-.054c.5-5.177-.838-9.674-3.549-13.66a.061.061 0 0 0-.031-.03zM8.02 15.33c-1.183 0-2.157-1.085-2.157-2.419c0-1.333.956-2.419 2.157-2.419c1.21 0 2.176 1.096 2.157 2.42c0 1.333-.956 2.418-2.157 2.418zm7.975 0c-1.183 0-2.157-1.085-2.157-2.419c0-1.333.955-2.419 2.157-2.419c1.21 0 2.176 1.096 2.157 2.42c0 1.333-.946 2.418-2.157 2.418z\"/>\n",
              "            </svg>\n",
              "            <span>Gaston | ガストン</span>\n",
              "        </a>\n",
              "    </div>\n",
              "\n",
              "    <p style=\"font-size: 1rem; color: #888;\">💡 頑張りましょう！Don't miss more content about GIS, Data Science and Geoinformatics!</p>\n",
              "\n",
              "    <div style=\"margin-top: 1rem; padding-top: 1rem; border-top: 1px solid #444; font-size: 0.9rem; color: #666;\">\n",
              "        Made with 🗺️ & 💻 by Gaston Echenique | エチェニケ・ガストン\n",
              "    </div>\n",
              "</div>\n"
            ]
          },
          "metadata": {}
        }
      ]
    }
  ]
}