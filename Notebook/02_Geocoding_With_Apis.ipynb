{
  "nbformat": 4,
  "nbformat_minor": 0,
  "metadata": {
    "colab": {
      "provenance": []
    },
    "kernelspec": {
      "name": "python3",
      "display_name": "Python 3"
    },
    "language_info": {
      "name": "python"
    }
  },
  "cells": [
    {
      "cell_type": "markdown",
      "source": [
        "# 🌏 Geocoding with APIs: A Deep Dive into Location Services\n"
      ],
      "metadata": {
        "id": "bKhwljZmEIa_"
      }
    },
    {
      "cell_type": "markdown",
      "source": [
        "## The Power of Location APIs 🚀\n",
        "\n",
        "When your application needs to convert addresses into coordinates or vice versa, APIs are your best friends! Whether you're:\n",
        "* Building a restaurant finder 🍜\n",
        "* Creating a delivery tracking system 📦\n",
        "* Developing a travel app ✈️\n",
        "* Analyzing real estate locations 🏘️\n",
        "\n",
        "You'll need to master the art of working with geocoding APIs."
      ],
      "metadata": {
        "id": "m1Jg1E-1LEsS"
      }
    },
    {
      "cell_type": "markdown",
      "source": [
        "## 1. Understanding Geocoding APIs 🔍\n",
        "\n",
        "### Popular Geocoding Services\n",
        "* **OpenStreetMap (Nominatim)**: Free, community-driven\n",
        "* **Google Maps**: Enterprise-grade, paid\n",
        "* **Mapbox**: Developer-friendly, flexible pricing\n",
        "* **Here Maps**: Automotive focus\n",
        "* **Bing Maps**: Microsoft's solution\n",
        "\n",
        "### API Selection Criteria\n",
        "* Cost 💰\n",
        "* Rate limits ⏱️\n",
        "* Accuracy 🎯\n",
        "* Coverage area 🗺️\n",
        "* Additional features 🛠️"
      ],
      "metadata": {
        "id": "mUHZG3ZJLHEo"
      }
    },
    {
      "cell_type": "markdown",
      "source": [
        "## 2. Working with Nominatim API 💻\n",
        "\n",
        "### Setting Up"
      ],
      "metadata": {
        "id": "w3P0cGoxLKIs"
      }
    },
    {
      "cell_type": "code",
      "source": [
        "from geopy.geocoders import Nominatim\n",
        "from geopy.extra.rate_limiter import RateLimiter\n",
        "import pandas as pd\n",
        "import folium\n",
        "import time\n",
        "\n",
        "# Initialize with meaningful user agent\n",
        "geolocator = Nominatim(user_agent=\"your_awesome_app\")\n",
        "\n",
        "# Set up rate limiter\n",
        "geocode = RateLimiter(geolocator.geocode, min_delay_seconds=1)"
      ],
      "metadata": {
        "id": "AhkxeWGhEKoq"
      },
      "execution_count": 1,
      "outputs": []
    },
    {
      "cell_type": "markdown",
      "source": [
        "### Enhanced Restaurant Geocoding\n"
      ],
      "metadata": {
        "id": "LwkCcdIbEPLV"
      }
    },
    {
      "cell_type": "code",
      "source": [
        "def geocode_restaurant(name, retries=3):\n",
        "    \"\"\"\n",
        "    Geocode restaurant with error handling and retries\n",
        "    \"\"\"\n",
        "    for attempt in range(retries):\n",
        "        try:\n",
        "            location = geocode(name)\n",
        "            if location:\n",
        "                return {\n",
        "                    'name': name,\n",
        "                    'latitude': location.latitude,\n",
        "                    'longitude': location.longitude,\n",
        "                    'raw': location.raw\n",
        "                }\n",
        "        except Exception as e:\n",
        "            print(f\"Attempt {attempt + 1} failed for {name}: {str(e)}\")\n",
        "            time.sleep(2 ** attempt)  # Exponential backoff\n",
        "    return None\n",
        "\n",
        "# Example restaurant list with more details\n",
        "tokyo_restaurants = [\n",
        "    {\n",
        "        'name': 'Sukiyabashi Jiro',\n",
        "        'area': 'Ginza',\n",
        "        'cuisine': 'Sushi',\n",
        "        'address': 'Tsukamoto Sogyo Building, 2-15, Ginza 4-chome, Chuo-ku, Tokyo'\n",
        "    },\n",
        "    # Add more restaurants here\n",
        "]"
      ],
      "metadata": {
        "id": "hPmX7_bjENGd"
      },
      "execution_count": 2,
      "outputs": []
    },
    {
      "cell_type": "markdown",
      "source": [
        "## 3. Advanced API Features 🔧\n",
        "\n",
        "### Structured Query Building"
      ],
      "metadata": {
        "id": "8JzIMQ0CETlY"
      }
    },
    {
      "cell_type": "code",
      "source": [
        "def build_nominatim_query(restaurant):\n",
        "    \"\"\"\n",
        "    Build a structured query for better results\n",
        "    \"\"\"\n",
        "    return {\n",
        "        'q': f\"{restaurant['name']}, {restaurant['area']}, Tokyo\",\n",
        "        'countrycodes': 'jp',\n",
        "        'limit': 1,\n",
        "        'format': 'json'\n",
        "    }"
      ],
      "metadata": {
        "id": "bjw_7XkIEVu_"
      },
      "execution_count": 3,
      "outputs": []
    },
    {
      "cell_type": "markdown",
      "source": [
        "### Enhanced Visualization"
      ],
      "metadata": {
        "id": "LcUVLTdQEX6T"
      }
    },
    {
      "cell_type": "code",
      "source": [
        "def create_restaurant_map(restaurants_data, center=[35.6895, 139.6917]):\n",
        "    \"\"\"\n",
        "    Create an interactive map with custom markers and popups\n",
        "    \"\"\"\n",
        "    m = folium.Map(location=center, zoom_start=12)\n",
        "\n",
        "    for restaurant in restaurants_data:\n",
        "        if restaurant.get('latitude'):\n",
        "            html = f\"\"\"\n",
        "                <div style=\"width:200px\">\n",
        "                    <h4>{restaurant['name']}</h4>\n",
        "                    <p><b>Cuisine:</b> {restaurant['cuisine']}</p>\n",
        "                    <p><b>Area:</b> {restaurant['area']}</p>\n",
        "                </div>\n",
        "            \"\"\"\n",
        "\n",
        "            folium.Marker(\n",
        "                [restaurant['latitude'], restaurant['longitude']],\n",
        "                popup=folium.Popup(html, max_width=300),\n",
        "                icon=folium.Icon(color='red', icon='cutlery', prefix='fa')\n",
        "            ).add_to(m)\n",
        "\n",
        "    return m"
      ],
      "metadata": {
        "id": "8gDBBOJXEZno"
      },
      "execution_count": 4,
      "outputs": []
    },
    {
      "cell_type": "markdown",
      "source": [
        "## 4. Best Practices 📋\n",
        "\n",
        "### API Usage Guidelines"
      ],
      "metadata": {
        "id": "DwZtHDNKEa53"
      }
    },
    {
      "cell_type": "markdown",
      "source": [
        "1. **Rate Limiting**\n"
      ],
      "metadata": {
        "id": "FutELKDmLpLu"
      }
    },
    {
      "cell_type": "code",
      "execution_count": 5,
      "metadata": {
        "id": "Uh4D-xQLEAOF"
      },
      "outputs": [],
      "source": [
        "   # Implement custom rate limiter\n",
        "   class CustomRateLimiter:\n",
        "       def __init__(self, min_delay=1):\n",
        "           self.min_delay = min_delay\n",
        "           self.last_call = 0\n",
        "\n",
        "       def wait(self):\n",
        "           elapsed = time.time() - self.last_call\n",
        "           if elapsed < self.min_delay:\n",
        "               time.sleep(self.min_delay - elapsed)\n",
        "           self.last_call = time.time()"
      ]
    },
    {
      "cell_type": "markdown",
      "source": [
        "2. **Caching Results**"
      ],
      "metadata": {
        "id": "DsPZfVuGLr8p"
      }
    },
    {
      "cell_type": "code",
      "source": [
        "import json\n",
        "from pathlib import Path\n",
        "\n",
        "def cache_results(data, filename='geocoding_cache.json'):\n",
        "       Path('cache').mkdir(exist_ok=True)\n",
        "       with open(f'cache/{filename}', 'w') as f:\n",
        "           json.dump(data, f)"
      ],
      "metadata": {
        "id": "w4Q2j6ppLuTZ"
      },
      "execution_count": 6,
      "outputs": []
    },
    {
      "cell_type": "markdown",
      "source": [
        "3. **Error Handling**\n"
      ],
      "metadata": {
        "id": "hnJKys_JL2TO"
      }
    },
    {
      "cell_type": "code",
      "source": [
        "def safe_geocode(address):\n",
        "       try:\n",
        "           location = geolocator.geocode(address)\n",
        "           return location\n",
        "       except Exception as e:\n",
        "           logger.error(f\"Geocoding failed for {address}: {str(e)}\")\n",
        "           return None"
      ],
      "metadata": {
        "id": "lQvNfU-bL5gQ"
      },
      "execution_count": 7,
      "outputs": []
    },
    {
      "cell_type": "markdown",
      "source": [
        "## 5. Working with Multiple APIs 🔄\n",
        "\n",
        "### API Fallback System"
      ],
      "metadata": {
        "id": "fADrSFpdL8XR"
      }
    },
    {
      "cell_type": "code",
      "source": [
        "def multi_api_geocode(address, apis=['nominatim', 'mapbox']):\n",
        "    \"\"\"\n",
        "    Try multiple APIs in sequence\n",
        "    \"\"\"\n",
        "    for api in apis:\n",
        "        try:\n",
        "            result = geocode_with_api(address, api)\n",
        "            if result:\n",
        "                return result\n",
        "        except Exception as e:\n",
        "            continue\n",
        "    return None"
      ],
      "metadata": {
        "id": "XzpOoBDqL9Je"
      },
      "execution_count": 8,
      "outputs": []
    },
    {
      "cell_type": "markdown",
      "source": [
        "## 6. Performance Optimization 🚄\n",
        "\n",
        "### Batch Processing"
      ],
      "metadata": {
        "id": "zUDDIB3oMApF"
      }
    },
    {
      "cell_type": "code",
      "source": [
        "def process_restaurant_batch(restaurants, batch_size=5):\n",
        "    \"\"\"\n",
        "    Process restaurants in batches\n",
        "    \"\"\"\n",
        "    results = []\n",
        "    rate_limiter = CustomRateLimiter()\n",
        "\n",
        "    for i in range(0, len(restaurants), batch_size):\n",
        "        batch = restaurants[i:i + batch_size]\n",
        "        for restaurant in batch:\n",
        "            rate_limiter.wait()\n",
        "            result = geocode_restaurant(restaurant)\n",
        "            results.append(result)\n",
        "\n",
        "    return results"
      ],
      "metadata": {
        "id": "Z48THldKMCn8"
      },
      "execution_count": 9,
      "outputs": []
    },
    {
      "cell_type": "markdown",
      "source": [
        "## 7. Data Quality 📊\n",
        "\n",
        "### Location Validation"
      ],
      "metadata": {
        "id": "FM1YVa1IMEwf"
      }
    },
    {
      "cell_type": "code",
      "source": [
        "def validate_tokyo_location(lat, lon):\n",
        "    \"\"\"\n",
        "    Verify if coordinates are within Tokyo bounds\n",
        "    \"\"\"\n",
        "    TOKYO_BOUNDS = {\n",
        "        'north': 35.8984,\n",
        "        'south': 35.5321,\n",
        "        'east': 139.9299,\n",
        "        'west': 139.5804\n",
        "    }\n",
        "\n",
        "    return (TOKYO_BOUNDS['south'] <= lat <= TOKYO_BOUNDS['north'] and\n",
        "            TOKYO_BOUNDS['west'] <= lon <= TOKYO_BOUNDS['east'])"
      ],
      "metadata": {
        "id": "Q-OJP_KkMFen"
      },
      "execution_count": 10,
      "outputs": []
    },
    {
      "cell_type": "markdown",
      "source": [
        "## 8. Resources 📚\n",
        "\n",
        "### Official Documentation\n",
        "* [Nominatim API Docs](https://nominatim.org/release-docs/latest/)\n",
        "* [GeoPy Documentation](https://geopy.readthedocs.io/)\n",
        "* [Folium Documentation](https://python-visualization.github.io/folium/)\n",
        "\n",
        "### Usage Policies\n",
        "* Always check API terms of service\n",
        "* Respect usage limits\n",
        "* Implement proper error handling\n",
        "* Cache results when possible"
      ],
      "metadata": {
        "id": "9fkN0gL6MKd2"
      }
    },
    {
      "cell_type": "markdown",
      "source": [
        "## Next Steps 🎯\n",
        "\n",
        "Ready to become a geocoding master?\n",
        "* Explore commercial APIs\n",
        "* Implement address validation\n",
        "* Add reverse geocoding\n",
        "* Create custom markers\n",
        "* Handle bulk operations\n",
        "\n",
        "Remember: In geocoding, as in cooking, the best results come from using the right ingredients and following the recipe carefully! 🍳\n",
        "\n",
        "Happy Coding! 🚀"
      ],
      "metadata": {
        "id": "Abm_XfWyMLLN"
      }
    },
    {
      "cell_type": "code",
      "source": [
        "#@title Follow Me!\n",
        "%%html\n",
        "\n",
        "<div style=\"background: linear-gradient(90deg, #1a1a1a, #2d2d2d); color: white; padding: 2rem; border-radius: 10px; font-family: 'Roboto', sans-serif; margin-top: 2rem;\">\n",
        "    <h2 style=\"text-align: center; margin-bottom: 1rem;\">\n",
        "        <span style=\"display: block; color: white; font-size: 2.7rem; margin-bottom: 0.5rem;\">ありがとうございます！</span>\n",
        "        <span style=\"display: block; color: white; font-size: 1.8rem;\">🌍 Thank you for making it this far! 🎌</span>\n",
        "    </h2>\n",
        "\n",
        "    <p style=\"font-size: 1.2rem; margin-bottom: 1.5rem;\">If you're interested in the world of geoinformatics and want to keep learning, connect with me! | 一緒に学びましょう！</p>\n",
        "\n",
        "    <div style=\"display: flex; flex-wrap: wrap; gap: 1rem; margin-bottom: 1rem;\">\n",
        "        <a href=\"https://x.com/GastonEchenique\" target=\"_blank\" style=\"text-decoration: none; color: white; display: flex; align-items: center; background: #1DA1F2; padding: 0.5rem 1rem; border-radius: 5px; transition: transform 0.2s;\">\n",
        "            <svg style=\"width: 24px; height: 24px; margin-right: 0.5rem;\" viewBox=\"0 0 24 24\" fill=\"currentColor\">\n",
        "                <path d=\"M18.244 2.25h3.308l-7.227 8.26 8.502 11.24H16.17l-5.214-6.817L4.99 21.75H1.68l7.73-8.835L1.254 2.25H8.08l4.713 6.231zm-1.161 17.52h1.833L7.084 4.126H5.117z\"/>\n",
        "            </svg>\n",
        "            <span>@GastonEchenique</span>\n",
        "        </a>\n",
        "\n",
        "        <a href=\"https://www.linkedin.com/in/gaston-echenique/\" target=\"_blank\" style=\"text-decoration: none; color: white; display: flex; align-items: center; background: #0A66C2; padding: 0.5rem 1rem; border-radius: 5px; transition: transform 0.2s;\">\n",
        "            <svg style=\"width: 24px; height: 24px; margin-right: 0.5rem;\" viewBox=\"0 0 24 24\" fill=\"currentColor\">\n",
        "                <path d=\"M20.447 20.452h-3.554v-5.569c0-1.328-.027-3.037-1.852-3.037-1.853 0-2.136 1.445-2.136 2.939v5.667H9.351V9h3.414v1.561h.046c.477-.9 1.637-1.85 3.37-1.85 3.601 0 4.267 2.37 4.267 5.455v6.286zM5.337 7.433c-1.144 0-2.063-.926-2.063-2.065 0-1.138.92-2.063 2.063-2.063 1.14 0 2.064.925 2.064 2.063 0 1.139-.925 2.065-2.064 2.065zm1.782 13.019H3.555V9h3.564v11.452zM22.225 0H1.771C.792 0 0 .774 0 1.729v20.542C0 23.227.792 24 1.771 24h20.451C23.2 24 24 23.227 24 22.271V1.729C24 .774 23.2 0 22.222 0h.003z\"/>\n",
        "            </svg>\n",
        "            <span>Gastón Echenique</span>\n",
        "        </a>\n",
        "\n",
        "        <a href=\"https://github.com/oechenique\" target=\"_blank\" style=\"text-decoration: none; color: white; display: flex; align-items: center; background: #333; padding: 0.5rem 1rem; border-radius: 5px; transition: transform 0.2s;\">\n",
        "            <svg style=\"width: 24px; height: 24px; margin-right: 0.5rem;\" viewBox=\"0 0 24 24\" fill=\"currentColor\">\n",
        "                <path d=\"M12 0c-6.626 0-12 5.373-12 12 0 5.302 3.438 9.8 8.207 11.387.599.111.793-.261.793-.577v-2.234c-3.338.726-4.033-1.416-4.033-1.416-.546-1.387-1.333-1.756-1.333-1.756-1.089-.745.083-.729.083-.729 1.205.084 1.839 1.237 1.839 1.237 1.07 1.834 2.807 1.304 3.492.997.107-.775.418-1.305.762-1.604-2.665-.305-5.467-1.334-5.467-5.931 0-1.311.469-2.381 1.236-3.221-.124-.303-.535-1.524.117-3.176 0 0 1.008-.322 3.301 1.23.957-.266 1.983-.399 3.003-.404 1.02.005 2.047.138 3.006.404 2.291-1.552 3.297-1.23 3.297-1.23.653 1.653.242 2.874.118 3.176.77.84 1.235 1.911 1.235 3.221 0 4.609-2.807 5.624-5.479 5.921.43.372.823 1.102.823 2.222v3.293c0 .319.192.694.801.576 4.765-1.589 8.199-6.086 8.199-11.386 0-6.627-5.373-12-12-12z\"/>\n",
        "            </svg>\n",
        "            <span>oechenique</span>\n",
        "        </a>\n",
        "\n",
        "        <a href=\"https://oechenique.github.io/geoanalytics/\" target=\"_blank\" style=\"text-decoration: none; color: white; display: flex; align-items: center; background: #2ecc71; padding: 0.5rem 1rem; border-radius: 5px; transition: transform 0.2s;\">\n",
        "            <svg style=\"width: 24px; height: 24px; margin-right: 0.5rem;\" viewBox=\"0 0 24 24\" fill=\"currentColor\">\n",
        "                <path d=\"M12 0c-6.627 0-12 5.373-12 12s5.373 12 12 12 12-5.373 12-12-5.373-12-12-12zm1 16.057v-3.057h2.994c-.059 1.143-.212 2.24-.456 3.279-.823-.12-1.674-.188-2.538-.222zm1.957 2.162c-.499 1.33-1.159 2.497-1.957 3.456v-3.62c.666.028 1.319.081 1.957.164zm-1.957-7.219v-3.015c.868-.034 1.721-.103 2.548-.224.238 1.027.389 2.111.446 3.239h-2.994zm0-5.014v-3.661c.806.969 1.471 2.15 1.971 3.496-.642.084-1.3.137-1.971.165zm2.703-3.267c1.237.496 2.354 1.228 3.29 2.146-.642.234-1.311.442-2.019.607-.344-.992-.775-1.91-1.271-2.753zm-7.241 13.56c-.244-1.039-.398-2.136-.456-3.279h2.994v3.057c-.865.034-1.714.102-2.538.222zm2.538 1.776v3.62c-.798-.959-1.458-2.126-1.957-3.456.638-.083 1.291-.136 1.957-.164zm-2.994-7.055c.057-1.128.207-2.212.446-3.239.827.121 1.68.19 2.548.224v3.015h-2.994zm1.024-5.179c.5-1.346 1.165-2.527 1.97-3.496v3.661c-.671-.028-1.329-.081-1.97-.165zm-2.005-.35c-.708-.165-1.377-.373-2.018-.607.937-.918 2.053-1.65 3.29-2.146-.496.844-.927 1.762-1.272 2.753zm-.549 1.918c-.264 1.151-.434 2.36-.492 3.611h-3.933c.165-1.658.739-3.197 1.617-4.518.88.361 1.816.67 2.808.907zm.009 9.262c-.988.236-1.92.542-2.797.9-.89-1.328-1.471-2.879-1.637-4.551h3.934c.058 1.265.231 2.488.5 3.651zm.553 1.917c.342.976.768 1.881 1.257 2.712-1.223-.49-2.326-1.211-3.256-2.115.636-.229 1.299-.435 1.999-.597zm9.924 0c.7.163 1.362.367 1.999.597-.931.903-2.034 1.625-3.257 2.116.489-.832.915-1.737 1.258-2.713zm.553-1.917c.27-1.163.442-2.386.501-3.651h3.934c-.167 1.672-.748 3.223-1.638 4.551-.877-.358-1.81-.664-2.797-.9zm.501-5.651c-.058-1.251-.229-2.46-.492-3.611.992-.237 1.929-.546 2.809-.907.877 1.321 1.451 2.86 1.616 4.518h-3.933z\"/>\n",
        "            </svg>\n",
        "            <span>GeoAnalytics</span>\n",
        "        </a>\n",
        "\n",
        "        <a href=\"https://discord.com/users/gastonechenique\" target=\"_blank\" style=\"text-decoration: none; color: white; display: flex; align-items: center; background: #5865F2; padding: 0.5rem 1rem; border-radius: 5px; transition: transform 0.2s;\">\n",
        "            <svg style=\"width: 24px; height: 24px; margin-right: 0.5rem;\" viewBox=\"0 0 24 24\" fill=\"currentColor\">\n",
        "                <path d=\"M20.317 4.37a19.791 19.791 0 0 0-4.885-1.515a.074.074 0 0 0-.079.037c-.21.375-.444.864-.608 1.25a18.27 18.27 0 0 0-5.487 0a12.64 12.64 0 0 0-.617-1.25a.077.077 0 0 0-.079-.037A19.736 19.736 0 0 0 3.677 4.37a.07.07 0 0 0-.032.027C.533 9.046-.32 13.58.099 18.057a.082.082 0 0 0 .031.057a19.9 19.9 0 0 0 5.993 3.03a.078.078 0 0 0 .084-.028a14.09 14.09 0 0 0 1.226-1.994a.076.076 0 0 0-.041-.106a13.107 13.107 0 0 1-1.872-.892a.077.077 0 0 1-.008-.128a10.2 10.2 0 0 0 .372-.292a.074.074 0 0 1 .077-.01c3.928 1.793 8.18 1.793 12.062 0a.074.074 0 0 1 .078.01c.12.098.246.198.373.292a.077.077 0 0 1-.006.127a12.299 12.299 0 0 1-1.873.892a.077.077 0 0 0-.041.107c.36.698.772 1.362 1.225 1.993a.076.076 0 0 0 .084.028a19.839 19.839 0 0 0 6.002-3.03a.077.077 0 0 0 .032-.054c.5-5.177-.838-9.674-3.549-13.66a.061.061 0 0 0-.031-.03zM8.02 15.33c-1.183 0-2.157-1.085-2.157-2.419c0-1.333.956-2.419 2.157-2.419c1.21 0 2.176 1.096 2.157 2.42c0 1.333-.956 2.418-2.157 2.418zm7.975 0c-1.183 0-2.157-1.085-2.157-2.419c0-1.333.955-2.419 2.157-2.419c1.21 0 2.176 1.096 2.157 2.42c0 1.333-.946 2.418-2.157 2.418z\"/>\n",
        "            </svg>\n",
        "            <span>Gaston | ガストン</span>\n",
        "        </a>\n",
        "    </div>\n",
        "\n",
        "    <p style=\"font-size: 1rem; color: #888;\">💡 頑張りましょう！Don't miss more content about GIS, Data Science and Geoinformatics!</p>\n",
        "\n",
        "    <div style=\"margin-top: 1rem; padding-top: 1rem; border-top: 1px solid #444; font-size: 0.9rem; color: #666;\">\n",
        "        Made with 🗺️ & 💻 by Gaston Echenique | エチェニケ・ガストン\n",
        "    </div>\n",
        "</div>"
      ],
      "metadata": {
        "cellView": "form",
        "colab": {
          "base_uri": "https://localhost:8080/",
          "height": 418
        },
        "id": "_l7H6bCRMNbr",
        "outputId": "e73aafe1-66f0-4fa6-9b6c-f2c4595dd723"
      },
      "execution_count": 11,
      "outputs": [
        {
          "output_type": "display_data",
          "data": {
            "text/plain": [
              "<IPython.core.display.HTML object>"
            ],
            "text/html": [
              "\n",
              "<div style=\"background: linear-gradient(90deg, #1a1a1a, #2d2d2d); color: white; padding: 2rem; border-radius: 10px; font-family: 'Roboto', sans-serif; margin-top: 2rem;\">\n",
              "    <h2 style=\"text-align: center; margin-bottom: 1rem;\">\n",
              "        <span style=\"display: block; color: white; font-size: 2.7rem; margin-bottom: 0.5rem;\">ありがとうございます！</span>\n",
              "        <span style=\"display: block; color: white; font-size: 1.8rem;\">🌍 Thank you for making it this far! 🎌</span>\n",
              "    </h2>\n",
              "\n",
              "    <p style=\"font-size: 1.2rem; margin-bottom: 1.5rem;\">If you're interested in the world of geoinformatics and want to keep learning, connect with me! | 一緒に学びましょう！</p>\n",
              "\n",
              "    <div style=\"display: flex; flex-wrap: wrap; gap: 1rem; margin-bottom: 1rem;\">\n",
              "        <a href=\"https://x.com/GastonEchenique\" target=\"_blank\" style=\"text-decoration: none; color: white; display: flex; align-items: center; background: #1DA1F2; padding: 0.5rem 1rem; border-radius: 5px; transition: transform 0.2s;\">\n",
              "            <svg style=\"width: 24px; height: 24px; margin-right: 0.5rem;\" viewBox=\"0 0 24 24\" fill=\"currentColor\">\n",
              "                <path d=\"M18.244 2.25h3.308l-7.227 8.26 8.502 11.24H16.17l-5.214-6.817L4.99 21.75H1.68l7.73-8.835L1.254 2.25H8.08l4.713 6.231zm-1.161 17.52h1.833L7.084 4.126H5.117z\"/>\n",
              "            </svg>\n",
              "            <span>@GastonEchenique</span>\n",
              "        </a>\n",
              "\n",
              "        <a href=\"https://www.linkedin.com/in/gaston-echenique/\" target=\"_blank\" style=\"text-decoration: none; color: white; display: flex; align-items: center; background: #0A66C2; padding: 0.5rem 1rem; border-radius: 5px; transition: transform 0.2s;\">\n",
              "            <svg style=\"width: 24px; height: 24px; margin-right: 0.5rem;\" viewBox=\"0 0 24 24\" fill=\"currentColor\">\n",
              "                <path d=\"M20.447 20.452h-3.554v-5.569c0-1.328-.027-3.037-1.852-3.037-1.853 0-2.136 1.445-2.136 2.939v5.667H9.351V9h3.414v1.561h.046c.477-.9 1.637-1.85 3.37-1.85 3.601 0 4.267 2.37 4.267 5.455v6.286zM5.337 7.433c-1.144 0-2.063-.926-2.063-2.065 0-1.138.92-2.063 2.063-2.063 1.14 0 2.064.925 2.064 2.063 0 1.139-.925 2.065-2.064 2.065zm1.782 13.019H3.555V9h3.564v11.452zM22.225 0H1.771C.792 0 0 .774 0 1.729v20.542C0 23.227.792 24 1.771 24h20.451C23.2 24 24 23.227 24 22.271V1.729C24 .774 23.2 0 22.222 0h.003z\"/>\n",
              "            </svg>\n",
              "            <span>Gastón Echenique</span>\n",
              "        </a>\n",
              "\n",
              "        <a href=\"https://github.com/oechenique\" target=\"_blank\" style=\"text-decoration: none; color: white; display: flex; align-items: center; background: #333; padding: 0.5rem 1rem; border-radius: 5px; transition: transform 0.2s;\">\n",
              "            <svg style=\"width: 24px; height: 24px; margin-right: 0.5rem;\" viewBox=\"0 0 24 24\" fill=\"currentColor\">\n",
              "                <path d=\"M12 0c-6.626 0-12 5.373-12 12 0 5.302 3.438 9.8 8.207 11.387.599.111.793-.261.793-.577v-2.234c-3.338.726-4.033-1.416-4.033-1.416-.546-1.387-1.333-1.756-1.333-1.756-1.089-.745.083-.729.083-.729 1.205.084 1.839 1.237 1.839 1.237 1.07 1.834 2.807 1.304 3.492.997.107-.775.418-1.305.762-1.604-2.665-.305-5.467-1.334-5.467-5.931 0-1.311.469-2.381 1.236-3.221-.124-.303-.535-1.524.117-3.176 0 0 1.008-.322 3.301 1.23.957-.266 1.983-.399 3.003-.404 1.02.005 2.047.138 3.006.404 2.291-1.552 3.297-1.23 3.297-1.23.653 1.653.242 2.874.118 3.176.77.84 1.235 1.911 1.235 3.221 0 4.609-2.807 5.624-5.479 5.921.43.372.823 1.102.823 2.222v3.293c0 .319.192.694.801.576 4.765-1.589 8.199-6.086 8.199-11.386 0-6.627-5.373-12-12-12z\"/>\n",
              "            </svg>\n",
              "            <span>oechenique</span>\n",
              "        </a>\n",
              "\n",
              "        <a href=\"https://oechenique.github.io/geoanalytics/\" target=\"_blank\" style=\"text-decoration: none; color: white; display: flex; align-items: center; background: #2ecc71; padding: 0.5rem 1rem; border-radius: 5px; transition: transform 0.2s;\">\n",
              "            <svg style=\"width: 24px; height: 24px; margin-right: 0.5rem;\" viewBox=\"0 0 24 24\" fill=\"currentColor\">\n",
              "                <path d=\"M12 0c-6.627 0-12 5.373-12 12s5.373 12 12 12 12-5.373 12-12-5.373-12-12-12zm1 16.057v-3.057h2.994c-.059 1.143-.212 2.24-.456 3.279-.823-.12-1.674-.188-2.538-.222zm1.957 2.162c-.499 1.33-1.159 2.497-1.957 3.456v-3.62c.666.028 1.319.081 1.957.164zm-1.957-7.219v-3.015c.868-.034 1.721-.103 2.548-.224.238 1.027.389 2.111.446 3.239h-2.994zm0-5.014v-3.661c.806.969 1.471 2.15 1.971 3.496-.642.084-1.3.137-1.971.165zm2.703-3.267c1.237.496 2.354 1.228 3.29 2.146-.642.234-1.311.442-2.019.607-.344-.992-.775-1.91-1.271-2.753zm-7.241 13.56c-.244-1.039-.398-2.136-.456-3.279h2.994v3.057c-.865.034-1.714.102-2.538.222zm2.538 1.776v3.62c-.798-.959-1.458-2.126-1.957-3.456.638-.083 1.291-.136 1.957-.164zm-2.994-7.055c.057-1.128.207-2.212.446-3.239.827.121 1.68.19 2.548.224v3.015h-2.994zm1.024-5.179c.5-1.346 1.165-2.527 1.97-3.496v3.661c-.671-.028-1.329-.081-1.97-.165zm-2.005-.35c-.708-.165-1.377-.373-2.018-.607.937-.918 2.053-1.65 3.29-2.146-.496.844-.927 1.762-1.272 2.753zm-.549 1.918c-.264 1.151-.434 2.36-.492 3.611h-3.933c.165-1.658.739-3.197 1.617-4.518.88.361 1.816.67 2.808.907zm.009 9.262c-.988.236-1.92.542-2.797.9-.89-1.328-1.471-2.879-1.637-4.551h3.934c.058 1.265.231 2.488.5 3.651zm.553 1.917c.342.976.768 1.881 1.257 2.712-1.223-.49-2.326-1.211-3.256-2.115.636-.229 1.299-.435 1.999-.597zm9.924 0c.7.163 1.362.367 1.999.597-.931.903-2.034 1.625-3.257 2.116.489-.832.915-1.737 1.258-2.713zm.553-1.917c.27-1.163.442-2.386.501-3.651h3.934c-.167 1.672-.748 3.223-1.638 4.551-.877-.358-1.81-.664-2.797-.9zm.501-5.651c-.058-1.251-.229-2.46-.492-3.611.992-.237 1.929-.546 2.809-.907.877 1.321 1.451 2.86 1.616 4.518h-3.933z\"/>\n",
              "            </svg>\n",
              "            <span>GeoAnalytics</span>\n",
              "        </a>\n",
              "\n",
              "        <a href=\"https://discord.com/users/gastonechenique\" target=\"_blank\" style=\"text-decoration: none; color: white; display: flex; align-items: center; background: #5865F2; padding: 0.5rem 1rem; border-radius: 5px; transition: transform 0.2s;\">\n",
              "            <svg style=\"width: 24px; height: 24px; margin-right: 0.5rem;\" viewBox=\"0 0 24 24\" fill=\"currentColor\">\n",
              "                <path d=\"M20.317 4.37a19.791 19.791 0 0 0-4.885-1.515a.074.074 0 0 0-.079.037c-.21.375-.444.864-.608 1.25a18.27 18.27 0 0 0-5.487 0a12.64 12.64 0 0 0-.617-1.25a.077.077 0 0 0-.079-.037A19.736 19.736 0 0 0 3.677 4.37a.07.07 0 0 0-.032.027C.533 9.046-.32 13.58.099 18.057a.082.082 0 0 0 .031.057a19.9 19.9 0 0 0 5.993 3.03a.078.078 0 0 0 .084-.028a14.09 14.09 0 0 0 1.226-1.994a.076.076 0 0 0-.041-.106a13.107 13.107 0 0 1-1.872-.892a.077.077 0 0 1-.008-.128a10.2 10.2 0 0 0 .372-.292a.074.074 0 0 1 .077-.01c3.928 1.793 8.18 1.793 12.062 0a.074.074 0 0 1 .078.01c.12.098.246.198.373.292a.077.077 0 0 1-.006.127a12.299 12.299 0 0 1-1.873.892a.077.077 0 0 0-.041.107c.36.698.772 1.362 1.225 1.993a.076.076 0 0 0 .084.028a19.839 19.839 0 0 0 6.002-3.03a.077.077 0 0 0 .032-.054c.5-5.177-.838-9.674-3.549-13.66a.061.061 0 0 0-.031-.03zM8.02 15.33c-1.183 0-2.157-1.085-2.157-2.419c0-1.333.956-2.419 2.157-2.419c1.21 0 2.176 1.096 2.157 2.42c0 1.333-.956 2.418-2.157 2.418zm7.975 0c-1.183 0-2.157-1.085-2.157-2.419c0-1.333.955-2.419 2.157-2.419c1.21 0 2.176 1.096 2.157 2.42c0 1.333-.946 2.418-2.157 2.418z\"/>\n",
              "            </svg>\n",
              "            <span>Gaston | ガストン</span>\n",
              "        </a>\n",
              "    </div>\n",
              "\n",
              "    <p style=\"font-size: 1rem; color: #888;\">💡 頑張りましょう！Don't miss more content about GIS, Data Science and Geoinformatics!</p>\n",
              "\n",
              "    <div style=\"margin-top: 1rem; padding-top: 1rem; border-top: 1px solid #444; font-size: 0.9rem; color: #666;\">\n",
              "        Made with 🗺️ & 💻 by Gaston Echenique | エチェニケ・ガストン\n",
              "    </div>\n",
              "</div>\n"
            ]
          },
          "metadata": {}
        }
      ]
    }
  ]
}