{
 "cells": [
  {
   "cell_type": "markdown",
   "id": "b4e96f87-496d-402c-bd88-2f9d956ed9fc",
   "metadata": {},
   "source": [
    "## Libaries"
   ]
  },
  {
   "cell_type": "code",
   "execution_count": 1,
   "id": "23af737c-d10b-4191-8f9b-7b21bb97650a",
   "metadata": {
    "scrolled": true
   },
   "outputs": [],
   "source": [
    "# Main libraries installation\n",
    "!pip install geopandas requests contextily geopy faker > nul"
   ]
  },
  {
   "cell_type": "code",
   "execution_count": 2,
   "id": "ee39ae14-746c-4ddb-b24c-7073156db65c",
   "metadata": {},
   "outputs": [],
   "source": [
    "# Import necessary libraries\n",
    "import random\n",
    "import geopy\n",
    "from geopy.geocoders import Nominatim\n",
    "from geopy.extra.rate_limiter import RateLimiter\n",
    "import geopandas as gpd      # For working with geospatial data\n",
    "import pandas as pd          # For data manipulation and analysis\n",
    "import os                    # For operating system-related functionality\n",
    "import io                    # For input/output operations\n",
    "import contextily as cx      # For basemaps and context tiles\n",
    "import matplotlib.pyplot as plt  # For creating visualizations\n",
    "from rasterio.crs import CRS  # For handling coordinate reference systems\n",
    "from math import sin, asin, fmod, pi\n",
    "import numpy as np\n",
    "import plotly.express as px  # Library for creating interactive visualizations\n",
    "from faker import Faker\n",
    "import string\n",
    "import plotly.io as pio  # Library for handling Plotly I/O\n",
    "from IPython.display import Image  # Library for displaying images in IPython environment\n",
    "pd.options.display.max_columns=None"
   ]
  },
  {
   "cell_type": "markdown",
   "id": "549d9c8d-45d9-44fc-8385-e38157910aa7",
   "metadata": {},
   "source": [
    "## Data Ingestion"
   ]
  },
  {
   "cell_type": "code",
   "execution_count": 3,
   "id": "d728dbd9",
   "metadata": {},
   "outputs": [
    {
     "data": {
      "text/html": [
       "<div>\n",
       "<style scoped>\n",
       "    .dataframe tbody tr th:only-of-type {\n",
       "        vertical-align: middle;\n",
       "    }\n",
       "\n",
       "    .dataframe tbody tr th {\n",
       "        vertical-align: top;\n",
       "    }\n",
       "\n",
       "    .dataframe thead th {\n",
       "        text-align: right;\n",
       "    }\n",
       "</style>\n",
       "<table border=\"1\" class=\"dataframe\">\n",
       "  <thead>\n",
       "    <tr style=\"text-align: right;\">\n",
       "      <th></th>\n",
       "      <th>Latitude</th>\n",
       "      <th>Longitude</th>\n",
       "      <th>User Code</th>\n",
       "    </tr>\n",
       "  </thead>\n",
       "  <tbody>\n",
       "    <tr>\n",
       "      <th>0</th>\n",
       "      <td>19.27934</td>\n",
       "      <td>-98.96953</td>\n",
       "      <td>tGbJy9OAmU</td>\n",
       "    </tr>\n",
       "    <tr>\n",
       "      <th>1</th>\n",
       "      <td>19.59892</td>\n",
       "      <td>-99.35482</td>\n",
       "      <td>DIBhWRZEQc</td>\n",
       "    </tr>\n",
       "    <tr>\n",
       "      <th>2</th>\n",
       "      <td>19.17519</td>\n",
       "      <td>-99.29773</td>\n",
       "      <td>YuQfvn7sag</td>\n",
       "    </tr>\n",
       "    <tr>\n",
       "      <th>3</th>\n",
       "      <td>19.48921</td>\n",
       "      <td>-99.09211</td>\n",
       "      <td>NvR2cVhO15</td>\n",
       "    </tr>\n",
       "    <tr>\n",
       "      <th>4</th>\n",
       "      <td>19.21433</td>\n",
       "      <td>-98.98875</td>\n",
       "      <td>FtNTDVApyQ</td>\n",
       "    </tr>\n",
       "  </tbody>\n",
       "</table>\n",
       "</div>"
      ],
      "text/plain": [
       "   Latitude  Longitude   User Code\n",
       "0  19.27934  -98.96953  tGbJy9OAmU\n",
       "1  19.59892  -99.35482  DIBhWRZEQc\n",
       "2  19.17519  -99.29773  YuQfvn7sag\n",
       "3  19.48921  -99.09211  NvR2cVhO15\n",
       "4  19.21433  -98.98875  FtNTDVApyQ"
      ]
     },
     "execution_count": 3,
     "metadata": {},
     "output_type": "execute_result"
    }
   ],
   "source": [
    "def generar_user_code():\n",
    "    caracteres = list(string.ascii_letters + string.digits)\n",
    "    random.shuffle(caracteres)\n",
    "    return ''.join(caracteres[:10])\n",
    "\n",
    "def generar_puntos_ciudad_mexico(cantidad):\n",
    "    latitud_min, latitud_max = 19.0, 19.6\n",
    "    longitud_min, longitud_max = -99.4, -98.9\n",
    "    puntos = []\n",
    "\n",
    "    for _ in range(cantidad):\n",
    "        # Generar coordenadas aleatorias\n",
    "        latitud = round(random.uniform(latitud_min, latitud_max), 5)\n",
    "        longitud = round(random.uniform(longitud_min, longitud_max), 5)\n",
    "        \n",
    "        # Generar User Code\n",
    "        user_code = generar_user_code()\n",
    "        \n",
    "        puntos.append((latitud, longitud, user_code))\n",
    "\n",
    "    return puntos\n",
    "\n",
    "# Generar 30 puntos en la Ciudad de México\n",
    "puntos_ciudad_mexico = generar_puntos_ciudad_mexico(500)\n",
    "\n",
    "# Crear un DataFrame con los puntos y User Code\n",
    "columnas = ['Latitude', 'Longitude', 'User Code']\n",
    "df = pd.DataFrame(puntos_ciudad_mexico, columns=columnas)\n",
    "\n",
    "df.head()"
   ]
  },
  {
   "cell_type": "markdown",
   "id": "3c663c0b-cb99-48ba-8969-ab7a79582676",
   "metadata": {},
   "source": [
    "## Data exploring"
   ]
  },
  {
   "cell_type": "code",
   "execution_count": 4,
   "id": "b674be02-41e2-423a-a663-470562435c1d",
   "metadata": {},
   "outputs": [],
   "source": [
    "# Convertimos latitud y longitud de coordenadas cartesianas a coordenadas geográficas\n",
    "df['lat'] = df['Latitude'].apply(lambda lat: asin(sin((lat/180.0)*pi)) * (180.0/pi))\n",
    "df['lon'] = df['Longitude'].apply(lambda lon: fmod(lon - 180.0, 360.0) + 180.0)"
   ]
  },
  {
   "cell_type": "code",
   "execution_count": 5,
   "id": "36cad7f0-d7bf-4603-aaf4-85e46aa99e79",
   "metadata": {
    "scrolled": true
   },
   "outputs": [],
   "source": [
    "# Unimos las coordenadas convertidas y las convertimos en una dirección humanamente legible\n",
    "locator = Nominatim(user_agent='my_app/0,1', timeout=76000)\n",
    "df['lat_lon'] = df['lat'].astype(str) + ',' + df['lon'].astype(str)\n",
    "df['location'] = df['lat_lon'].apply(lambda lat_lon:  locator.reverse(lat_lon, language='en'))"
   ]
  },
  {
   "cell_type": "code",
   "execution_count": 14,
   "id": "9f281e45-bf63-40b1-8991-29a8c7f3182b",
   "metadata": {
    "scrolled": true
   },
   "outputs": [
    {
     "data": {
      "text/html": [
       "<div>\n",
       "<style scoped>\n",
       "    .dataframe tbody tr th:only-of-type {\n",
       "        vertical-align: middle;\n",
       "    }\n",
       "\n",
       "    .dataframe tbody tr th {\n",
       "        vertical-align: top;\n",
       "    }\n",
       "\n",
       "    .dataframe thead th {\n",
       "        text-align: right;\n",
       "    }\n",
       "</style>\n",
       "<table border=\"1\" class=\"dataframe\">\n",
       "  <thead>\n",
       "    <tr style=\"text-align: right;\">\n",
       "      <th></th>\n",
       "      <th>Latitude</th>\n",
       "      <th>Longitude</th>\n",
       "      <th>User Code</th>\n",
       "      <th>lat</th>\n",
       "      <th>lon</th>\n",
       "      <th>lat_lon</th>\n",
       "      <th>calle</th>\n",
       "      <th>numero_casa</th>\n",
       "      <th>codigo_postal</th>\n",
       "      <th>amenity</th>\n",
       "      <th>vecindario</th>\n",
       "      <th>suburbio</th>\n",
       "      <th>estructura</th>\n",
       "      <th>vias_ferreas</th>\n",
       "      <th>autopista</th>\n",
       "      <th>aldea</th>\n",
       "      <th>villa</th>\n",
       "      <th>poblado</th>\n",
       "      <th>vivienda_aislada</th>\n",
       "      <th>asentamiento</th>\n",
       "      <th>zona_residencial</th>\n",
       "      <th>municipio</th>\n",
       "      <th>ciudad</th>\n",
       "      <th>distrito</th>\n",
       "      <th>provincia</th>\n",
       "      <th>region</th>\n",
       "      <th>condado</th>\n",
       "      <th>estado</th>\n",
       "      <th>distrito_estatal</th>\n",
       "      <th>pais</th>\n",
       "      <th>codigo_pais</th>\n",
       "      <th>pais_iso</th>\n",
       "      <th>subdistrito_iso</th>\n",
       "      <th>info_turistica</th>\n",
       "      <th>info_edilicia</th>\n",
       "      <th>info_oficina</th>\n",
       "      <th>info_tienda</th>\n",
       "      <th>info_industrial</th>\n",
       "      <th>info_historica</th>\n",
       "    </tr>\n",
       "  </thead>\n",
       "  <tbody>\n",
       "    <tr>\n",
       "      <th>0</th>\n",
       "      <td>19.27934</td>\n",
       "      <td>-98.96953</td>\n",
       "      <td>tGbJy9OAmU</td>\n",
       "      <td>19.27934</td>\n",
       "      <td>-98.96953</td>\n",
       "      <td>19.27934,-98.96953000000002</td>\n",
       "      <td>Calle Río Ameca</td>\n",
       "      <td>NaN</td>\n",
       "      <td>56613</td>\n",
       "      <td>NaN</td>\n",
       "      <td>Ampliación San Miguel Tláhuac</td>\n",
       "      <td>NaN</td>\n",
       "      <td>NaN</td>\n",
       "      <td>NaN</td>\n",
       "      <td>NaN</td>\n",
       "      <td>NaN</td>\n",
       "      <td>NaN</td>\n",
       "      <td>NaN</td>\n",
       "      <td>NaN</td>\n",
       "      <td>NaN</td>\n",
       "      <td>NaN</td>\n",
       "      <td>NaN</td>\n",
       "      <td>Valle de Chalco Solidaridad</td>\n",
       "      <td>NaN</td>\n",
       "      <td>NaN</td>\n",
       "      <td>NaN</td>\n",
       "      <td>NaN</td>\n",
       "      <td>State of Mexico</td>\n",
       "      <td>NaN</td>\n",
       "      <td>Mexico</td>\n",
       "      <td>mx</td>\n",
       "      <td>MX-MEX</td>\n",
       "      <td>NaN</td>\n",
       "      <td>NaN</td>\n",
       "      <td>NaN</td>\n",
       "      <td>NaN</td>\n",
       "      <td>NaN</td>\n",
       "      <td>NaN</td>\n",
       "      <td>NaN</td>\n",
       "    </tr>\n",
       "    <tr>\n",
       "      <th>1</th>\n",
       "      <td>19.59892</td>\n",
       "      <td>-99.35482</td>\n",
       "      <td>DIBhWRZEQc</td>\n",
       "      <td>19.59892</td>\n",
       "      <td>-99.35482</td>\n",
       "      <td>19.59892,-99.35482000000002</td>\n",
       "      <td>Las Palomas</td>\n",
       "      <td>NaN</td>\n",
       "      <td>54435</td>\n",
       "      <td>NaN</td>\n",
       "      <td>NaN</td>\n",
       "      <td>NaN</td>\n",
       "      <td>NaN</td>\n",
       "      <td>NaN</td>\n",
       "      <td>NaN</td>\n",
       "      <td>NaN</td>\n",
       "      <td>NaN</td>\n",
       "      <td>NaN</td>\n",
       "      <td>NaN</td>\n",
       "      <td>NaN</td>\n",
       "      <td>NaN</td>\n",
       "      <td>NaN</td>\n",
       "      <td>Nicolás Romero</td>\n",
       "      <td>NaN</td>\n",
       "      <td>NaN</td>\n",
       "      <td>NaN</td>\n",
       "      <td>Nicolás Romero</td>\n",
       "      <td>NaN</td>\n",
       "      <td>NaN</td>\n",
       "      <td>Mexico</td>\n",
       "      <td>mx</td>\n",
       "      <td>NaN</td>\n",
       "      <td>NaN</td>\n",
       "      <td>NaN</td>\n",
       "      <td>NaN</td>\n",
       "      <td>NaN</td>\n",
       "      <td>NaN</td>\n",
       "      <td>NaN</td>\n",
       "      <td>NaN</td>\n",
       "    </tr>\n",
       "    <tr>\n",
       "      <th>2</th>\n",
       "      <td>19.17519</td>\n",
       "      <td>-99.29773</td>\n",
       "      <td>YuQfvn7sag</td>\n",
       "      <td>19.17519</td>\n",
       "      <td>-99.29773</td>\n",
       "      <td>19.17519,-99.29773</td>\n",
       "      <td>NaN</td>\n",
       "      <td>NaN</td>\n",
       "      <td>52690</td>\n",
       "      <td>NaN</td>\n",
       "      <td>NaN</td>\n",
       "      <td>NaN</td>\n",
       "      <td>NaN</td>\n",
       "      <td>NaN</td>\n",
       "      <td>NaN</td>\n",
       "      <td>NaN</td>\n",
       "      <td>Las Cocinas</td>\n",
       "      <td>Xalatlaco</td>\n",
       "      <td>NaN</td>\n",
       "      <td>NaN</td>\n",
       "      <td>NaN</td>\n",
       "      <td>NaN</td>\n",
       "      <td>NaN</td>\n",
       "      <td>NaN</td>\n",
       "      <td>NaN</td>\n",
       "      <td>NaN</td>\n",
       "      <td>NaN</td>\n",
       "      <td>NaN</td>\n",
       "      <td>NaN</td>\n",
       "      <td>Mexico</td>\n",
       "      <td>mx</td>\n",
       "      <td>NaN</td>\n",
       "      <td>NaN</td>\n",
       "      <td>NaN</td>\n",
       "      <td>NaN</td>\n",
       "      <td>NaN</td>\n",
       "      <td>NaN</td>\n",
       "      <td>NaN</td>\n",
       "      <td>NaN</td>\n",
       "    </tr>\n",
       "    <tr>\n",
       "      <th>3</th>\n",
       "      <td>19.48921</td>\n",
       "      <td>-99.09211</td>\n",
       "      <td>NvR2cVhO15</td>\n",
       "      <td>19.48921</td>\n",
       "      <td>-99.09211</td>\n",
       "      <td>19.48921,-99.09210999999999</td>\n",
       "      <td>Calle 300-A</td>\n",
       "      <td>NaN</td>\n",
       "      <td>07420</td>\n",
       "      <td>NaN</td>\n",
       "      <td>Unidad Habitacional El Coyol</td>\n",
       "      <td>Gustavo A. Madero</td>\n",
       "      <td>NaN</td>\n",
       "      <td>NaN</td>\n",
       "      <td>NaN</td>\n",
       "      <td>NaN</td>\n",
       "      <td>NaN</td>\n",
       "      <td>NaN</td>\n",
       "      <td>NaN</td>\n",
       "      <td>NaN</td>\n",
       "      <td>NaN</td>\n",
       "      <td>NaN</td>\n",
       "      <td>Mexico City</td>\n",
       "      <td>NaN</td>\n",
       "      <td>NaN</td>\n",
       "      <td>NaN</td>\n",
       "      <td>NaN</td>\n",
       "      <td>NaN</td>\n",
       "      <td>NaN</td>\n",
       "      <td>Mexico</td>\n",
       "      <td>mx</td>\n",
       "      <td>MX-CMX</td>\n",
       "      <td>NaN</td>\n",
       "      <td>NaN</td>\n",
       "      <td>NaN</td>\n",
       "      <td>NaN</td>\n",
       "      <td>NaN</td>\n",
       "      <td>NaN</td>\n",
       "      <td>NaN</td>\n",
       "    </tr>\n",
       "    <tr>\n",
       "      <th>4</th>\n",
       "      <td>19.21433</td>\n",
       "      <td>-98.98875</td>\n",
       "      <td>FtNTDVApyQ</td>\n",
       "      <td>19.21433</td>\n",
       "      <td>-98.98875</td>\n",
       "      <td>19.214329999999997,-98.98874999999998</td>\n",
       "      <td>Cerrada Callejón de los Mecales</td>\n",
       "      <td>NaN</td>\n",
       "      <td>12100</td>\n",
       "      <td>NaN</td>\n",
       "      <td>NaN</td>\n",
       "      <td>NaN</td>\n",
       "      <td>NaN</td>\n",
       "      <td>NaN</td>\n",
       "      <td>NaN</td>\n",
       "      <td>NaN</td>\n",
       "      <td>NaN</td>\n",
       "      <td>Milpa Alta</td>\n",
       "      <td>NaN</td>\n",
       "      <td>San Antonio Tecómitl</td>\n",
       "      <td>NaN</td>\n",
       "      <td>NaN</td>\n",
       "      <td>Mexico City</td>\n",
       "      <td>NaN</td>\n",
       "      <td>NaN</td>\n",
       "      <td>NaN</td>\n",
       "      <td>NaN</td>\n",
       "      <td>NaN</td>\n",
       "      <td>NaN</td>\n",
       "      <td>Mexico</td>\n",
       "      <td>mx</td>\n",
       "      <td>MX-CMX</td>\n",
       "      <td>NaN</td>\n",
       "      <td>NaN</td>\n",
       "      <td>NaN</td>\n",
       "      <td>NaN</td>\n",
       "      <td>NaN</td>\n",
       "      <td>NaN</td>\n",
       "      <td>NaN</td>\n",
       "    </tr>\n",
       "  </tbody>\n",
       "</table>\n",
       "</div>"
      ],
      "text/plain": [
       "   Latitude  Longitude   User Code       lat       lon  \\\n",
       "0  19.27934  -98.96953  tGbJy9OAmU  19.27934 -98.96953   \n",
       "1  19.59892  -99.35482  DIBhWRZEQc  19.59892 -99.35482   \n",
       "2  19.17519  -99.29773  YuQfvn7sag  19.17519 -99.29773   \n",
       "3  19.48921  -99.09211  NvR2cVhO15  19.48921 -99.09211   \n",
       "4  19.21433  -98.98875  FtNTDVApyQ  19.21433 -98.98875   \n",
       "\n",
       "                                 lat_lon                            calle  \\\n",
       "0            19.27934,-98.96953000000002                  Calle Río Ameca   \n",
       "1            19.59892,-99.35482000000002                      Las Palomas   \n",
       "2                     19.17519,-99.29773                              NaN   \n",
       "3            19.48921,-99.09210999999999                      Calle 300-A   \n",
       "4  19.214329999999997,-98.98874999999998  Cerrada Callejón de los Mecales   \n",
       "\n",
       "  numero_casa codigo_postal amenity                     vecindario  \\\n",
       "0         NaN         56613     NaN  Ampliación San Miguel Tláhuac   \n",
       "1         NaN         54435     NaN                            NaN   \n",
       "2         NaN         52690     NaN                            NaN   \n",
       "3         NaN         07420     NaN   Unidad Habitacional El Coyol   \n",
       "4         NaN         12100     NaN                            NaN   \n",
       "\n",
       "            suburbio estructura  vias_ferreas  autopista aldea        villa  \\\n",
       "0                NaN        NaN           NaN        NaN   NaN          NaN   \n",
       "1                NaN        NaN           NaN        NaN   NaN          NaN   \n",
       "2                NaN        NaN           NaN        NaN   NaN  Las Cocinas   \n",
       "3  Gustavo A. Madero        NaN           NaN        NaN   NaN          NaN   \n",
       "4                NaN        NaN           NaN        NaN   NaN          NaN   \n",
       "\n",
       "      poblado  vivienda_aislada          asentamiento zona_residencial  \\\n",
       "0         NaN               NaN                   NaN              NaN   \n",
       "1         NaN               NaN                   NaN              NaN   \n",
       "2   Xalatlaco               NaN                   NaN              NaN   \n",
       "3         NaN               NaN                   NaN              NaN   \n",
       "4  Milpa Alta               NaN  San Antonio Tecómitl              NaN   \n",
       "\n",
       "   municipio                       ciudad distrito  provincia  region  \\\n",
       "0        NaN  Valle de Chalco Solidaridad      NaN        NaN     NaN   \n",
       "1        NaN               Nicolás Romero      NaN        NaN     NaN   \n",
       "2        NaN                          NaN      NaN        NaN     NaN   \n",
       "3        NaN                  Mexico City      NaN        NaN     NaN   \n",
       "4        NaN                  Mexico City      NaN        NaN     NaN   \n",
       "\n",
       "          condado           estado  distrito_estatal    pais codigo_pais  \\\n",
       "0             NaN  State of Mexico               NaN  Mexico          mx   \n",
       "1  Nicolás Romero              NaN               NaN  Mexico          mx   \n",
       "2             NaN              NaN               NaN  Mexico          mx   \n",
       "3             NaN              NaN               NaN  Mexico          mx   \n",
       "4             NaN              NaN               NaN  Mexico          mx   \n",
       "\n",
       "  pais_iso  subdistrito_iso info_turistica info_edilicia  info_oficina  \\\n",
       "0   MX-MEX              NaN            NaN           NaN           NaN   \n",
       "1      NaN              NaN            NaN           NaN           NaN   \n",
       "2      NaN              NaN            NaN           NaN           NaN   \n",
       "3   MX-CMX              NaN            NaN           NaN           NaN   \n",
       "4   MX-CMX              NaN            NaN           NaN           NaN   \n",
       "\n",
       "  info_tienda info_industrial  info_historica  \n",
       "0         NaN             NaN             NaN  \n",
       "1         NaN             NaN             NaN  \n",
       "2         NaN             NaN             NaN  \n",
       "3         NaN             NaN             NaN  \n",
       "4         NaN             NaN             NaN  "
      ]
     },
     "execution_count": 14,
     "metadata": {},
     "output_type": "execute_result"
    }
   ],
   "source": [
    "df.head()"
   ]
  },
  {
   "cell_type": "code",
   "execution_count": 15,
   "id": "cafbde26-7ad9-4327-a1c2-09040f4a8cbe",
   "metadata": {},
   "outputs": [
    {
     "ename": "KeyError",
     "evalue": "'location'",
     "output_type": "error",
     "traceback": [
      "\u001b[1;31m---------------------------------------------------------------------------\u001b[0m",
      "\u001b[1;31mKeyError\u001b[0m                                  Traceback (most recent call last)",
      "File \u001b[1;32m~\\AppData\\Roaming\\Python\\Python310\\site-packages\\pandas\\core\\indexes\\base.py:3803\u001b[0m, in \u001b[0;36mIndex.get_loc\u001b[1;34m(self, key, method, tolerance)\u001b[0m\n\u001b[0;32m   3802\u001b[0m \u001b[38;5;28;01mtry\u001b[39;00m:\n\u001b[1;32m-> 3803\u001b[0m     \u001b[38;5;28;01mreturn\u001b[39;00m \u001b[38;5;28;43mself\u001b[39;49m\u001b[38;5;241;43m.\u001b[39;49m\u001b[43m_engine\u001b[49m\u001b[38;5;241;43m.\u001b[39;49m\u001b[43mget_loc\u001b[49m\u001b[43m(\u001b[49m\u001b[43mcasted_key\u001b[49m\u001b[43m)\u001b[49m\n\u001b[0;32m   3804\u001b[0m \u001b[38;5;28;01mexcept\u001b[39;00m \u001b[38;5;167;01mKeyError\u001b[39;00m \u001b[38;5;28;01mas\u001b[39;00m err:\n",
      "File \u001b[1;32m~\\AppData\\Roaming\\Python\\Python310\\site-packages\\pandas\\_libs\\index.pyx:138\u001b[0m, in \u001b[0;36mpandas._libs.index.IndexEngine.get_loc\u001b[1;34m()\u001b[0m\n",
      "File \u001b[1;32m~\\AppData\\Roaming\\Python\\Python310\\site-packages\\pandas\\_libs\\index.pyx:165\u001b[0m, in \u001b[0;36mpandas._libs.index.IndexEngine.get_loc\u001b[1;34m()\u001b[0m\n",
      "File \u001b[1;32mpandas\\_libs\\hashtable_class_helper.pxi:5745\u001b[0m, in \u001b[0;36mpandas._libs.hashtable.PyObjectHashTable.get_item\u001b[1;34m()\u001b[0m\n",
      "File \u001b[1;32mpandas\\_libs\\hashtable_class_helper.pxi:5753\u001b[0m, in \u001b[0;36mpandas._libs.hashtable.PyObjectHashTable.get_item\u001b[1;34m()\u001b[0m\n",
      "\u001b[1;31mKeyError\u001b[0m: 'location'",
      "\nThe above exception was the direct cause of the following exception:\n",
      "\u001b[1;31mKeyError\u001b[0m                                  Traceback (most recent call last)",
      "Cell \u001b[1;32mIn [15], line 1\u001b[0m\n\u001b[1;32m----> 1\u001b[0m df[\u001b[38;5;124m'\u001b[39m\u001b[38;5;124mdirección\u001b[39m\u001b[38;5;124m'\u001b[39m] \u001b[38;5;241m=\u001b[39m \u001b[43mdf\u001b[49m\u001b[43m[\u001b[49m\u001b[38;5;124;43m'\u001b[39;49m\u001b[38;5;124;43mlocation\u001b[39;49m\u001b[38;5;124;43m'\u001b[39;49m\u001b[43m]\u001b[49m\u001b[38;5;241m.\u001b[39mapply(\u001b[38;5;28;01mlambda\u001b[39;00m loc: loc\u001b[38;5;241m.\u001b[39mraw[\u001b[38;5;124m'\u001b[39m\u001b[38;5;124maddress\u001b[39m\u001b[38;5;124m'\u001b[39m])\n",
      "File \u001b[1;32m~\\AppData\\Roaming\\Python\\Python310\\site-packages\\pandas\\core\\frame.py:3804\u001b[0m, in \u001b[0;36mDataFrame.__getitem__\u001b[1;34m(self, key)\u001b[0m\n\u001b[0;32m   3802\u001b[0m \u001b[38;5;28;01mif\u001b[39;00m \u001b[38;5;28mself\u001b[39m\u001b[38;5;241m.\u001b[39mcolumns\u001b[38;5;241m.\u001b[39mnlevels \u001b[38;5;241m>\u001b[39m \u001b[38;5;241m1\u001b[39m:\n\u001b[0;32m   3803\u001b[0m     \u001b[38;5;28;01mreturn\u001b[39;00m \u001b[38;5;28mself\u001b[39m\u001b[38;5;241m.\u001b[39m_getitem_multilevel(key)\n\u001b[1;32m-> 3804\u001b[0m indexer \u001b[38;5;241m=\u001b[39m \u001b[38;5;28;43mself\u001b[39;49m\u001b[38;5;241;43m.\u001b[39;49m\u001b[43mcolumns\u001b[49m\u001b[38;5;241;43m.\u001b[39;49m\u001b[43mget_loc\u001b[49m\u001b[43m(\u001b[49m\u001b[43mkey\u001b[49m\u001b[43m)\u001b[49m\n\u001b[0;32m   3805\u001b[0m \u001b[38;5;28;01mif\u001b[39;00m is_integer(indexer):\n\u001b[0;32m   3806\u001b[0m     indexer \u001b[38;5;241m=\u001b[39m [indexer]\n",
      "File \u001b[1;32m~\\AppData\\Roaming\\Python\\Python310\\site-packages\\pandas\\core\\indexes\\base.py:3805\u001b[0m, in \u001b[0;36mIndex.get_loc\u001b[1;34m(self, key, method, tolerance)\u001b[0m\n\u001b[0;32m   3803\u001b[0m     \u001b[38;5;28;01mreturn\u001b[39;00m \u001b[38;5;28mself\u001b[39m\u001b[38;5;241m.\u001b[39m_engine\u001b[38;5;241m.\u001b[39mget_loc(casted_key)\n\u001b[0;32m   3804\u001b[0m \u001b[38;5;28;01mexcept\u001b[39;00m \u001b[38;5;167;01mKeyError\u001b[39;00m \u001b[38;5;28;01mas\u001b[39;00m err:\n\u001b[1;32m-> 3805\u001b[0m     \u001b[38;5;28;01mraise\u001b[39;00m \u001b[38;5;167;01mKeyError\u001b[39;00m(key) \u001b[38;5;28;01mfrom\u001b[39;00m \u001b[38;5;21;01merr\u001b[39;00m\n\u001b[0;32m   3806\u001b[0m \u001b[38;5;28;01mexcept\u001b[39;00m \u001b[38;5;167;01mTypeError\u001b[39;00m:\n\u001b[0;32m   3807\u001b[0m     \u001b[38;5;66;03m# If we have a listlike key, _check_indexing_error will raise\u001b[39;00m\n\u001b[0;32m   3808\u001b[0m     \u001b[38;5;66;03m#  InvalidIndexError. Otherwise we fall through and re-raise\u001b[39;00m\n\u001b[0;32m   3809\u001b[0m     \u001b[38;5;66;03m#  the TypeError.\u001b[39;00m\n\u001b[0;32m   3810\u001b[0m     \u001b[38;5;28mself\u001b[39m\u001b[38;5;241m.\u001b[39m_check_indexing_error(key)\n",
      "\u001b[1;31mKeyError\u001b[0m: 'location'"
     ]
    }
   ],
   "source": [
    "df['dirección'] = df['location'].apply(lambda loc: loc.raw['address'])"
   ]
  },
  {
   "cell_type": "code",
   "execution_count": 16,
   "id": "7e4c7d8f",
   "metadata": {},
   "outputs": [
    {
     "ename": "KeyError",
     "evalue": "'dirección'",
     "output_type": "error",
     "traceback": [
      "\u001b[1;31m---------------------------------------------------------------------------\u001b[0m",
      "\u001b[1;31mKeyError\u001b[0m                                  Traceback (most recent call last)",
      "File \u001b[1;32m~\\AppData\\Roaming\\Python\\Python310\\site-packages\\pandas\\core\\indexes\\base.py:3803\u001b[0m, in \u001b[0;36mIndex.get_loc\u001b[1;34m(self, key, method, tolerance)\u001b[0m\n\u001b[0;32m   3802\u001b[0m \u001b[38;5;28;01mtry\u001b[39;00m:\n\u001b[1;32m-> 3803\u001b[0m     \u001b[38;5;28;01mreturn\u001b[39;00m \u001b[38;5;28;43mself\u001b[39;49m\u001b[38;5;241;43m.\u001b[39;49m\u001b[43m_engine\u001b[49m\u001b[38;5;241;43m.\u001b[39;49m\u001b[43mget_loc\u001b[49m\u001b[43m(\u001b[49m\u001b[43mcasted_key\u001b[49m\u001b[43m)\u001b[49m\n\u001b[0;32m   3804\u001b[0m \u001b[38;5;28;01mexcept\u001b[39;00m \u001b[38;5;167;01mKeyError\u001b[39;00m \u001b[38;5;28;01mas\u001b[39;00m err:\n",
      "File \u001b[1;32m~\\AppData\\Roaming\\Python\\Python310\\site-packages\\pandas\\_libs\\index.pyx:138\u001b[0m, in \u001b[0;36mpandas._libs.index.IndexEngine.get_loc\u001b[1;34m()\u001b[0m\n",
      "File \u001b[1;32m~\\AppData\\Roaming\\Python\\Python310\\site-packages\\pandas\\_libs\\index.pyx:165\u001b[0m, in \u001b[0;36mpandas._libs.index.IndexEngine.get_loc\u001b[1;34m()\u001b[0m\n",
      "File \u001b[1;32mpandas\\_libs\\hashtable_class_helper.pxi:5745\u001b[0m, in \u001b[0;36mpandas._libs.hashtable.PyObjectHashTable.get_item\u001b[1;34m()\u001b[0m\n",
      "File \u001b[1;32mpandas\\_libs\\hashtable_class_helper.pxi:5753\u001b[0m, in \u001b[0;36mpandas._libs.hashtable.PyObjectHashTable.get_item\u001b[1;34m()\u001b[0m\n",
      "\u001b[1;31mKeyError\u001b[0m: 'dirección'",
      "\nThe above exception was the direct cause of the following exception:\n",
      "\u001b[1;31mKeyError\u001b[0m                                  Traceback (most recent call last)",
      "Cell \u001b[1;32mIn [16], line 2\u001b[0m\n\u001b[0;32m      1\u001b[0m \u001b[38;5;66;03m# Utilizamos el json con direcciones y convertimos cada atributo en columna\u001b[39;00m\n\u001b[1;32m----> 2\u001b[0m df[\u001b[38;5;124m'\u001b[39m\u001b[38;5;124mcalle\u001b[39m\u001b[38;5;124m'\u001b[39m] \u001b[38;5;241m=\u001b[39m \u001b[43mdf\u001b[49m\u001b[43m[\u001b[49m\u001b[38;5;124;43m'\u001b[39;49m\u001b[38;5;124;43mdirección\u001b[39;49m\u001b[38;5;124;43m'\u001b[39;49m\u001b[43m]\u001b[49m\u001b[38;5;241m.\u001b[39mapply(\u001b[38;5;28;01mlambda\u001b[39;00m addr: addr\u001b[38;5;241m.\u001b[39mget(\u001b[38;5;124m'\u001b[39m\u001b[38;5;124mroad\u001b[39m\u001b[38;5;124m'\u001b[39m, np\u001b[38;5;241m.\u001b[39mnan))\n\u001b[0;32m      3\u001b[0m df[\u001b[38;5;124m'\u001b[39m\u001b[38;5;124mnumero_casa\u001b[39m\u001b[38;5;124m'\u001b[39m] \u001b[38;5;241m=\u001b[39m df[\u001b[38;5;124m'\u001b[39m\u001b[38;5;124mdirección\u001b[39m\u001b[38;5;124m'\u001b[39m]\u001b[38;5;241m.\u001b[39mapply(\u001b[38;5;28;01mlambda\u001b[39;00m addr: addr\u001b[38;5;241m.\u001b[39mget(\u001b[38;5;124m'\u001b[39m\u001b[38;5;124mhouse_number\u001b[39m\u001b[38;5;124m'\u001b[39m, np\u001b[38;5;241m.\u001b[39mnan))\n\u001b[0;32m      4\u001b[0m df[\u001b[38;5;124m'\u001b[39m\u001b[38;5;124mcodigo_postal\u001b[39m\u001b[38;5;124m'\u001b[39m] \u001b[38;5;241m=\u001b[39m df[\u001b[38;5;124m'\u001b[39m\u001b[38;5;124mdirección\u001b[39m\u001b[38;5;124m'\u001b[39m]\u001b[38;5;241m.\u001b[39mapply(\u001b[38;5;28;01mlambda\u001b[39;00m addr: addr\u001b[38;5;241m.\u001b[39mget(\u001b[38;5;124m'\u001b[39m\u001b[38;5;124mpostcode\u001b[39m\u001b[38;5;124m'\u001b[39m, np\u001b[38;5;241m.\u001b[39mnan))\n",
      "File \u001b[1;32m~\\AppData\\Roaming\\Python\\Python310\\site-packages\\pandas\\core\\frame.py:3804\u001b[0m, in \u001b[0;36mDataFrame.__getitem__\u001b[1;34m(self, key)\u001b[0m\n\u001b[0;32m   3802\u001b[0m \u001b[38;5;28;01mif\u001b[39;00m \u001b[38;5;28mself\u001b[39m\u001b[38;5;241m.\u001b[39mcolumns\u001b[38;5;241m.\u001b[39mnlevels \u001b[38;5;241m>\u001b[39m \u001b[38;5;241m1\u001b[39m:\n\u001b[0;32m   3803\u001b[0m     \u001b[38;5;28;01mreturn\u001b[39;00m \u001b[38;5;28mself\u001b[39m\u001b[38;5;241m.\u001b[39m_getitem_multilevel(key)\n\u001b[1;32m-> 3804\u001b[0m indexer \u001b[38;5;241m=\u001b[39m \u001b[38;5;28;43mself\u001b[39;49m\u001b[38;5;241;43m.\u001b[39;49m\u001b[43mcolumns\u001b[49m\u001b[38;5;241;43m.\u001b[39;49m\u001b[43mget_loc\u001b[49m\u001b[43m(\u001b[49m\u001b[43mkey\u001b[49m\u001b[43m)\u001b[49m\n\u001b[0;32m   3805\u001b[0m \u001b[38;5;28;01mif\u001b[39;00m is_integer(indexer):\n\u001b[0;32m   3806\u001b[0m     indexer \u001b[38;5;241m=\u001b[39m [indexer]\n",
      "File \u001b[1;32m~\\AppData\\Roaming\\Python\\Python310\\site-packages\\pandas\\core\\indexes\\base.py:3805\u001b[0m, in \u001b[0;36mIndex.get_loc\u001b[1;34m(self, key, method, tolerance)\u001b[0m\n\u001b[0;32m   3803\u001b[0m     \u001b[38;5;28;01mreturn\u001b[39;00m \u001b[38;5;28mself\u001b[39m\u001b[38;5;241m.\u001b[39m_engine\u001b[38;5;241m.\u001b[39mget_loc(casted_key)\n\u001b[0;32m   3804\u001b[0m \u001b[38;5;28;01mexcept\u001b[39;00m \u001b[38;5;167;01mKeyError\u001b[39;00m \u001b[38;5;28;01mas\u001b[39;00m err:\n\u001b[1;32m-> 3805\u001b[0m     \u001b[38;5;28;01mraise\u001b[39;00m \u001b[38;5;167;01mKeyError\u001b[39;00m(key) \u001b[38;5;28;01mfrom\u001b[39;00m \u001b[38;5;21;01merr\u001b[39;00m\n\u001b[0;32m   3806\u001b[0m \u001b[38;5;28;01mexcept\u001b[39;00m \u001b[38;5;167;01mTypeError\u001b[39;00m:\n\u001b[0;32m   3807\u001b[0m     \u001b[38;5;66;03m# If we have a listlike key, _check_indexing_error will raise\u001b[39;00m\n\u001b[0;32m   3808\u001b[0m     \u001b[38;5;66;03m#  InvalidIndexError. Otherwise we fall through and re-raise\u001b[39;00m\n\u001b[0;32m   3809\u001b[0m     \u001b[38;5;66;03m#  the TypeError.\u001b[39;00m\n\u001b[0;32m   3810\u001b[0m     \u001b[38;5;28mself\u001b[39m\u001b[38;5;241m.\u001b[39m_check_indexing_error(key)\n",
      "\u001b[1;31mKeyError\u001b[0m: 'dirección'"
     ]
    }
   ],
   "source": [
    "# Utilizamos el json con direcciones y convertimos cada atributo en columna\n",
    "df['calle'] = df['dirección'].apply(lambda addr: addr.get('road', np.nan))\n",
    "df['numero_casa'] = df['dirección'].apply(lambda addr: addr.get('house_number', np.nan))\n",
    "df['codigo_postal'] = df['dirección'].apply(lambda addr: addr.get('postcode', np.nan))\n",
    "df['amenity'] = df['dirección'].apply(lambda addr: addr.get('amenity', np.nan))\n",
    "df['vecindario'] = df['dirección'].apply(lambda addr: addr.get('neighbourhood', np.nan))\n",
    "df['suburbio'] = df['dirección'].apply(lambda addr: addr.get('suburb', np.nan))\n",
    "df['estructura'] = df['dirección'].apply(lambda addr: addr.get('man_made', np.nan))\n",
    "df['vias_ferreas'] = df['dirección'].apply(lambda addr: addr.get('railway', np.nan))\n",
    "df['autopista'] = df['dirección'].apply(lambda addr: addr.get('highway', np.nan))\n",
    "df['aldea'] = df['dirección'].apply(lambda addr: addr.get('hamlet', np.nan))\n",
    "df['villa'] = df['dirección'].apply(lambda addr: addr.get('village', np.nan))\n",
    "df['poblado'] = df['dirección'].apply(lambda addr: addr.get('town', np.nan))\n",
    "df['vivienda_aislada'] = df['dirección'].apply(lambda addr: addr.get('isolated_dwelling', np.nan))\n",
    "df['asentamiento'] = df['dirección'].apply(lambda addr: addr.get('quarter', np.nan))\n",
    "df['zona_residencial'] = df['dirección'].apply(lambda addr: addr.get('residential', np.nan))\n",
    "df['municipio'] = df['dirección'].apply(lambda addr: addr.get('municipality', np.nan))\n",
    "df['ciudad'] = df['dirección'].apply(lambda addr: addr.get('city', np.nan))\n",
    "df['distrito'] = df['dirección'].apply(lambda addr: addr.get('city_district', np.nan))\n",
    "df['provincia'] = df['dirección'].apply(lambda addr: addr.get('province', np.nan))\n",
    "df['region'] = df['dirección'].apply(lambda addr: addr.get('region', np.nan))\n",
    "df['condado'] = df['dirección'].apply(lambda addr: addr.get('county', np.nan))\n",
    "df['estado'] = df['dirección'].apply(lambda addr: addr.get('state', np.nan))\n",
    "df['distrito_estatal'] = df['dirección'].apply(lambda addr: addr.get('state_district', np.nan))\n",
    "df['pais'] = df['dirección'].apply(lambda addr: addr.get('country', np.nan))\n",
    "df['codigo_pais'] = df['dirección'].apply(lambda addr: addr.get('country_code', np.nan))\n",
    "df['pais_iso'] = df['dirección'].apply(lambda addr: addr.get('ISO3166-2-lvl4', np.nan))\n",
    "df['subdistrito_iso'] = df['dirección'].apply(lambda addr: addr.get('ISO3166-2-lvl15', np.nan))\n",
    "df['info_turistica'] = df['dirección'].apply(lambda addr: addr.get('tourism', np.nan))\n",
    "df['info_edilicia'] = df['dirección'].apply(lambda addr: addr.get('building', np.nan))\n",
    "df['info_oficina'] = df['dirección'].apply(lambda addr: addr.get('office', np.nan))\n",
    "df['info_tienda'] = df['dirección'].apply(lambda addr: addr.get('shop', np.nan))\n",
    "df['info_industrial'] = df['dirección'].apply(lambda addr: addr.get('industrial', np.nan))\n",
    "df['info_historica'] = df['dirección'].apply(lambda addr: addr.get('historic', np.nan))"
   ]
  },
  {
   "cell_type": "code",
   "execution_count": 9,
   "id": "2b3161c8",
   "metadata": {},
   "outputs": [],
   "source": [
    "# Dropeamos las columnas tipo json para poder exportar y viausalizar el df\n",
    "df=df.drop(['location', 'dirección'], axis=1)"
   ]
  },
  {
   "cell_type": "code",
   "execution_count": 10,
   "id": "4737462e",
   "metadata": {},
   "outputs": [
    {
     "data": {
      "text/html": [
       "<div>\n",
       "<style scoped>\n",
       "    .dataframe tbody tr th:only-of-type {\n",
       "        vertical-align: middle;\n",
       "    }\n",
       "\n",
       "    .dataframe tbody tr th {\n",
       "        vertical-align: top;\n",
       "    }\n",
       "\n",
       "    .dataframe thead th {\n",
       "        text-align: right;\n",
       "    }\n",
       "</style>\n",
       "<table border=\"1\" class=\"dataframe\">\n",
       "  <thead>\n",
       "    <tr style=\"text-align: right;\">\n",
       "      <th></th>\n",
       "      <th>Latitude</th>\n",
       "      <th>Longitude</th>\n",
       "      <th>User Code</th>\n",
       "      <th>lat</th>\n",
       "      <th>lon</th>\n",
       "      <th>lat_lon</th>\n",
       "      <th>calle</th>\n",
       "      <th>numero_casa</th>\n",
       "      <th>codigo_postal</th>\n",
       "      <th>amenity</th>\n",
       "      <th>vecindario</th>\n",
       "      <th>suburbio</th>\n",
       "      <th>estructura</th>\n",
       "      <th>vias_ferreas</th>\n",
       "      <th>autopista</th>\n",
       "      <th>aldea</th>\n",
       "      <th>villa</th>\n",
       "      <th>poblado</th>\n",
       "      <th>vivienda_aislada</th>\n",
       "      <th>asentamiento</th>\n",
       "      <th>zona_residencial</th>\n",
       "      <th>municipio</th>\n",
       "      <th>ciudad</th>\n",
       "      <th>distrito</th>\n",
       "      <th>provincia</th>\n",
       "      <th>region</th>\n",
       "      <th>condado</th>\n",
       "      <th>estado</th>\n",
       "      <th>distrito_estatal</th>\n",
       "      <th>pais</th>\n",
       "      <th>codigo_pais</th>\n",
       "      <th>pais_iso</th>\n",
       "      <th>subdistrito_iso</th>\n",
       "      <th>info_turistica</th>\n",
       "      <th>info_edilicia</th>\n",
       "      <th>info_oficina</th>\n",
       "      <th>info_tienda</th>\n",
       "      <th>info_industrial</th>\n",
       "      <th>info_historica</th>\n",
       "    </tr>\n",
       "  </thead>\n",
       "  <tbody>\n",
       "    <tr>\n",
       "      <th>0</th>\n",
       "      <td>19.27934</td>\n",
       "      <td>-98.96953</td>\n",
       "      <td>tGbJy9OAmU</td>\n",
       "      <td>19.27934</td>\n",
       "      <td>-98.96953</td>\n",
       "      <td>19.27934,-98.96953000000002</td>\n",
       "      <td>Calle Río Ameca</td>\n",
       "      <td>NaN</td>\n",
       "      <td>56613</td>\n",
       "      <td>NaN</td>\n",
       "      <td>Ampliación San Miguel Tláhuac</td>\n",
       "      <td>NaN</td>\n",
       "      <td>NaN</td>\n",
       "      <td>NaN</td>\n",
       "      <td>NaN</td>\n",
       "      <td>NaN</td>\n",
       "      <td>NaN</td>\n",
       "      <td>NaN</td>\n",
       "      <td>NaN</td>\n",
       "      <td>NaN</td>\n",
       "      <td>NaN</td>\n",
       "      <td>NaN</td>\n",
       "      <td>Valle de Chalco Solidaridad</td>\n",
       "      <td>NaN</td>\n",
       "      <td>NaN</td>\n",
       "      <td>NaN</td>\n",
       "      <td>NaN</td>\n",
       "      <td>State of Mexico</td>\n",
       "      <td>NaN</td>\n",
       "      <td>Mexico</td>\n",
       "      <td>mx</td>\n",
       "      <td>MX-MEX</td>\n",
       "      <td>NaN</td>\n",
       "      <td>NaN</td>\n",
       "      <td>NaN</td>\n",
       "      <td>NaN</td>\n",
       "      <td>NaN</td>\n",
       "      <td>NaN</td>\n",
       "      <td>NaN</td>\n",
       "    </tr>\n",
       "    <tr>\n",
       "      <th>1</th>\n",
       "      <td>19.59892</td>\n",
       "      <td>-99.35482</td>\n",
       "      <td>DIBhWRZEQc</td>\n",
       "      <td>19.59892</td>\n",
       "      <td>-99.35482</td>\n",
       "      <td>19.59892,-99.35482000000002</td>\n",
       "      <td>Las Palomas</td>\n",
       "      <td>NaN</td>\n",
       "      <td>54435</td>\n",
       "      <td>NaN</td>\n",
       "      <td>NaN</td>\n",
       "      <td>NaN</td>\n",
       "      <td>NaN</td>\n",
       "      <td>NaN</td>\n",
       "      <td>NaN</td>\n",
       "      <td>NaN</td>\n",
       "      <td>NaN</td>\n",
       "      <td>NaN</td>\n",
       "      <td>NaN</td>\n",
       "      <td>NaN</td>\n",
       "      <td>NaN</td>\n",
       "      <td>NaN</td>\n",
       "      <td>Nicolás Romero</td>\n",
       "      <td>NaN</td>\n",
       "      <td>NaN</td>\n",
       "      <td>NaN</td>\n",
       "      <td>Nicolás Romero</td>\n",
       "      <td>NaN</td>\n",
       "      <td>NaN</td>\n",
       "      <td>Mexico</td>\n",
       "      <td>mx</td>\n",
       "      <td>NaN</td>\n",
       "      <td>NaN</td>\n",
       "      <td>NaN</td>\n",
       "      <td>NaN</td>\n",
       "      <td>NaN</td>\n",
       "      <td>NaN</td>\n",
       "      <td>NaN</td>\n",
       "      <td>NaN</td>\n",
       "    </tr>\n",
       "    <tr>\n",
       "      <th>2</th>\n",
       "      <td>19.17519</td>\n",
       "      <td>-99.29773</td>\n",
       "      <td>YuQfvn7sag</td>\n",
       "      <td>19.17519</td>\n",
       "      <td>-99.29773</td>\n",
       "      <td>19.17519,-99.29773</td>\n",
       "      <td>NaN</td>\n",
       "      <td>NaN</td>\n",
       "      <td>52690</td>\n",
       "      <td>NaN</td>\n",
       "      <td>NaN</td>\n",
       "      <td>NaN</td>\n",
       "      <td>NaN</td>\n",
       "      <td>NaN</td>\n",
       "      <td>NaN</td>\n",
       "      <td>NaN</td>\n",
       "      <td>Las Cocinas</td>\n",
       "      <td>Xalatlaco</td>\n",
       "      <td>NaN</td>\n",
       "      <td>NaN</td>\n",
       "      <td>NaN</td>\n",
       "      <td>NaN</td>\n",
       "      <td>NaN</td>\n",
       "      <td>NaN</td>\n",
       "      <td>NaN</td>\n",
       "      <td>NaN</td>\n",
       "      <td>NaN</td>\n",
       "      <td>NaN</td>\n",
       "      <td>NaN</td>\n",
       "      <td>Mexico</td>\n",
       "      <td>mx</td>\n",
       "      <td>NaN</td>\n",
       "      <td>NaN</td>\n",
       "      <td>NaN</td>\n",
       "      <td>NaN</td>\n",
       "      <td>NaN</td>\n",
       "      <td>NaN</td>\n",
       "      <td>NaN</td>\n",
       "      <td>NaN</td>\n",
       "    </tr>\n",
       "    <tr>\n",
       "      <th>3</th>\n",
       "      <td>19.48921</td>\n",
       "      <td>-99.09211</td>\n",
       "      <td>NvR2cVhO15</td>\n",
       "      <td>19.48921</td>\n",
       "      <td>-99.09211</td>\n",
       "      <td>19.48921,-99.09210999999999</td>\n",
       "      <td>Calle 300-A</td>\n",
       "      <td>NaN</td>\n",
       "      <td>07420</td>\n",
       "      <td>NaN</td>\n",
       "      <td>Unidad Habitacional El Coyol</td>\n",
       "      <td>Gustavo A. Madero</td>\n",
       "      <td>NaN</td>\n",
       "      <td>NaN</td>\n",
       "      <td>NaN</td>\n",
       "      <td>NaN</td>\n",
       "      <td>NaN</td>\n",
       "      <td>NaN</td>\n",
       "      <td>NaN</td>\n",
       "      <td>NaN</td>\n",
       "      <td>NaN</td>\n",
       "      <td>NaN</td>\n",
       "      <td>Mexico City</td>\n",
       "      <td>NaN</td>\n",
       "      <td>NaN</td>\n",
       "      <td>NaN</td>\n",
       "      <td>NaN</td>\n",
       "      <td>NaN</td>\n",
       "      <td>NaN</td>\n",
       "      <td>Mexico</td>\n",
       "      <td>mx</td>\n",
       "      <td>MX-CMX</td>\n",
       "      <td>NaN</td>\n",
       "      <td>NaN</td>\n",
       "      <td>NaN</td>\n",
       "      <td>NaN</td>\n",
       "      <td>NaN</td>\n",
       "      <td>NaN</td>\n",
       "      <td>NaN</td>\n",
       "    </tr>\n",
       "    <tr>\n",
       "      <th>4</th>\n",
       "      <td>19.21433</td>\n",
       "      <td>-98.98875</td>\n",
       "      <td>FtNTDVApyQ</td>\n",
       "      <td>19.21433</td>\n",
       "      <td>-98.98875</td>\n",
       "      <td>19.214329999999997,-98.98874999999998</td>\n",
       "      <td>Cerrada Callejón de los Mecales</td>\n",
       "      <td>NaN</td>\n",
       "      <td>12100</td>\n",
       "      <td>NaN</td>\n",
       "      <td>NaN</td>\n",
       "      <td>NaN</td>\n",
       "      <td>NaN</td>\n",
       "      <td>NaN</td>\n",
       "      <td>NaN</td>\n",
       "      <td>NaN</td>\n",
       "      <td>NaN</td>\n",
       "      <td>Milpa Alta</td>\n",
       "      <td>NaN</td>\n",
       "      <td>San Antonio Tecómitl</td>\n",
       "      <td>NaN</td>\n",
       "      <td>NaN</td>\n",
       "      <td>Mexico City</td>\n",
       "      <td>NaN</td>\n",
       "      <td>NaN</td>\n",
       "      <td>NaN</td>\n",
       "      <td>NaN</td>\n",
       "      <td>NaN</td>\n",
       "      <td>NaN</td>\n",
       "      <td>Mexico</td>\n",
       "      <td>mx</td>\n",
       "      <td>MX-CMX</td>\n",
       "      <td>NaN</td>\n",
       "      <td>NaN</td>\n",
       "      <td>NaN</td>\n",
       "      <td>NaN</td>\n",
       "      <td>NaN</td>\n",
       "      <td>NaN</td>\n",
       "      <td>NaN</td>\n",
       "    </tr>\n",
       "    <tr>\n",
       "      <th>5</th>\n",
       "      <td>19.41712</td>\n",
       "      <td>-99.35761</td>\n",
       "      <td>dhGZFXVfcj</td>\n",
       "      <td>19.41712</td>\n",
       "      <td>-99.35761</td>\n",
       "      <td>19.41712,-99.35761000000002</td>\n",
       "      <td>Autopista Toluca - Naucalpan</td>\n",
       "      <td>NaN</td>\n",
       "      <td>53650</td>\n",
       "      <td>NaN</td>\n",
       "      <td>NaN</td>\n",
       "      <td>NaN</td>\n",
       "      <td>NaN</td>\n",
       "      <td>NaN</td>\n",
       "      <td>NaN</td>\n",
       "      <td>NaN</td>\n",
       "      <td>La Cumbre</td>\n",
       "      <td>NaN</td>\n",
       "      <td>NaN</td>\n",
       "      <td>NaN</td>\n",
       "      <td>NaN</td>\n",
       "      <td>NaN</td>\n",
       "      <td>NaN</td>\n",
       "      <td>NaN</td>\n",
       "      <td>NaN</td>\n",
       "      <td>NaN</td>\n",
       "      <td>Huixquilucan</td>\n",
       "      <td>NaN</td>\n",
       "      <td>NaN</td>\n",
       "      <td>Mexico</td>\n",
       "      <td>mx</td>\n",
       "      <td>NaN</td>\n",
       "      <td>NaN</td>\n",
       "      <td>NaN</td>\n",
       "      <td>NaN</td>\n",
       "      <td>NaN</td>\n",
       "      <td>NaN</td>\n",
       "      <td>NaN</td>\n",
       "      <td>NaN</td>\n",
       "    </tr>\n",
       "    <tr>\n",
       "      <th>6</th>\n",
       "      <td>19.48283</td>\n",
       "      <td>-99.38796</td>\n",
       "      <td>W5EbL8NOUk</td>\n",
       "      <td>19.48283</td>\n",
       "      <td>-99.38796</td>\n",
       "      <td>19.48283,-99.38796000000002</td>\n",
       "      <td>NaN</td>\n",
       "      <td>NaN</td>\n",
       "      <td>54570</td>\n",
       "      <td>NaN</td>\n",
       "      <td>NaN</td>\n",
       "      <td>NaN</td>\n",
       "      <td>NaN</td>\n",
       "      <td>NaN</td>\n",
       "      <td>NaN</td>\n",
       "      <td>NaN</td>\n",
       "      <td>San Luis Ayucan</td>\n",
       "      <td>NaN</td>\n",
       "      <td>NaN</td>\n",
       "      <td>NaN</td>\n",
       "      <td>NaN</td>\n",
       "      <td>NaN</td>\n",
       "      <td>NaN</td>\n",
       "      <td>NaN</td>\n",
       "      <td>NaN</td>\n",
       "      <td>NaN</td>\n",
       "      <td>Jilotzingo</td>\n",
       "      <td>NaN</td>\n",
       "      <td>NaN</td>\n",
       "      <td>Mexico</td>\n",
       "      <td>mx</td>\n",
       "      <td>NaN</td>\n",
       "      <td>NaN</td>\n",
       "      <td>NaN</td>\n",
       "      <td>NaN</td>\n",
       "      <td>NaN</td>\n",
       "      <td>NaN</td>\n",
       "      <td>NaN</td>\n",
       "      <td>NaN</td>\n",
       "    </tr>\n",
       "    <tr>\n",
       "      <th>7</th>\n",
       "      <td>19.24840</td>\n",
       "      <td>-99.05564</td>\n",
       "      <td>qOEoLbkrAt</td>\n",
       "      <td>19.24840</td>\n",
       "      <td>-99.05564</td>\n",
       "      <td>19.2484,-99.05563999999998</td>\n",
       "      <td>Cerrada de Acueducto</td>\n",
       "      <td>NaN</td>\n",
       "      <td>16605</td>\n",
       "      <td>NaN</td>\n",
       "      <td>Colonia Los Reyes</td>\n",
       "      <td>Xochimilco</td>\n",
       "      <td>NaN</td>\n",
       "      <td>NaN</td>\n",
       "      <td>NaN</td>\n",
       "      <td>NaN</td>\n",
       "      <td>NaN</td>\n",
       "      <td>NaN</td>\n",
       "      <td>NaN</td>\n",
       "      <td>NaN</td>\n",
       "      <td>NaN</td>\n",
       "      <td>NaN</td>\n",
       "      <td>Mexico City</td>\n",
       "      <td>NaN</td>\n",
       "      <td>NaN</td>\n",
       "      <td>NaN</td>\n",
       "      <td>NaN</td>\n",
       "      <td>NaN</td>\n",
       "      <td>NaN</td>\n",
       "      <td>Mexico</td>\n",
       "      <td>mx</td>\n",
       "      <td>MX-CMX</td>\n",
       "      <td>NaN</td>\n",
       "      <td>NaN</td>\n",
       "      <td>NaN</td>\n",
       "      <td>NaN</td>\n",
       "      <td>NaN</td>\n",
       "      <td>NaN</td>\n",
       "      <td>NaN</td>\n",
       "    </tr>\n",
       "    <tr>\n",
       "      <th>8</th>\n",
       "      <td>19.01135</td>\n",
       "      <td>-99.39228</td>\n",
       "      <td>rX28P6RDxh</td>\n",
       "      <td>19.01135</td>\n",
       "      <td>-99.39228</td>\n",
       "      <td>19.01135,-99.39228000000003</td>\n",
       "      <td>Calle Morelos</td>\n",
       "      <td>NaN</td>\n",
       "      <td>NaN</td>\n",
       "      <td>NaN</td>\n",
       "      <td>Colonia Doctor Gustavo Baz</td>\n",
       "      <td>NaN</td>\n",
       "      <td>NaN</td>\n",
       "      <td>NaN</td>\n",
       "      <td>NaN</td>\n",
       "      <td>NaN</td>\n",
       "      <td>NaN</td>\n",
       "      <td>Santa María Nativitas</td>\n",
       "      <td>NaN</td>\n",
       "      <td>NaN</td>\n",
       "      <td>NaN</td>\n",
       "      <td>NaN</td>\n",
       "      <td>NaN</td>\n",
       "      <td>NaN</td>\n",
       "      <td>NaN</td>\n",
       "      <td>NaN</td>\n",
       "      <td>Ocuilan</td>\n",
       "      <td>NaN</td>\n",
       "      <td>NaN</td>\n",
       "      <td>Mexico</td>\n",
       "      <td>mx</td>\n",
       "      <td>NaN</td>\n",
       "      <td>NaN</td>\n",
       "      <td>NaN</td>\n",
       "      <td>NaN</td>\n",
       "      <td>NaN</td>\n",
       "      <td>NaN</td>\n",
       "      <td>NaN</td>\n",
       "      <td>NaN</td>\n",
       "    </tr>\n",
       "    <tr>\n",
       "      <th>9</th>\n",
       "      <td>19.52053</td>\n",
       "      <td>-98.91113</td>\n",
       "      <td>NTeRmAC7Ki</td>\n",
       "      <td>19.52053</td>\n",
       "      <td>-98.91113</td>\n",
       "      <td>19.52053,-98.91113000000001</td>\n",
       "      <td>Cerrada Primera Cerrada De Leona Vicario</td>\n",
       "      <td>NaN</td>\n",
       "      <td>56203</td>\n",
       "      <td>NaN</td>\n",
       "      <td>NaN</td>\n",
       "      <td>NaN</td>\n",
       "      <td>NaN</td>\n",
       "      <td>NaN</td>\n",
       "      <td>NaN</td>\n",
       "      <td>NaN</td>\n",
       "      <td>Tocuila</td>\n",
       "      <td>NaN</td>\n",
       "      <td>NaN</td>\n",
       "      <td>NaN</td>\n",
       "      <td>NaN</td>\n",
       "      <td>NaN</td>\n",
       "      <td>NaN</td>\n",
       "      <td>NaN</td>\n",
       "      <td>NaN</td>\n",
       "      <td>NaN</td>\n",
       "      <td>Texcoco</td>\n",
       "      <td>NaN</td>\n",
       "      <td>NaN</td>\n",
       "      <td>Mexico</td>\n",
       "      <td>mx</td>\n",
       "      <td>NaN</td>\n",
       "      <td>NaN</td>\n",
       "      <td>NaN</td>\n",
       "      <td>NaN</td>\n",
       "      <td>NaN</td>\n",
       "      <td>NaN</td>\n",
       "      <td>NaN</td>\n",
       "      <td>NaN</td>\n",
       "    </tr>\n",
       "  </tbody>\n",
       "</table>\n",
       "</div>"
      ],
      "text/plain": [
       "   Latitude  Longitude   User Code       lat       lon  \\\n",
       "0  19.27934  -98.96953  tGbJy9OAmU  19.27934 -98.96953   \n",
       "1  19.59892  -99.35482  DIBhWRZEQc  19.59892 -99.35482   \n",
       "2  19.17519  -99.29773  YuQfvn7sag  19.17519 -99.29773   \n",
       "3  19.48921  -99.09211  NvR2cVhO15  19.48921 -99.09211   \n",
       "4  19.21433  -98.98875  FtNTDVApyQ  19.21433 -98.98875   \n",
       "5  19.41712  -99.35761  dhGZFXVfcj  19.41712 -99.35761   \n",
       "6  19.48283  -99.38796  W5EbL8NOUk  19.48283 -99.38796   \n",
       "7  19.24840  -99.05564  qOEoLbkrAt  19.24840 -99.05564   \n",
       "8  19.01135  -99.39228  rX28P6RDxh  19.01135 -99.39228   \n",
       "9  19.52053  -98.91113  NTeRmAC7Ki  19.52053 -98.91113   \n",
       "\n",
       "                                 lat_lon  \\\n",
       "0            19.27934,-98.96953000000002   \n",
       "1            19.59892,-99.35482000000002   \n",
       "2                     19.17519,-99.29773   \n",
       "3            19.48921,-99.09210999999999   \n",
       "4  19.214329999999997,-98.98874999999998   \n",
       "5            19.41712,-99.35761000000002   \n",
       "6            19.48283,-99.38796000000002   \n",
       "7             19.2484,-99.05563999999998   \n",
       "8            19.01135,-99.39228000000003   \n",
       "9            19.52053,-98.91113000000001   \n",
       "\n",
       "                                      calle numero_casa codigo_postal amenity  \\\n",
       "0                           Calle Río Ameca         NaN         56613     NaN   \n",
       "1                               Las Palomas         NaN         54435     NaN   \n",
       "2                                       NaN         NaN         52690     NaN   \n",
       "3                               Calle 300-A         NaN         07420     NaN   \n",
       "4           Cerrada Callejón de los Mecales         NaN         12100     NaN   \n",
       "5              Autopista Toluca - Naucalpan         NaN         53650     NaN   \n",
       "6                                       NaN         NaN         54570     NaN   \n",
       "7                      Cerrada de Acueducto         NaN         16605     NaN   \n",
       "8                             Calle Morelos         NaN           NaN     NaN   \n",
       "9  Cerrada Primera Cerrada De Leona Vicario         NaN         56203     NaN   \n",
       "\n",
       "                      vecindario           suburbio estructura  vias_ferreas  \\\n",
       "0  Ampliación San Miguel Tláhuac                NaN        NaN           NaN   \n",
       "1                            NaN                NaN        NaN           NaN   \n",
       "2                            NaN                NaN        NaN           NaN   \n",
       "3   Unidad Habitacional El Coyol  Gustavo A. Madero        NaN           NaN   \n",
       "4                            NaN                NaN        NaN           NaN   \n",
       "5                            NaN                NaN        NaN           NaN   \n",
       "6                            NaN                NaN        NaN           NaN   \n",
       "7              Colonia Los Reyes         Xochimilco        NaN           NaN   \n",
       "8     Colonia Doctor Gustavo Baz                NaN        NaN           NaN   \n",
       "9                            NaN                NaN        NaN           NaN   \n",
       "\n",
       "   autopista aldea            villa                poblado  vivienda_aislada  \\\n",
       "0        NaN   NaN              NaN                    NaN               NaN   \n",
       "1        NaN   NaN              NaN                    NaN               NaN   \n",
       "2        NaN   NaN      Las Cocinas              Xalatlaco               NaN   \n",
       "3        NaN   NaN              NaN                    NaN               NaN   \n",
       "4        NaN   NaN              NaN             Milpa Alta               NaN   \n",
       "5        NaN   NaN        La Cumbre                    NaN               NaN   \n",
       "6        NaN   NaN  San Luis Ayucan                    NaN               NaN   \n",
       "7        NaN   NaN              NaN                    NaN               NaN   \n",
       "8        NaN   NaN              NaN  Santa María Nativitas               NaN   \n",
       "9        NaN   NaN          Tocuila                    NaN               NaN   \n",
       "\n",
       "           asentamiento zona_residencial  municipio  \\\n",
       "0                   NaN              NaN        NaN   \n",
       "1                   NaN              NaN        NaN   \n",
       "2                   NaN              NaN        NaN   \n",
       "3                   NaN              NaN        NaN   \n",
       "4  San Antonio Tecómitl              NaN        NaN   \n",
       "5                   NaN              NaN        NaN   \n",
       "6                   NaN              NaN        NaN   \n",
       "7                   NaN              NaN        NaN   \n",
       "8                   NaN              NaN        NaN   \n",
       "9                   NaN              NaN        NaN   \n",
       "\n",
       "                        ciudad distrito  provincia  region         condado  \\\n",
       "0  Valle de Chalco Solidaridad      NaN        NaN     NaN             NaN   \n",
       "1               Nicolás Romero      NaN        NaN     NaN  Nicolás Romero   \n",
       "2                          NaN      NaN        NaN     NaN             NaN   \n",
       "3                  Mexico City      NaN        NaN     NaN             NaN   \n",
       "4                  Mexico City      NaN        NaN     NaN             NaN   \n",
       "5                          NaN      NaN        NaN     NaN    Huixquilucan   \n",
       "6                          NaN      NaN        NaN     NaN      Jilotzingo   \n",
       "7                  Mexico City      NaN        NaN     NaN             NaN   \n",
       "8                          NaN      NaN        NaN     NaN         Ocuilan   \n",
       "9                          NaN      NaN        NaN     NaN         Texcoco   \n",
       "\n",
       "            estado  distrito_estatal    pais codigo_pais pais_iso  \\\n",
       "0  State of Mexico               NaN  Mexico          mx   MX-MEX   \n",
       "1              NaN               NaN  Mexico          mx      NaN   \n",
       "2              NaN               NaN  Mexico          mx      NaN   \n",
       "3              NaN               NaN  Mexico          mx   MX-CMX   \n",
       "4              NaN               NaN  Mexico          mx   MX-CMX   \n",
       "5              NaN               NaN  Mexico          mx      NaN   \n",
       "6              NaN               NaN  Mexico          mx      NaN   \n",
       "7              NaN               NaN  Mexico          mx   MX-CMX   \n",
       "8              NaN               NaN  Mexico          mx      NaN   \n",
       "9              NaN               NaN  Mexico          mx      NaN   \n",
       "\n",
       "   subdistrito_iso info_turistica info_edilicia  info_oficina info_tienda  \\\n",
       "0              NaN            NaN           NaN           NaN         NaN   \n",
       "1              NaN            NaN           NaN           NaN         NaN   \n",
       "2              NaN            NaN           NaN           NaN         NaN   \n",
       "3              NaN            NaN           NaN           NaN         NaN   \n",
       "4              NaN            NaN           NaN           NaN         NaN   \n",
       "5              NaN            NaN           NaN           NaN         NaN   \n",
       "6              NaN            NaN           NaN           NaN         NaN   \n",
       "7              NaN            NaN           NaN           NaN         NaN   \n",
       "8              NaN            NaN           NaN           NaN         NaN   \n",
       "9              NaN            NaN           NaN           NaN         NaN   \n",
       "\n",
       "  info_industrial  info_historica  \n",
       "0             NaN             NaN  \n",
       "1             NaN             NaN  \n",
       "2             NaN             NaN  \n",
       "3             NaN             NaN  \n",
       "4             NaN             NaN  \n",
       "5             NaN             NaN  \n",
       "6             NaN             NaN  \n",
       "7             NaN             NaN  \n",
       "8             NaN             NaN  \n",
       "9             NaN             NaN  "
      ]
     },
     "execution_count": 10,
     "metadata": {},
     "output_type": "execute_result"
    }
   ],
   "source": [
    "# visualizamos las columnas generadas\n",
    "df.head(10)"
   ]
  },
  {
   "cell_type": "code",
   "execution_count": 11,
   "id": "96639105",
   "metadata": {},
   "outputs": [
    {
     "name": "stdout",
     "output_type": "stream",
     "text": [
      "Completitud de Latitude: 100.00%\n",
      "Completitud de Longitude: 100.00%\n",
      "Completitud de User Code: 100.00%\n",
      "Completitud de lat: 100.00%\n",
      "Completitud de lon: 100.00%\n",
      "Completitud de lat_lon: 100.00%\n",
      "Completitud de calle: 55.00%\n",
      "Completitud de numero_casa: 4.40%\n",
      "Completitud de codigo_postal: 91.80%\n",
      "Completitud de amenity: 1.40%\n",
      "Completitud de vecindario: 30.40%\n",
      "Completitud de suburbio: 29.20%\n",
      "Completitud de estructura: 0.20%\n",
      "Completitud de vias_ferreas: 0.00%\n",
      "Completitud de autopista: 0.00%\n",
      "Completitud de aldea: 1.20%\n",
      "Completitud de villa: 22.40%\n",
      "Completitud de poblado: 16.80%\n",
      "Completitud de vivienda_aislada: 0.00%\n",
      "Completitud de asentamiento: 2.60%\n",
      "Completitud de zona_residencial: 2.60%\n",
      "Completitud de municipio: 0.00%\n",
      "Completitud de ciudad: 56.60%\n",
      "Completitud de distrito: 0.80%\n",
      "Completitud de provincia: 0.00%\n",
      "Completitud de region: 0.00%\n",
      "Completitud de condado: 47.00%\n",
      "Completitud de estado: 21.20%\n",
      "Completitud de distrito_estatal: 0.00%\n",
      "Completitud de pais: 100.00%\n",
      "Completitud de codigo_pais: 100.00%\n",
      "Completitud de pais_iso: 52.60%\n",
      "Completitud de subdistrito_iso: 0.00%\n",
      "Completitud de info_turistica: 1.00%\n",
      "Completitud de info_edilicia: 0.20%\n",
      "Completitud de info_oficina: 0.00%\n",
      "Completitud de info_tienda: 0.80%\n",
      "Completitud de info_industrial: 0.20%\n",
      "Completitud de info_historica: 0.00%\n"
     ]
    }
   ],
   "source": [
    "# Calcula el porcentaje de completitud para cada columna\n",
    "num_rows = len(df)\n",
    "for col in df.columns:\n",
    "    num_non_null = df[col].notnull().sum()\n",
    "    completeness_pct = num_non_null / num_rows * 100\n",
    "    print(f\"Completitud de {col}: {completeness_pct:.2f}%\")"
   ]
  },
  {
   "cell_type": "markdown",
   "id": "e0ed0c59-f603-4955-9fd1-fd69223a234c",
   "metadata": {},
   "source": [
    "## Data Visualization"
   ]
  },
  {
   "cell_type": "code",
   "execution_count": 12,
   "id": "67da870a-4ec2-4a5c-b71e-78add93c41c3",
   "metadata": {},
   "outputs": [
    {
     "data": {
      "application/vnd.plotly.v1+json": {
       "config": {
        "plotlyServerURL": "https://plot.ly"
       },
       "data": [
        {
         "hovertemplate": "User Code=tGbJy9OAmU<br>lat=%{lat}<br>lon=%{lon}<extra></extra>",
         "lat": [
          19.27934
         ],
         "legendgroup": "tGbJy9OAmU",
         "lon": [
          -98.96953000000002
         ],
         "marker": {
          "color": "#636efa"
         },
         "mode": "markers",
         "name": "tGbJy9OAmU",
         "showlegend": true,
         "subplot": "mapbox",
         "type": "scattermapbox"
        },
        {
         "hovertemplate": "User Code=DIBhWRZEQc<br>lat=%{lat}<br>lon=%{lon}<extra></extra>",
         "lat": [
          19.59892
         ],
         "legendgroup": "DIBhWRZEQc",
         "lon": [
          -99.35482000000002
         ],
         "marker": {
          "color": "#EF553B"
         },
         "mode": "markers",
         "name": "DIBhWRZEQc",
         "showlegend": true,
         "subplot": "mapbox",
         "type": "scattermapbox"
        },
        {
         "hovertemplate": "User Code=YuQfvn7sag<br>lat=%{lat}<br>lon=%{lon}<extra></extra>",
         "lat": [
          19.17519
         ],
         "legendgroup": "YuQfvn7sag",
         "lon": [
          -99.29773
         ],
         "marker": {
          "color": "#00cc96"
         },
         "mode": "markers",
         "name": "YuQfvn7sag",
         "showlegend": true,
         "subplot": "mapbox",
         "type": "scattermapbox"
        },
        {
         "hovertemplate": "User Code=NvR2cVhO15<br>lat=%{lat}<br>lon=%{lon}<extra></extra>",
         "lat": [
          19.48921
         ],
         "legendgroup": "NvR2cVhO15",
         "lon": [
          -99.09210999999999
         ],
         "marker": {
          "color": "#ab63fa"
         },
         "mode": "markers",
         "name": "NvR2cVhO15",
         "showlegend": true,
         "subplot": "mapbox",
         "type": "scattermapbox"
        },
        {
         "hovertemplate": "User Code=FtNTDVApyQ<br>lat=%{lat}<br>lon=%{lon}<extra></extra>",
         "lat": [
          19.214329999999997
         ],
         "legendgroup": "FtNTDVApyQ",
         "lon": [
          -98.98874999999998
         ],
         "marker": {
          "color": "#FFA15A"
         },
         "mode": "markers",
         "name": "FtNTDVApyQ",
         "showlegend": true,
         "subplot": "mapbox",
         "type": "scattermapbox"
        },
        {
         "hovertemplate": "User Code=dhGZFXVfcj<br>lat=%{lat}<br>lon=%{lon}<extra></extra>",
         "lat": [
          19.41712
         ],
         "legendgroup": "dhGZFXVfcj",
         "lon": [
          -99.35761000000002
         ],
         "marker": {
          "color": "#19d3f3"
         },
         "mode": "markers",
         "name": "dhGZFXVfcj",
         "showlegend": true,
         "subplot": "mapbox",
         "type": "scattermapbox"
        },
        {
         "hovertemplate": "User Code=W5EbL8NOUk<br>lat=%{lat}<br>lon=%{lon}<extra></extra>",
         "lat": [
          19.48283
         ],
         "legendgroup": "W5EbL8NOUk",
         "lon": [
          -99.38796000000002
         ],
         "marker": {
          "color": "#FF6692"
         },
         "mode": "markers",
         "name": "W5EbL8NOUk",
         "showlegend": true,
         "subplot": "mapbox",
         "type": "scattermapbox"
        },
        {
         "hovertemplate": "User Code=qOEoLbkrAt<br>lat=%{lat}<br>lon=%{lon}<extra></extra>",
         "lat": [
          19.2484
         ],
         "legendgroup": "qOEoLbkrAt",
         "lon": [
          -99.05563999999998
         ],
         "marker": {
          "color": "#B6E880"
         },
         "mode": "markers",
         "name": "qOEoLbkrAt",
         "showlegend": true,
         "subplot": "mapbox",
         "type": "scattermapbox"
        },
        {
         "hovertemplate": "User Code=rX28P6RDxh<br>lat=%{lat}<br>lon=%{lon}<extra></extra>",
         "lat": [
          19.01135
         ],
         "legendgroup": "rX28P6RDxh",
         "lon": [
          -99.39228000000003
         ],
         "marker": {
          "color": "#FF97FF"
         },
         "mode": "markers",
         "name": "rX28P6RDxh",
         "showlegend": true,
         "subplot": "mapbox",
         "type": "scattermapbox"
        },
        {
         "hovertemplate": "User Code=NTeRmAC7Ki<br>lat=%{lat}<br>lon=%{lon}<extra></extra>",
         "lat": [
          19.52053
         ],
         "legendgroup": "NTeRmAC7Ki",
         "lon": [
          -98.91113000000001
         ],
         "marker": {
          "color": "#FECB52"
         },
         "mode": "markers",
         "name": "NTeRmAC7Ki",
         "showlegend": true,
         "subplot": "mapbox",
         "type": "scattermapbox"
        },
        {
         "hovertemplate": "User Code=QVdekAHr7K<br>lat=%{lat}<br>lon=%{lon}<extra></extra>",
         "lat": [
          19.0035
         ],
         "legendgroup": "QVdekAHr7K",
         "lon": [
          -99.17570999999998
         ],
         "marker": {
          "color": "#636efa"
         },
         "mode": "markers",
         "name": "QVdekAHr7K",
         "showlegend": true,
         "subplot": "mapbox",
         "type": "scattermapbox"
        },
        {
         "hovertemplate": "User Code=mT0hUzYRvH<br>lat=%{lat}<br>lon=%{lon}<extra></extra>",
         "lat": [
          19.30858
         ],
         "legendgroup": "mT0hUzYRvH",
         "lon": [
          -99.35804000000002
         ],
         "marker": {
          "color": "#EF553B"
         },
         "mode": "markers",
         "name": "mT0hUzYRvH",
         "showlegend": true,
         "subplot": "mapbox",
         "type": "scattermapbox"
        },
        {
         "hovertemplate": "User Code=Sx7EycWQpT<br>lat=%{lat}<br>lon=%{lon}<extra></extra>",
         "lat": [
          19.34545
         ],
         "legendgroup": "Sx7EycWQpT",
         "lon": [
          -99.18925000000002
         ],
         "marker": {
          "color": "#00cc96"
         },
         "mode": "markers",
         "name": "Sx7EycWQpT",
         "showlegend": true,
         "subplot": "mapbox",
         "type": "scattermapbox"
        },
        {
         "hovertemplate": "User Code=rEdIxyg69i<br>lat=%{lat}<br>lon=%{lon}<extra></extra>",
         "lat": [
          19.0571
         ],
         "legendgroup": "rEdIxyg69i",
         "lon": [
          -98.94148999999999
         ],
         "marker": {
          "color": "#ab63fa"
         },
         "mode": "markers",
         "name": "rEdIxyg69i",
         "showlegend": true,
         "subplot": "mapbox",
         "type": "scattermapbox"
        },
        {
         "hovertemplate": "User Code=TM2lsYnZqW<br>lat=%{lat}<br>lon=%{lon}<extra></extra>",
         "lat": [
          19.44594
         ],
         "legendgroup": "TM2lsYnZqW",
         "lon": [
          -99.36351000000002
         ],
         "marker": {
          "color": "#FFA15A"
         },
         "mode": "markers",
         "name": "TM2lsYnZqW",
         "showlegend": true,
         "subplot": "mapbox",
         "type": "scattermapbox"
        },
        {
         "hovertemplate": "User Code=EbhI6L2sHY<br>lat=%{lat}<br>lon=%{lon}<extra></extra>",
         "lat": [
          19.34514
         ],
         "legendgroup": "EbhI6L2sHY",
         "lon": [
          -99.10495000000003
         ],
         "marker": {
          "color": "#19d3f3"
         },
         "mode": "markers",
         "name": "EbhI6L2sHY",
         "showlegend": true,
         "subplot": "mapbox",
         "type": "scattermapbox"
        },
        {
         "hovertemplate": "User Code=POFG18SrwX<br>lat=%{lat}<br>lon=%{lon}<extra></extra>",
         "lat": [
          19.52047
         ],
         "legendgroup": "POFG18SrwX",
         "lon": [
          -99.24563
         ],
         "marker": {
          "color": "#FF6692"
         },
         "mode": "markers",
         "name": "POFG18SrwX",
         "showlegend": true,
         "subplot": "mapbox",
         "type": "scattermapbox"
        },
        {
         "hovertemplate": "User Code=nEONb2Zrdu<br>lat=%{lat}<br>lon=%{lon}<extra></extra>",
         "lat": [
          19.57048
         ],
         "legendgroup": "nEONb2Zrdu",
         "lon": [
          -99.06648000000001
         ],
         "marker": {
          "color": "#B6E880"
         },
         "mode": "markers",
         "name": "nEONb2Zrdu",
         "showlegend": true,
         "subplot": "mapbox",
         "type": "scattermapbox"
        },
        {
         "hovertemplate": "User Code=HdKDpJ5Q8e<br>lat=%{lat}<br>lon=%{lon}<extra></extra>",
         "lat": [
          19.038370000000004
         ],
         "legendgroup": "HdKDpJ5Q8e",
         "lon": [
          -99.2425
         ],
         "marker": {
          "color": "#FF97FF"
         },
         "mode": "markers",
         "name": "HdKDpJ5Q8e",
         "showlegend": true,
         "subplot": "mapbox",
         "type": "scattermapbox"
        },
        {
         "hovertemplate": "User Code=OdtBpormwN<br>lat=%{lat}<br>lon=%{lon}<extra></extra>",
         "lat": [
          19.257
         ],
         "legendgroup": "OdtBpormwN",
         "lon": [
          -99.20528999999999
         ],
         "marker": {
          "color": "#FECB52"
         },
         "mode": "markers",
         "name": "OdtBpormwN",
         "showlegend": true,
         "subplot": "mapbox",
         "type": "scattermapbox"
        },
        {
         "hovertemplate": "User Code=rJso9EnxaD<br>lat=%{lat}<br>lon=%{lon}<extra></extra>",
         "lat": [
          19.37547
         ],
         "legendgroup": "rJso9EnxaD",
         "lon": [
          -99.11205000000001
         ],
         "marker": {
          "color": "#636efa"
         },
         "mode": "markers",
         "name": "rJso9EnxaD",
         "showlegend": true,
         "subplot": "mapbox",
         "type": "scattermapbox"
        },
        {
         "hovertemplate": "User Code=m24dKtHRcJ<br>lat=%{lat}<br>lon=%{lon}<extra></extra>",
         "lat": [
          19.37421
         ],
         "legendgroup": "m24dKtHRcJ",
         "lon": [
          -99.07650999999998
         ],
         "marker": {
          "color": "#EF553B"
         },
         "mode": "markers",
         "name": "m24dKtHRcJ",
         "showlegend": true,
         "subplot": "mapbox",
         "type": "scattermapbox"
        },
        {
         "hovertemplate": "User Code=N14uX8aHAz<br>lat=%{lat}<br>lon=%{lon}<extra></extra>",
         "lat": [
          19.024959999999997
         ],
         "legendgroup": "N14uX8aHAz",
         "lon": [
          -99.18725
         ],
         "marker": {
          "color": "#00cc96"
         },
         "mode": "markers",
         "name": "N14uX8aHAz",
         "showlegend": true,
         "subplot": "mapbox",
         "type": "scattermapbox"
        },
        {
         "hovertemplate": "User Code=39bALlwPxE<br>lat=%{lat}<br>lon=%{lon}<extra></extra>",
         "lat": [
          19.127910000000004
         ],
         "legendgroup": "39bALlwPxE",
         "lon": [
          -99.35383000000002
         ],
         "marker": {
          "color": "#ab63fa"
         },
         "mode": "markers",
         "name": "39bALlwPxE",
         "showlegend": true,
         "subplot": "mapbox",
         "type": "scattermapbox"
        },
        {
         "hovertemplate": "User Code=1wfCNMD9Y8<br>lat=%{lat}<br>lon=%{lon}<extra></extra>",
         "lat": [
          19.40228
         ],
         "legendgroup": "1wfCNMD9Y8",
         "lon": [
          -99.28442000000001
         ],
         "marker": {
          "color": "#FFA15A"
         },
         "mode": "markers",
         "name": "1wfCNMD9Y8",
         "showlegend": true,
         "subplot": "mapbox",
         "type": "scattermapbox"
        },
        {
         "hovertemplate": "User Code=mdSyXKbY8e<br>lat=%{lat}<br>lon=%{lon}<extra></extra>",
         "lat": [
          19.31586
         ],
         "legendgroup": "mdSyXKbY8e",
         "lon": [
          -99.02549999999997
         ],
         "marker": {
          "color": "#19d3f3"
         },
         "mode": "markers",
         "name": "mdSyXKbY8e",
         "showlegend": true,
         "subplot": "mapbox",
         "type": "scattermapbox"
        },
        {
         "hovertemplate": "User Code=NdheY7l40L<br>lat=%{lat}<br>lon=%{lon}<extra></extra>",
         "lat": [
          19.07195
         ],
         "legendgroup": "NdheY7l40L",
         "lon": [
          -98.97716000000003
         ],
         "marker": {
          "color": "#FF6692"
         },
         "mode": "markers",
         "name": "NdheY7l40L",
         "showlegend": true,
         "subplot": "mapbox",
         "type": "scattermapbox"
        },
        {
         "hovertemplate": "User Code=rqKRgnLD4U<br>lat=%{lat}<br>lon=%{lon}<extra></extra>",
         "lat": [
          19.08892
         ],
         "legendgroup": "rqKRgnLD4U",
         "lon": [
          -98.92633999999998
         ],
         "marker": {
          "color": "#B6E880"
         },
         "mode": "markers",
         "name": "rqKRgnLD4U",
         "showlegend": true,
         "subplot": "mapbox",
         "type": "scattermapbox"
        },
        {
         "hovertemplate": "User Code=vJEA4x97eK<br>lat=%{lat}<br>lon=%{lon}<extra></extra>",
         "lat": [
          19.312860000000004
         ],
         "legendgroup": "vJEA4x97eK",
         "lon": [
          -99.33826999999997
         ],
         "marker": {
          "color": "#FF97FF"
         },
         "mode": "markers",
         "name": "vJEA4x97eK",
         "showlegend": true,
         "subplot": "mapbox",
         "type": "scattermapbox"
        },
        {
         "hovertemplate": "User Code=a7yDtTf5QN<br>lat=%{lat}<br>lon=%{lon}<extra></extra>",
         "lat": [
          19.0387
         ],
         "legendgroup": "a7yDtTf5QN",
         "lon": [
          -99.24657000000002
         ],
         "marker": {
          "color": "#FECB52"
         },
         "mode": "markers",
         "name": "a7yDtTf5QN",
         "showlegend": true,
         "subplot": "mapbox",
         "type": "scattermapbox"
        },
        {
         "hovertemplate": "User Code=x1AsrpclZa<br>lat=%{lat}<br>lon=%{lon}<extra></extra>",
         "lat": [
          19.54344
         ],
         "legendgroup": "x1AsrpclZa",
         "lon": [
          -99.06364000000002
         ],
         "marker": {
          "color": "#636efa"
         },
         "mode": "markers",
         "name": "x1AsrpclZa",
         "showlegend": true,
         "subplot": "mapbox",
         "type": "scattermapbox"
        },
        {
         "hovertemplate": "User Code=SC2pDiQ8sy<br>lat=%{lat}<br>lon=%{lon}<extra></extra>",
         "lat": [
          19.42137
         ],
         "legendgroup": "SC2pDiQ8sy",
         "lon": [
          -99.24598000000003
         ],
         "marker": {
          "color": "#EF553B"
         },
         "mode": "markers",
         "name": "SC2pDiQ8sy",
         "showlegend": true,
         "subplot": "mapbox",
         "type": "scattermapbox"
        },
        {
         "hovertemplate": "User Code=cofEbiK3De<br>lat=%{lat}<br>lon=%{lon}<extra></extra>",
         "lat": [
          19.0305
         ],
         "legendgroup": "cofEbiK3De",
         "lon": [
          -99.36993999999999
         ],
         "marker": {
          "color": "#00cc96"
         },
         "mode": "markers",
         "name": "cofEbiK3De",
         "showlegend": true,
         "subplot": "mapbox",
         "type": "scattermapbox"
        },
        {
         "hovertemplate": "User Code=bNA9vxRzMg<br>lat=%{lat}<br>lon=%{lon}<extra></extra>",
         "lat": [
          19.26758
         ],
         "legendgroup": "bNA9vxRzMg",
         "lon": [
          -98.92417
         ],
         "marker": {
          "color": "#ab63fa"
         },
         "mode": "markers",
         "name": "bNA9vxRzMg",
         "showlegend": true,
         "subplot": "mapbox",
         "type": "scattermapbox"
        },
        {
         "hovertemplate": "User Code=f0gILwjzCx<br>lat=%{lat}<br>lon=%{lon}<extra></extra>",
         "lat": [
          19.51399
         ],
         "legendgroup": "f0gILwjzCx",
         "lon": [
          -99.32528000000002
         ],
         "marker": {
          "color": "#FFA15A"
         },
         "mode": "markers",
         "name": "f0gILwjzCx",
         "showlegend": true,
         "subplot": "mapbox",
         "type": "scattermapbox"
        },
        {
         "hovertemplate": "User Code=45NxMoEvJa<br>lat=%{lat}<br>lon=%{lon}<extra></extra>",
         "lat": [
          19.26122
         ],
         "legendgroup": "45NxMoEvJa",
         "lon": [
          -99.28638999999998
         ],
         "marker": {
          "color": "#19d3f3"
         },
         "mode": "markers",
         "name": "45NxMoEvJa",
         "showlegend": true,
         "subplot": "mapbox",
         "type": "scattermapbox"
        },
        {
         "hovertemplate": "User Code=LJ8uEU0XTP<br>lat=%{lat}<br>lon=%{lon}<extra></extra>",
         "lat": [
          19.32867
         ],
         "legendgroup": "LJ8uEU0XTP",
         "lon": [
          -98.96571
         ],
         "marker": {
          "color": "#FF6692"
         },
         "mode": "markers",
         "name": "LJ8uEU0XTP",
         "showlegend": true,
         "subplot": "mapbox",
         "type": "scattermapbox"
        },
        {
         "hovertemplate": "User Code=xvVgLY3MkX<br>lat=%{lat}<br>lon=%{lon}<extra></extra>",
         "lat": [
          19.11129
         ],
         "legendgroup": "xvVgLY3MkX",
         "lon": [
          -98.90172999999999
         ],
         "marker": {
          "color": "#B6E880"
         },
         "mode": "markers",
         "name": "xvVgLY3MkX",
         "showlegend": true,
         "subplot": "mapbox",
         "type": "scattermapbox"
        },
        {
         "hovertemplate": "User Code=pdQilkwtf3<br>lat=%{lat}<br>lon=%{lon}<extra></extra>",
         "lat": [
          19.09054
         ],
         "legendgroup": "pdQilkwtf3",
         "lon": [
          -99.05444999999997
         ],
         "marker": {
          "color": "#FF97FF"
         },
         "mode": "markers",
         "name": "pdQilkwtf3",
         "showlegend": true,
         "subplot": "mapbox",
         "type": "scattermapbox"
        },
        {
         "hovertemplate": "User Code=0zJsUOi4DS<br>lat=%{lat}<br>lon=%{lon}<extra></extra>",
         "lat": [
          19.027260000000002
         ],
         "legendgroup": "0zJsUOi4DS",
         "lon": [
          -98.95425999999998
         ],
         "marker": {
          "color": "#FECB52"
         },
         "mode": "markers",
         "name": "0zJsUOi4DS",
         "showlegend": true,
         "subplot": "mapbox",
         "type": "scattermapbox"
        },
        {
         "hovertemplate": "User Code=tTwa8nN2lM<br>lat=%{lat}<br>lon=%{lon}<extra></extra>",
         "lat": [
          19.22787
         ],
         "legendgroup": "tTwa8nN2lM",
         "lon": [
          -99.18993999999998
         ],
         "marker": {
          "color": "#636efa"
         },
         "mode": "markers",
         "name": "tTwa8nN2lM",
         "showlegend": true,
         "subplot": "mapbox",
         "type": "scattermapbox"
        },
        {
         "hovertemplate": "User Code=2Yb0p49lPU<br>lat=%{lat}<br>lon=%{lon}<extra></extra>",
         "lat": [
          19.0902
         ],
         "legendgroup": "2Yb0p49lPU",
         "lon": [
          -99.35012
         ],
         "marker": {
          "color": "#EF553B"
         },
         "mode": "markers",
         "name": "2Yb0p49lPU",
         "showlegend": true,
         "subplot": "mapbox",
         "type": "scattermapbox"
        },
        {
         "hovertemplate": "User Code=JcK89t0nmp<br>lat=%{lat}<br>lon=%{lon}<extra></extra>",
         "lat": [
          19.12153
         ],
         "legendgroup": "JcK89t0nmp",
         "lon": [
          -99.12867
         ],
         "marker": {
          "color": "#00cc96"
         },
         "mode": "markers",
         "name": "JcK89t0nmp",
         "showlegend": true,
         "subplot": "mapbox",
         "type": "scattermapbox"
        },
        {
         "hovertemplate": "User Code=LpnAsRiwoN<br>lat=%{lat}<br>lon=%{lon}<extra></extra>",
         "lat": [
          19.552530000000004
         ],
         "legendgroup": "LpnAsRiwoN",
         "lon": [
          -99.3066
         ],
         "marker": {
          "color": "#ab63fa"
         },
         "mode": "markers",
         "name": "LpnAsRiwoN",
         "showlegend": true,
         "subplot": "mapbox",
         "type": "scattermapbox"
        },
        {
         "hovertemplate": "User Code=l9pFj7sC2B<br>lat=%{lat}<br>lon=%{lon}<extra></extra>",
         "lat": [
          19.53334
         ],
         "legendgroup": "l9pFj7sC2B",
         "lon": [
          -98.91859999999997
         ],
         "marker": {
          "color": "#FFA15A"
         },
         "mode": "markers",
         "name": "l9pFj7sC2B",
         "showlegend": true,
         "subplot": "mapbox",
         "type": "scattermapbox"
        },
        {
         "hovertemplate": "User Code=dsujEoGFgn<br>lat=%{lat}<br>lon=%{lon}<extra></extra>",
         "lat": [
          19.53833
         ],
         "legendgroup": "dsujEoGFgn",
         "lon": [
          -99.26282000000003
         ],
         "marker": {
          "color": "#19d3f3"
         },
         "mode": "markers",
         "name": "dsujEoGFgn",
         "showlegend": true,
         "subplot": "mapbox",
         "type": "scattermapbox"
        },
        {
         "hovertemplate": "User Code=DKPA9suLMB<br>lat=%{lat}<br>lon=%{lon}<extra></extra>",
         "lat": [
          19.47844
         ],
         "legendgroup": "DKPA9suLMB",
         "lon": [
          -99.3895
         ],
         "marker": {
          "color": "#FF6692"
         },
         "mode": "markers",
         "name": "DKPA9suLMB",
         "showlegend": true,
         "subplot": "mapbox",
         "type": "scattermapbox"
        },
        {
         "hovertemplate": "User Code=rjTgb6ouyA<br>lat=%{lat}<br>lon=%{lon}<extra></extra>",
         "lat": [
          19.26946
         ],
         "legendgroup": "rjTgb6ouyA",
         "lon": [
          -99.01454999999999
         ],
         "marker": {
          "color": "#B6E880"
         },
         "mode": "markers",
         "name": "rjTgb6ouyA",
         "showlegend": true,
         "subplot": "mapbox",
         "type": "scattermapbox"
        },
        {
         "hovertemplate": "User Code=dwB9ucUit5<br>lat=%{lat}<br>lon=%{lon}<extra></extra>",
         "lat": [
          19.20314
         ],
         "legendgroup": "dwB9ucUit5",
         "lon": [
          -99.07344
         ],
         "marker": {
          "color": "#FF97FF"
         },
         "mode": "markers",
         "name": "dwB9ucUit5",
         "showlegend": true,
         "subplot": "mapbox",
         "type": "scattermapbox"
        },
        {
         "hovertemplate": "User Code=Hye0GxCpO9<br>lat=%{lat}<br>lon=%{lon}<extra></extra>",
         "lat": [
          19.52966
         ],
         "legendgroup": "Hye0GxCpO9",
         "lon": [
          -99.05713000000003
         ],
         "marker": {
          "color": "#FECB52"
         },
         "mode": "markers",
         "name": "Hye0GxCpO9",
         "showlegend": true,
         "subplot": "mapbox",
         "type": "scattermapbox"
        },
        {
         "hovertemplate": "User Code=H6JkGvQWOS<br>lat=%{lat}<br>lon=%{lon}<extra></extra>",
         "lat": [
          19.10625
         ],
         "legendgroup": "H6JkGvQWOS",
         "lon": [
          -99.08365000000003
         ],
         "marker": {
          "color": "#636efa"
         },
         "mode": "markers",
         "name": "H6JkGvQWOS",
         "showlegend": true,
         "subplot": "mapbox",
         "type": "scattermapbox"
        },
        {
         "hovertemplate": "User Code=Q1KIyqkFuU<br>lat=%{lat}<br>lon=%{lon}<extra></extra>",
         "lat": [
          19.24456
         ],
         "legendgroup": "Q1KIyqkFuU",
         "lon": [
          -99.06301000000002
         ],
         "marker": {
          "color": "#EF553B"
         },
         "mode": "markers",
         "name": "Q1KIyqkFuU",
         "showlegend": true,
         "subplot": "mapbox",
         "type": "scattermapbox"
        },
        {
         "hovertemplate": "User Code=9V46ILuYrS<br>lat=%{lat}<br>lon=%{lon}<extra></extra>",
         "lat": [
          19.34077
         ],
         "legendgroup": "9V46ILuYrS",
         "lon": [
          -99.39202
         ],
         "marker": {
          "color": "#00cc96"
         },
         "mode": "markers",
         "name": "9V46ILuYrS",
         "showlegend": true,
         "subplot": "mapbox",
         "type": "scattermapbox"
        },
        {
         "hovertemplate": "User Code=QCKRs37Pnk<br>lat=%{lat}<br>lon=%{lon}<extra></extra>",
         "lat": [
          19.13565
         ],
         "legendgroup": "QCKRs37Pnk",
         "lon": [
          -99.24905999999999
         ],
         "marker": {
          "color": "#ab63fa"
         },
         "mode": "markers",
         "name": "QCKRs37Pnk",
         "showlegend": true,
         "subplot": "mapbox",
         "type": "scattermapbox"
        },
        {
         "hovertemplate": "User Code=8nYdgqWOZ0<br>lat=%{lat}<br>lon=%{lon}<extra></extra>",
         "lat": [
          19.36745
         ],
         "legendgroup": "8nYdgqWOZ0",
         "lon": [
          -99.27940999999998
         ],
         "marker": {
          "color": "#FFA15A"
         },
         "mode": "markers",
         "name": "8nYdgqWOZ0",
         "showlegend": true,
         "subplot": "mapbox",
         "type": "scattermapbox"
        },
        {
         "hovertemplate": "User Code=mPx1rL2dW9<br>lat=%{lat}<br>lon=%{lon}<extra></extra>",
         "lat": [
          19.10987
         ],
         "legendgroup": "mPx1rL2dW9",
         "lon": [
          -99.32468
         ],
         "marker": {
          "color": "#19d3f3"
         },
         "mode": "markers",
         "name": "mPx1rL2dW9",
         "showlegend": true,
         "subplot": "mapbox",
         "type": "scattermapbox"
        },
        {
         "hovertemplate": "User Code=g9HnxjoRqp<br>lat=%{lat}<br>lon=%{lon}<extra></extra>",
         "lat": [
          19.05293
         ],
         "legendgroup": "g9HnxjoRqp",
         "lon": [
          -98.99832000000004
         ],
         "marker": {
          "color": "#FF6692"
         },
         "mode": "markers",
         "name": "g9HnxjoRqp",
         "showlegend": true,
         "subplot": "mapbox",
         "type": "scattermapbox"
        },
        {
         "hovertemplate": "User Code=EJq0ptaKLk<br>lat=%{lat}<br>lon=%{lon}<extra></extra>",
         "lat": [
          19.01967
         ],
         "legendgroup": "EJq0ptaKLk",
         "lon": [
          -99.19366000000002
         ],
         "marker": {
          "color": "#B6E880"
         },
         "mode": "markers",
         "name": "EJq0ptaKLk",
         "showlegend": true,
         "subplot": "mapbox",
         "type": "scattermapbox"
        },
        {
         "hovertemplate": "User Code=iNqfEo1CS7<br>lat=%{lat}<br>lon=%{lon}<extra></extra>",
         "lat": [
          19.39078
         ],
         "legendgroup": "iNqfEo1CS7",
         "lon": [
          -99.33413000000002
         ],
         "marker": {
          "color": "#FF97FF"
         },
         "mode": "markers",
         "name": "iNqfEo1CS7",
         "showlegend": true,
         "subplot": "mapbox",
         "type": "scattermapbox"
        },
        {
         "hovertemplate": "User Code=NGPmr18wua<br>lat=%{lat}<br>lon=%{lon}<extra></extra>",
         "lat": [
          19.03797
         ],
         "legendgroup": "NGPmr18wua",
         "lon": [
          -99.02679999999998
         ],
         "marker": {
          "color": "#FECB52"
         },
         "mode": "markers",
         "name": "NGPmr18wua",
         "showlegend": true,
         "subplot": "mapbox",
         "type": "scattermapbox"
        },
        {
         "hovertemplate": "User Code=QZq2yw5SbL<br>lat=%{lat}<br>lon=%{lon}<extra></extra>",
         "lat": [
          19.57332
         ],
         "legendgroup": "QZq2yw5SbL",
         "lon": [
          -99.25675999999999
         ],
         "marker": {
          "color": "#636efa"
         },
         "mode": "markers",
         "name": "QZq2yw5SbL",
         "showlegend": true,
         "subplot": "mapbox",
         "type": "scattermapbox"
        },
        {
         "hovertemplate": "User Code=0yTdQIk2fA<br>lat=%{lat}<br>lon=%{lon}<extra></extra>",
         "lat": [
          19.15507
         ],
         "legendgroup": "0yTdQIk2fA",
         "lon": [
          -99.29082
         ],
         "marker": {
          "color": "#EF553B"
         },
         "mode": "markers",
         "name": "0yTdQIk2fA",
         "showlegend": true,
         "subplot": "mapbox",
         "type": "scattermapbox"
        },
        {
         "hovertemplate": "User Code=HM61eF0GkO<br>lat=%{lat}<br>lon=%{lon}<extra></extra>",
         "lat": [
          19.440840000000005
         ],
         "legendgroup": "HM61eF0GkO",
         "lon": [
          -99.38934999999998
         ],
         "marker": {
          "color": "#00cc96"
         },
         "mode": "markers",
         "name": "HM61eF0GkO",
         "showlegend": true,
         "subplot": "mapbox",
         "type": "scattermapbox"
        },
        {
         "hovertemplate": "User Code=icvaCjWw0E<br>lat=%{lat}<br>lon=%{lon}<extra></extra>",
         "lat": [
          19.57036
         ],
         "legendgroup": "icvaCjWw0E",
         "lon": [
          -99.23268999999999
         ],
         "marker": {
          "color": "#ab63fa"
         },
         "mode": "markers",
         "name": "icvaCjWw0E",
         "showlegend": true,
         "subplot": "mapbox",
         "type": "scattermapbox"
        },
        {
         "hovertemplate": "User Code=PVyrEMlSRX<br>lat=%{lat}<br>lon=%{lon}<extra></extra>",
         "lat": [
          19.553379999999997
         ],
         "legendgroup": "PVyrEMlSRX",
         "lon": [
          -99.09478000000001
         ],
         "marker": {
          "color": "#FFA15A"
         },
         "mode": "markers",
         "name": "PVyrEMlSRX",
         "showlegend": true,
         "subplot": "mapbox",
         "type": "scattermapbox"
        },
        {
         "hovertemplate": "User Code=ARU6Ihag3O<br>lat=%{lat}<br>lon=%{lon}<extra></extra>",
         "lat": [
          19.073340000000005
         ],
         "legendgroup": "ARU6Ihag3O",
         "lon": [
          -99.37928
         ],
         "marker": {
          "color": "#19d3f3"
         },
         "mode": "markers",
         "name": "ARU6Ihag3O",
         "showlegend": true,
         "subplot": "mapbox",
         "type": "scattermapbox"
        },
        {
         "hovertemplate": "User Code=dwbOvz6EAy<br>lat=%{lat}<br>lon=%{lon}<extra></extra>",
         "lat": [
          19.494590000000002
         ],
         "legendgroup": "dwbOvz6EAy",
         "lon": [
          -99.36799000000002
         ],
         "marker": {
          "color": "#FF6692"
         },
         "mode": "markers",
         "name": "dwbOvz6EAy",
         "showlegend": true,
         "subplot": "mapbox",
         "type": "scattermapbox"
        },
        {
         "hovertemplate": "User Code=jud3Oxlr0E<br>lat=%{lat}<br>lon=%{lon}<extra></extra>",
         "lat": [
          19.18991
         ],
         "legendgroup": "jud3Oxlr0E",
         "lon": [
          -99.00747999999999
         ],
         "marker": {
          "color": "#B6E880"
         },
         "mode": "markers",
         "name": "jud3Oxlr0E",
         "showlegend": true,
         "subplot": "mapbox",
         "type": "scattermapbox"
        },
        {
         "hovertemplate": "User Code=SRkeNZLcCV<br>lat=%{lat}<br>lon=%{lon}<extra></extra>",
         "lat": [
          19.426029999999997
         ],
         "legendgroup": "SRkeNZLcCV",
         "lon": [
          -99.14339999999999
         ],
         "marker": {
          "color": "#FF97FF"
         },
         "mode": "markers",
         "name": "SRkeNZLcCV",
         "showlegend": true,
         "subplot": "mapbox",
         "type": "scattermapbox"
        },
        {
         "hovertemplate": "User Code=rtlcvCH2eu<br>lat=%{lat}<br>lon=%{lon}<extra></extra>",
         "lat": [
          19.06737
         ],
         "legendgroup": "rtlcvCH2eu",
         "lon": [
          -99.22442999999998
         ],
         "marker": {
          "color": "#FECB52"
         },
         "mode": "markers",
         "name": "rtlcvCH2eu",
         "showlegend": true,
         "subplot": "mapbox",
         "type": "scattermapbox"
        },
        {
         "hovertemplate": "User Code=9XjpKv3LOV<br>lat=%{lat}<br>lon=%{lon}<extra></extra>",
         "lat": [
          19.56279
         ],
         "legendgroup": "9XjpKv3LOV",
         "lon": [
          -99.04518999999999
         ],
         "marker": {
          "color": "#636efa"
         },
         "mode": "markers",
         "name": "9XjpKv3LOV",
         "showlegend": true,
         "subplot": "mapbox",
         "type": "scattermapbox"
        },
        {
         "hovertemplate": "User Code=lVKEqnfzQi<br>lat=%{lat}<br>lon=%{lon}<extra></extra>",
         "lat": [
          19.43457
         ],
         "legendgroup": "lVKEqnfzQi",
         "lon": [
          -99.33113000000003
         ],
         "marker": {
          "color": "#EF553B"
         },
         "mode": "markers",
         "name": "lVKEqnfzQi",
         "showlegend": true,
         "subplot": "mapbox",
         "type": "scattermapbox"
        },
        {
         "hovertemplate": "User Code=Hj6dF305gB<br>lat=%{lat}<br>lon=%{lon}<extra></extra>",
         "lat": [
          19.4943
         ],
         "legendgroup": "Hj6dF305gB",
         "lon": [
          -99.34206
         ],
         "marker": {
          "color": "#00cc96"
         },
         "mode": "markers",
         "name": "Hj6dF305gB",
         "showlegend": true,
         "subplot": "mapbox",
         "type": "scattermapbox"
        },
        {
         "hovertemplate": "User Code=50FRBEHxA1<br>lat=%{lat}<br>lon=%{lon}<extra></extra>",
         "lat": [
          19.40441
         ],
         "legendgroup": "50FRBEHxA1",
         "lon": [
          -99.09465999999998
         ],
         "marker": {
          "color": "#ab63fa"
         },
         "mode": "markers",
         "name": "50FRBEHxA1",
         "showlegend": true,
         "subplot": "mapbox",
         "type": "scattermapbox"
        },
        {
         "hovertemplate": "User Code=oNPjJghVpv<br>lat=%{lat}<br>lon=%{lon}<extra></extra>",
         "lat": [
          19.25401
         ],
         "legendgroup": "oNPjJghVpv",
         "lon": [
          -99.00967000000003
         ],
         "marker": {
          "color": "#FFA15A"
         },
         "mode": "markers",
         "name": "oNPjJghVpv",
         "showlegend": true,
         "subplot": "mapbox",
         "type": "scattermapbox"
        },
        {
         "hovertemplate": "User Code=ZAD0eEuCLo<br>lat=%{lat}<br>lon=%{lon}<extra></extra>",
         "lat": [
          19.3875
         ],
         "legendgroup": "ZAD0eEuCLo",
         "lon": [
          -98.91291999999999
         ],
         "marker": {
          "color": "#19d3f3"
         },
         "mode": "markers",
         "name": "ZAD0eEuCLo",
         "showlegend": true,
         "subplot": "mapbox",
         "type": "scattermapbox"
        },
        {
         "hovertemplate": "User Code=vR1CekFc42<br>lat=%{lat}<br>lon=%{lon}<extra></extra>",
         "lat": [
          19.35133
         ],
         "legendgroup": "vR1CekFc42",
         "lon": [
          -99.09638999999999
         ],
         "marker": {
          "color": "#FF6692"
         },
         "mode": "markers",
         "name": "vR1CekFc42",
         "showlegend": true,
         "subplot": "mapbox",
         "type": "scattermapbox"
        },
        {
         "hovertemplate": "User Code=xdIgrikjQY<br>lat=%{lat}<br>lon=%{lon}<extra></extra>",
         "lat": [
          19.24738
         ],
         "legendgroup": "xdIgrikjQY",
         "lon": [
          -99.12308000000002
         ],
         "marker": {
          "color": "#B6E880"
         },
         "mode": "markers",
         "name": "xdIgrikjQY",
         "showlegend": true,
         "subplot": "mapbox",
         "type": "scattermapbox"
        },
        {
         "hovertemplate": "User Code=vrfIqK6xAt<br>lat=%{lat}<br>lon=%{lon}<extra></extra>",
         "lat": [
          19.032920000000004
         ],
         "legendgroup": "vrfIqK6xAt",
         "lon": [
          -99.18835000000001
         ],
         "marker": {
          "color": "#FF97FF"
         },
         "mode": "markers",
         "name": "vrfIqK6xAt",
         "showlegend": true,
         "subplot": "mapbox",
         "type": "scattermapbox"
        },
        {
         "hovertemplate": "User Code=XiMtql76YP<br>lat=%{lat}<br>lon=%{lon}<extra></extra>",
         "lat": [
          19.37767
         ],
         "legendgroup": "XiMtql76YP",
         "lon": [
          -99.32517000000001
         ],
         "marker": {
          "color": "#FECB52"
         },
         "mode": "markers",
         "name": "XiMtql76YP",
         "showlegend": true,
         "subplot": "mapbox",
         "type": "scattermapbox"
        },
        {
         "hovertemplate": "User Code=8cS67sRvY0<br>lat=%{lat}<br>lon=%{lon}<extra></extra>",
         "lat": [
          19.57289
         ],
         "legendgroup": "8cS67sRvY0",
         "lon": [
          -99.31283000000002
         ],
         "marker": {
          "color": "#636efa"
         },
         "mode": "markers",
         "name": "8cS67sRvY0",
         "showlegend": true,
         "subplot": "mapbox",
         "type": "scattermapbox"
        },
        {
         "hovertemplate": "User Code=fzV9THxvpP<br>lat=%{lat}<br>lon=%{lon}<extra></extra>",
         "lat": [
          19.25194
         ],
         "legendgroup": "fzV9THxvpP",
         "lon": [
          -99.09821999999997
         ],
         "marker": {
          "color": "#EF553B"
         },
         "mode": "markers",
         "name": "fzV9THxvpP",
         "showlegend": true,
         "subplot": "mapbox",
         "type": "scattermapbox"
        },
        {
         "hovertemplate": "User Code=8jdeHqAyvT<br>lat=%{lat}<br>lon=%{lon}<extra></extra>",
         "lat": [
          19.29966
         ],
         "legendgroup": "8jdeHqAyvT",
         "lon": [
          -99.25233000000003
         ],
         "marker": {
          "color": "#00cc96"
         },
         "mode": "markers",
         "name": "8jdeHqAyvT",
         "showlegend": true,
         "subplot": "mapbox",
         "type": "scattermapbox"
        },
        {
         "hovertemplate": "User Code=1TBqJZRib0<br>lat=%{lat}<br>lon=%{lon}<extra></extra>",
         "lat": [
          19.0172
         ],
         "legendgroup": "1TBqJZRib0",
         "lon": [
          -99.26914
         ],
         "marker": {
          "color": "#ab63fa"
         },
         "mode": "markers",
         "name": "1TBqJZRib0",
         "showlegend": true,
         "subplot": "mapbox",
         "type": "scattermapbox"
        },
        {
         "hovertemplate": "User Code=tzGlf2yHgd<br>lat=%{lat}<br>lon=%{lon}<extra></extra>",
         "lat": [
          19.333940000000002
         ],
         "legendgroup": "tzGlf2yHgd",
         "lon": [
          -99.19001000000003
         ],
         "marker": {
          "color": "#FFA15A"
         },
         "mode": "markers",
         "name": "tzGlf2yHgd",
         "showlegend": true,
         "subplot": "mapbox",
         "type": "scattermapbox"
        },
        {
         "hovertemplate": "User Code=5NHvjfx6eY<br>lat=%{lat}<br>lon=%{lon}<extra></extra>",
         "lat": [
          19.57536
         ],
         "legendgroup": "5NHvjfx6eY",
         "lon": [
          -99.39548000000002
         ],
         "marker": {
          "color": "#19d3f3"
         },
         "mode": "markers",
         "name": "5NHvjfx6eY",
         "showlegend": true,
         "subplot": "mapbox",
         "type": "scattermapbox"
        },
        {
         "hovertemplate": "User Code=yoXW5gVlqD<br>lat=%{lat}<br>lon=%{lon}<extra></extra>",
         "lat": [
          19.20914
         ],
         "legendgroup": "yoXW5gVlqD",
         "lon": [
          -99.36274000000003
         ],
         "marker": {
          "color": "#FF6692"
         },
         "mode": "markers",
         "name": "yoXW5gVlqD",
         "showlegend": true,
         "subplot": "mapbox",
         "type": "scattermapbox"
        },
        {
         "hovertemplate": "User Code=HPTAJrtb90<br>lat=%{lat}<br>lon=%{lon}<extra></extra>",
         "lat": [
          19.57813
         ],
         "legendgroup": "HPTAJrtb90",
         "lon": [
          -99.12490000000003
         ],
         "marker": {
          "color": "#B6E880"
         },
         "mode": "markers",
         "name": "HPTAJrtb90",
         "showlegend": true,
         "subplot": "mapbox",
         "type": "scattermapbox"
        },
        {
         "hovertemplate": "User Code=TfQOnIV6Fx<br>lat=%{lat}<br>lon=%{lon}<extra></extra>",
         "lat": [
          19.50349
         ],
         "legendgroup": "TfQOnIV6Fx",
         "lon": [
          -99.31114000000002
         ],
         "marker": {
          "color": "#FF97FF"
         },
         "mode": "markers",
         "name": "TfQOnIV6Fx",
         "showlegend": true,
         "subplot": "mapbox",
         "type": "scattermapbox"
        },
        {
         "hovertemplate": "User Code=SuFeGMg0tJ<br>lat=%{lat}<br>lon=%{lon}<extra></extra>",
         "lat": [
          19.04391
         ],
         "legendgroup": "SuFeGMg0tJ",
         "lon": [
          -99.11502999999999
         ],
         "marker": {
          "color": "#FECB52"
         },
         "mode": "markers",
         "name": "SuFeGMg0tJ",
         "showlegend": true,
         "subplot": "mapbox",
         "type": "scattermapbox"
        },
        {
         "hovertemplate": "User Code=Du6qxanOHc<br>lat=%{lat}<br>lon=%{lon}<extra></extra>",
         "lat": [
          19.13026
         ],
         "legendgroup": "Du6qxanOHc",
         "lon": [
          -99.18551000000002
         ],
         "marker": {
          "color": "#636efa"
         },
         "mode": "markers",
         "name": "Du6qxanOHc",
         "showlegend": true,
         "subplot": "mapbox",
         "type": "scattermapbox"
        },
        {
         "hovertemplate": "User Code=Yr76BDcLQd<br>lat=%{lat}<br>lon=%{lon}<extra></extra>",
         "lat": [
          19.41198
         ],
         "legendgroup": "Yr76BDcLQd",
         "lon": [
          -99.32067999999998
         ],
         "marker": {
          "color": "#EF553B"
         },
         "mode": "markers",
         "name": "Yr76BDcLQd",
         "showlegend": true,
         "subplot": "mapbox",
         "type": "scattermapbox"
        },
        {
         "hovertemplate": "User Code=jU1uBfqEsN<br>lat=%{lat}<br>lon=%{lon}<extra></extra>",
         "lat": [
          19.246579999999998
         ],
         "legendgroup": "jU1uBfqEsN",
         "lon": [
          -99.15852999999998
         ],
         "marker": {
          "color": "#00cc96"
         },
         "mode": "markers",
         "name": "jU1uBfqEsN",
         "showlegend": true,
         "subplot": "mapbox",
         "type": "scattermapbox"
        },
        {
         "hovertemplate": "User Code=DyefbR5Nph<br>lat=%{lat}<br>lon=%{lon}<extra></extra>",
         "lat": [
          19.09851
         ],
         "legendgroup": "DyefbR5Nph",
         "lon": [
          -99.27697
         ],
         "marker": {
          "color": "#ab63fa"
         },
         "mode": "markers",
         "name": "DyefbR5Nph",
         "showlegend": true,
         "subplot": "mapbox",
         "type": "scattermapbox"
        },
        {
         "hovertemplate": "User Code=1s6ighPRlD<br>lat=%{lat}<br>lon=%{lon}<extra></extra>",
         "lat": [
          19.47518
         ],
         "legendgroup": "1s6ighPRlD",
         "lon": [
          -99.22320000000002
         ],
         "marker": {
          "color": "#FFA15A"
         },
         "mode": "markers",
         "name": "1s6ighPRlD",
         "showlegend": true,
         "subplot": "mapbox",
         "type": "scattermapbox"
        },
        {
         "hovertemplate": "User Code=I7zYKvj4hH<br>lat=%{lat}<br>lon=%{lon}<extra></extra>",
         "lat": [
          19.39477
         ],
         "legendgroup": "I7zYKvj4hH",
         "lon": [
          -99.16782
         ],
         "marker": {
          "color": "#19d3f3"
         },
         "mode": "markers",
         "name": "I7zYKvj4hH",
         "showlegend": true,
         "subplot": "mapbox",
         "type": "scattermapbox"
        },
        {
         "hovertemplate": "User Code=EPgWtODkxf<br>lat=%{lat}<br>lon=%{lon}<extra></extra>",
         "lat": [
          19.40126
         ],
         "legendgroup": "EPgWtODkxf",
         "lon": [
          -99.19915000000003
         ],
         "marker": {
          "color": "#FF6692"
         },
         "mode": "markers",
         "name": "EPgWtODkxf",
         "showlegend": true,
         "subplot": "mapbox",
         "type": "scattermapbox"
        },
        {
         "hovertemplate": "User Code=FseujcQKbw<br>lat=%{lat}<br>lon=%{lon}<extra></extra>",
         "lat": [
          19.141450000000003
         ],
         "legendgroup": "FseujcQKbw",
         "lon": [
          -99.04524000000004
         ],
         "marker": {
          "color": "#B6E880"
         },
         "mode": "markers",
         "name": "FseujcQKbw",
         "showlegend": true,
         "subplot": "mapbox",
         "type": "scattermapbox"
        },
        {
         "hovertemplate": "User Code=a5DXM2vhjf<br>lat=%{lat}<br>lon=%{lon}<extra></extra>",
         "lat": [
          19.11862
         ],
         "legendgroup": "a5DXM2vhjf",
         "lon": [
          -99.18534999999997
         ],
         "marker": {
          "color": "#FF97FF"
         },
         "mode": "markers",
         "name": "a5DXM2vhjf",
         "showlegend": true,
         "subplot": "mapbox",
         "type": "scattermapbox"
        },
        {
         "hovertemplate": "User Code=4SwMQKzkya<br>lat=%{lat}<br>lon=%{lon}<extra></extra>",
         "lat": [
          19.59705
         ],
         "legendgroup": "4SwMQKzkya",
         "lon": [
          -98.92869999999999
         ],
         "marker": {
          "color": "#FECB52"
         },
         "mode": "markers",
         "name": "4SwMQKzkya",
         "showlegend": true,
         "subplot": "mapbox",
         "type": "scattermapbox"
        },
        {
         "hovertemplate": "User Code=Zu27Y3ryMI<br>lat=%{lat}<br>lon=%{lon}<extra></extra>",
         "lat": [
          19.52489
         ],
         "legendgroup": "Zu27Y3ryMI",
         "lon": [
          -99.12847999999997
         ],
         "marker": {
          "color": "#636efa"
         },
         "mode": "markers",
         "name": "Zu27Y3ryMI",
         "showlegend": true,
         "subplot": "mapbox",
         "type": "scattermapbox"
        },
        {
         "hovertemplate": "User Code=TXtbO8JEjf<br>lat=%{lat}<br>lon=%{lon}<extra></extra>",
         "lat": [
          19.56955
         ],
         "legendgroup": "TXtbO8JEjf",
         "lon": [
          -99.35329999999999
         ],
         "marker": {
          "color": "#EF553B"
         },
         "mode": "markers",
         "name": "TXtbO8JEjf",
         "showlegend": true,
         "subplot": "mapbox",
         "type": "scattermapbox"
        },
        {
         "hovertemplate": "User Code=kJoiybq2Yv<br>lat=%{lat}<br>lon=%{lon}<extra></extra>",
         "lat": [
          19.25791
         ],
         "legendgroup": "kJoiybq2Yv",
         "lon": [
          -99.3003
         ],
         "marker": {
          "color": "#00cc96"
         },
         "mode": "markers",
         "name": "kJoiybq2Yv",
         "showlegend": true,
         "subplot": "mapbox",
         "type": "scattermapbox"
        },
        {
         "hovertemplate": "User Code=nedNRV59CX<br>lat=%{lat}<br>lon=%{lon}<extra></extra>",
         "lat": [
          19.295469999999998
         ],
         "legendgroup": "nedNRV59CX",
         "lon": [
          -99.20722999999998
         ],
         "marker": {
          "color": "#ab63fa"
         },
         "mode": "markers",
         "name": "nedNRV59CX",
         "showlegend": true,
         "subplot": "mapbox",
         "type": "scattermapbox"
        },
        {
         "hovertemplate": "User Code=Con5dV38gS<br>lat=%{lat}<br>lon=%{lon}<extra></extra>",
         "lat": [
          19.29583
         ],
         "legendgroup": "Con5dV38gS",
         "lon": [
          -98.95603
         ],
         "marker": {
          "color": "#FFA15A"
         },
         "mode": "markers",
         "name": "Con5dV38gS",
         "showlegend": true,
         "subplot": "mapbox",
         "type": "scattermapbox"
        },
        {
         "hovertemplate": "User Code=mNrRPBtYps<br>lat=%{lat}<br>lon=%{lon}<extra></extra>",
         "lat": [
          19.48955
         ],
         "legendgroup": "mNrRPBtYps",
         "lon": [
          -99.08596999999997
         ],
         "marker": {
          "color": "#19d3f3"
         },
         "mode": "markers",
         "name": "mNrRPBtYps",
         "showlegend": true,
         "subplot": "mapbox",
         "type": "scattermapbox"
        },
        {
         "hovertemplate": "User Code=w3U6dkogbG<br>lat=%{lat}<br>lon=%{lon}<extra></extra>",
         "lat": [
          19.119579999999996
         ],
         "legendgroup": "w3U6dkogbG",
         "lon": [
          -99.02008999999998
         ],
         "marker": {
          "color": "#FF6692"
         },
         "mode": "markers",
         "name": "w3U6dkogbG",
         "showlegend": true,
         "subplot": "mapbox",
         "type": "scattermapbox"
        },
        {
         "hovertemplate": "User Code=gtN2jUqJyD<br>lat=%{lat}<br>lon=%{lon}<extra></extra>",
         "lat": [
          19.390020000000003
         ],
         "legendgroup": "gtN2jUqJyD",
         "lon": [
          -99.24079
         ],
         "marker": {
          "color": "#B6E880"
         },
         "mode": "markers",
         "name": "gtN2jUqJyD",
         "showlegend": true,
         "subplot": "mapbox",
         "type": "scattermapbox"
        },
        {
         "hovertemplate": "User Code=GmcYLdo5bq<br>lat=%{lat}<br>lon=%{lon}<extra></extra>",
         "lat": [
          19.39612
         ],
         "legendgroup": "GmcYLdo5bq",
         "lon": [
          -99.14882999999998
         ],
         "marker": {
          "color": "#FF97FF"
         },
         "mode": "markers",
         "name": "GmcYLdo5bq",
         "showlegend": true,
         "subplot": "mapbox",
         "type": "scattermapbox"
        },
        {
         "hovertemplate": "User Code=3G6hxLFv2m<br>lat=%{lat}<br>lon=%{lon}<extra></extra>",
         "lat": [
          19.106530000000003
         ],
         "legendgroup": "3G6hxLFv2m",
         "lon": [
          -99.09563000000003
         ],
         "marker": {
          "color": "#FECB52"
         },
         "mode": "markers",
         "name": "3G6hxLFv2m",
         "showlegend": true,
         "subplot": "mapbox",
         "type": "scattermapbox"
        },
        {
         "hovertemplate": "User Code=lIrQV6PHDx<br>lat=%{lat}<br>lon=%{lon}<extra></extra>",
         "lat": [
          19.5558
         ],
         "legendgroup": "lIrQV6PHDx",
         "lon": [
          -99.07346000000001
         ],
         "marker": {
          "color": "#636efa"
         },
         "mode": "markers",
         "name": "lIrQV6PHDx",
         "showlegend": true,
         "subplot": "mapbox",
         "type": "scattermapbox"
        },
        {
         "hovertemplate": "User Code=Redsnc8lvY<br>lat=%{lat}<br>lon=%{lon}<extra></extra>",
         "lat": [
          19.35083
         ],
         "legendgroup": "Redsnc8lvY",
         "lon": [
          -98.92363999999998
         ],
         "marker": {
          "color": "#EF553B"
         },
         "mode": "markers",
         "name": "Redsnc8lvY",
         "showlegend": true,
         "subplot": "mapbox",
         "type": "scattermapbox"
        },
        {
         "hovertemplate": "User Code=lIGkZ50hU2<br>lat=%{lat}<br>lon=%{lon}<extra></extra>",
         "lat": [
          19.503
         ],
         "legendgroup": "lIGkZ50hU2",
         "lon": [
          -99.12819999999999
         ],
         "marker": {
          "color": "#00cc96"
         },
         "mode": "markers",
         "name": "lIGkZ50hU2",
         "showlegend": true,
         "subplot": "mapbox",
         "type": "scattermapbox"
        },
        {
         "hovertemplate": "User Code=vMAXy1dZmb<br>lat=%{lat}<br>lon=%{lon}<extra></extra>",
         "lat": [
          19.052680000000002
         ],
         "legendgroup": "vMAXy1dZmb",
         "lon": [
          -98.94364000000002
         ],
         "marker": {
          "color": "#ab63fa"
         },
         "mode": "markers",
         "name": "vMAXy1dZmb",
         "showlegend": true,
         "subplot": "mapbox",
         "type": "scattermapbox"
        },
        {
         "hovertemplate": "User Code=d3wnxLuqts<br>lat=%{lat}<br>lon=%{lon}<extra></extra>",
         "lat": [
          19.31263
         ],
         "legendgroup": "d3wnxLuqts",
         "lon": [
          -98.97176000000002
         ],
         "marker": {
          "color": "#FFA15A"
         },
         "mode": "markers",
         "name": "d3wnxLuqts",
         "showlegend": true,
         "subplot": "mapbox",
         "type": "scattermapbox"
        },
        {
         "hovertemplate": "User Code=VJGTYFQ3zo<br>lat=%{lat}<br>lon=%{lon}<extra></extra>",
         "lat": [
          19.40742
         ],
         "legendgroup": "VJGTYFQ3zo",
         "lon": [
          -99.04488000000003
         ],
         "marker": {
          "color": "#19d3f3"
         },
         "mode": "markers",
         "name": "VJGTYFQ3zo",
         "showlegend": true,
         "subplot": "mapbox",
         "type": "scattermapbox"
        },
        {
         "hovertemplate": "User Code=89PsMvahUn<br>lat=%{lat}<br>lon=%{lon}<extra></extra>",
         "lat": [
          19.428190000000004
         ],
         "legendgroup": "89PsMvahUn",
         "lon": [
          -99.23401999999999
         ],
         "marker": {
          "color": "#FF6692"
         },
         "mode": "markers",
         "name": "89PsMvahUn",
         "showlegend": true,
         "subplot": "mapbox",
         "type": "scattermapbox"
        },
        {
         "hovertemplate": "User Code=Dh8xayCMbq<br>lat=%{lat}<br>lon=%{lon}<extra></extra>",
         "lat": [
          19.184010000000004
         ],
         "legendgroup": "Dh8xayCMbq",
         "lon": [
          -99.29154
         ],
         "marker": {
          "color": "#B6E880"
         },
         "mode": "markers",
         "name": "Dh8xayCMbq",
         "showlegend": true,
         "subplot": "mapbox",
         "type": "scattermapbox"
        },
        {
         "hovertemplate": "User Code=KEiVdwFbAY<br>lat=%{lat}<br>lon=%{lon}<extra></extra>",
         "lat": [
          19.53362
         ],
         "legendgroup": "KEiVdwFbAY",
         "lon": [
          -99.04032000000001
         ],
         "marker": {
          "color": "#FF97FF"
         },
         "mode": "markers",
         "name": "KEiVdwFbAY",
         "showlegend": true,
         "subplot": "mapbox",
         "type": "scattermapbox"
        },
        {
         "hovertemplate": "User Code=Yl82t9gKbf<br>lat=%{lat}<br>lon=%{lon}<extra></extra>",
         "lat": [
          19.33784
         ],
         "legendgroup": "Yl82t9gKbf",
         "lon": [
          -98.97706
         ],
         "marker": {
          "color": "#FECB52"
         },
         "mode": "markers",
         "name": "Yl82t9gKbf",
         "showlegend": true,
         "subplot": "mapbox",
         "type": "scattermapbox"
        },
        {
         "hovertemplate": "User Code=GYI1bJ5Zjg<br>lat=%{lat}<br>lon=%{lon}<extra></extra>",
         "lat": [
          19.41796
         ],
         "legendgroup": "GYI1bJ5Zjg",
         "lon": [
          -99.25351999999998
         ],
         "marker": {
          "color": "#636efa"
         },
         "mode": "markers",
         "name": "GYI1bJ5Zjg",
         "showlegend": true,
         "subplot": "mapbox",
         "type": "scattermapbox"
        },
        {
         "hovertemplate": "User Code=BFj7HgoDSh<br>lat=%{lat}<br>lon=%{lon}<extra></extra>",
         "lat": [
          19.07377
         ],
         "legendgroup": "BFj7HgoDSh",
         "lon": [
          -99.06524000000002
         ],
         "marker": {
          "color": "#EF553B"
         },
         "mode": "markers",
         "name": "BFj7HgoDSh",
         "showlegend": true,
         "subplot": "mapbox",
         "type": "scattermapbox"
        },
        {
         "hovertemplate": "User Code=oYkCTSnPDO<br>lat=%{lat}<br>lon=%{lon}<extra></extra>",
         "lat": [
          19.24486
         ],
         "legendgroup": "oYkCTSnPDO",
         "lon": [
          -99.32353
         ],
         "marker": {
          "color": "#00cc96"
         },
         "mode": "markers",
         "name": "oYkCTSnPDO",
         "showlegend": true,
         "subplot": "mapbox",
         "type": "scattermapbox"
        },
        {
         "hovertemplate": "User Code=AMK73Zs0vL<br>lat=%{lat}<br>lon=%{lon}<extra></extra>",
         "lat": [
          19.15542
         ],
         "legendgroup": "AMK73Zs0vL",
         "lon": [
          -99.05822999999998
         ],
         "marker": {
          "color": "#ab63fa"
         },
         "mode": "markers",
         "name": "AMK73Zs0vL",
         "showlegend": true,
         "subplot": "mapbox",
         "type": "scattermapbox"
        },
        {
         "hovertemplate": "User Code=1PQrwVvz3b<br>lat=%{lat}<br>lon=%{lon}<extra></extra>",
         "lat": [
          19.128860000000003
         ],
         "legendgroup": "1PQrwVvz3b",
         "lon": [
          -98.91271
         ],
         "marker": {
          "color": "#FFA15A"
         },
         "mode": "markers",
         "name": "1PQrwVvz3b",
         "showlegend": true,
         "subplot": "mapbox",
         "type": "scattermapbox"
        },
        {
         "hovertemplate": "User Code=zqmUQdwehn<br>lat=%{lat}<br>lon=%{lon}<extra></extra>",
         "lat": [
          19.56998
         ],
         "legendgroup": "zqmUQdwehn",
         "lon": [
          -99.28823
         ],
         "marker": {
          "color": "#19d3f3"
         },
         "mode": "markers",
         "name": "zqmUQdwehn",
         "showlegend": true,
         "subplot": "mapbox",
         "type": "scattermapbox"
        },
        {
         "hovertemplate": "User Code=NznYhwidGF<br>lat=%{lat}<br>lon=%{lon}<extra></extra>",
         "lat": [
          19.40664
         ],
         "legendgroup": "NznYhwidGF",
         "lon": [
          -99.25684000000001
         ],
         "marker": {
          "color": "#FF6692"
         },
         "mode": "markers",
         "name": "NznYhwidGF",
         "showlegend": true,
         "subplot": "mapbox",
         "type": "scattermapbox"
        },
        {
         "hovertemplate": "User Code=ykV9eorBuc<br>lat=%{lat}<br>lon=%{lon}<extra></extra>",
         "lat": [
          19.2952
         ],
         "legendgroup": "ykV9eorBuc",
         "lon": [
          -99.27269000000001
         ],
         "marker": {
          "color": "#B6E880"
         },
         "mode": "markers",
         "name": "ykV9eorBuc",
         "showlegend": true,
         "subplot": "mapbox",
         "type": "scattermapbox"
        },
        {
         "hovertemplate": "User Code=GJa8bHxZcD<br>lat=%{lat}<br>lon=%{lon}<extra></extra>",
         "lat": [
          19.26609
         ],
         "legendgroup": "GJa8bHxZcD",
         "lon": [
          -99.22932000000003
         ],
         "marker": {
          "color": "#FF97FF"
         },
         "mode": "markers",
         "name": "GJa8bHxZcD",
         "showlegend": true,
         "subplot": "mapbox",
         "type": "scattermapbox"
        },
        {
         "hovertemplate": "User Code=5vS6FJh8Ke<br>lat=%{lat}<br>lon=%{lon}<extra></extra>",
         "lat": [
          19.36991
         ],
         "legendgroup": "5vS6FJh8Ke",
         "lon": [
          -98.91568999999998
         ],
         "marker": {
          "color": "#FECB52"
         },
         "mode": "markers",
         "name": "5vS6FJh8Ke",
         "showlegend": true,
         "subplot": "mapbox",
         "type": "scattermapbox"
        },
        {
         "hovertemplate": "User Code=lioftQp0bG<br>lat=%{lat}<br>lon=%{lon}<extra></extra>",
         "lat": [
          19.54116
         ],
         "legendgroup": "lioftQp0bG",
         "lon": [
          -99.37805000000003
         ],
         "marker": {
          "color": "#636efa"
         },
         "mode": "markers",
         "name": "lioftQp0bG",
         "showlegend": true,
         "subplot": "mapbox",
         "type": "scattermapbox"
        },
        {
         "hovertemplate": "User Code=974K5qSHvL<br>lat=%{lat}<br>lon=%{lon}<extra></extra>",
         "lat": [
          19.52662
         ],
         "legendgroup": "974K5qSHvL",
         "lon": [
          -99.07909999999998
         ],
         "marker": {
          "color": "#EF553B"
         },
         "mode": "markers",
         "name": "974K5qSHvL",
         "showlegend": true,
         "subplot": "mapbox",
         "type": "scattermapbox"
        },
        {
         "hovertemplate": "User Code=0WZ4DhEQAa<br>lat=%{lat}<br>lon=%{lon}<extra></extra>",
         "lat": [
          19.38055
         ],
         "legendgroup": "0WZ4DhEQAa",
         "lon": [
          -99.23657000000003
         ],
         "marker": {
          "color": "#00cc96"
         },
         "mode": "markers",
         "name": "0WZ4DhEQAa",
         "showlegend": true,
         "subplot": "mapbox",
         "type": "scattermapbox"
        },
        {
         "hovertemplate": "User Code=TjbIfpRDmX<br>lat=%{lat}<br>lon=%{lon}<extra></extra>",
         "lat": [
          19.00713
         ],
         "legendgroup": "TjbIfpRDmX",
         "lon": [
          -99.26650000000001
         ],
         "marker": {
          "color": "#ab63fa"
         },
         "mode": "markers",
         "name": "TjbIfpRDmX",
         "showlegend": true,
         "subplot": "mapbox",
         "type": "scattermapbox"
        },
        {
         "hovertemplate": "User Code=vZXxpa3h5J<br>lat=%{lat}<br>lon=%{lon}<extra></extra>",
         "lat": [
          19.37188
         ],
         "legendgroup": "vZXxpa3h5J",
         "lon": [
          -99.16656999999998
         ],
         "marker": {
          "color": "#FFA15A"
         },
         "mode": "markers",
         "name": "vZXxpa3h5J",
         "showlegend": true,
         "subplot": "mapbox",
         "type": "scattermapbox"
        },
        {
         "hovertemplate": "User Code=vFScG3rZp1<br>lat=%{lat}<br>lon=%{lon}<extra></extra>",
         "lat": [
          19.33969
         ],
         "legendgroup": "vFScG3rZp1",
         "lon": [
          -99.16298999999998
         ],
         "marker": {
          "color": "#19d3f3"
         },
         "mode": "markers",
         "name": "vFScG3rZp1",
         "showlegend": true,
         "subplot": "mapbox",
         "type": "scattermapbox"
        },
        {
         "hovertemplate": "User Code=62qFKNi7Gs<br>lat=%{lat}<br>lon=%{lon}<extra></extra>",
         "lat": [
          19.42226
         ],
         "legendgroup": "62qFKNi7Gs",
         "lon": [
          -99.00431000000003
         ],
         "marker": {
          "color": "#FF6692"
         },
         "mode": "markers",
         "name": "62qFKNi7Gs",
         "showlegend": true,
         "subplot": "mapbox",
         "type": "scattermapbox"
        },
        {
         "hovertemplate": "User Code=YcyEF5DdjA<br>lat=%{lat}<br>lon=%{lon}<extra></extra>",
         "lat": [
          19.16358
         ],
         "legendgroup": "YcyEF5DdjA",
         "lon": [
          -98.90087
         ],
         "marker": {
          "color": "#B6E880"
         },
         "mode": "markers",
         "name": "YcyEF5DdjA",
         "showlegend": true,
         "subplot": "mapbox",
         "type": "scattermapbox"
        },
        {
         "hovertemplate": "User Code=c19UZH7h8k<br>lat=%{lat}<br>lon=%{lon}<extra></extra>",
         "lat": [
          19.21574
         ],
         "legendgroup": "c19UZH7h8k",
         "lon": [
          -99.29655000000002
         ],
         "marker": {
          "color": "#FF97FF"
         },
         "mode": "markers",
         "name": "c19UZH7h8k",
         "showlegend": true,
         "subplot": "mapbox",
         "type": "scattermapbox"
        },
        {
         "hovertemplate": "User Code=SIu5q08hWe<br>lat=%{lat}<br>lon=%{lon}<extra></extra>",
         "lat": [
          19.54062
         ],
         "legendgroup": "SIu5q08hWe",
         "lon": [
          -99.37380999999999
         ],
         "marker": {
          "color": "#FECB52"
         },
         "mode": "markers",
         "name": "SIu5q08hWe",
         "showlegend": true,
         "subplot": "mapbox",
         "type": "scattermapbox"
        },
        {
         "hovertemplate": "User Code=3cUaCpZKFR<br>lat=%{lat}<br>lon=%{lon}<extra></extra>",
         "lat": [
          19.53086
         ],
         "legendgroup": "3cUaCpZKFR",
         "lon": [
          -99.33629000000002
         ],
         "marker": {
          "color": "#636efa"
         },
         "mode": "markers",
         "name": "3cUaCpZKFR",
         "showlegend": true,
         "subplot": "mapbox",
         "type": "scattermapbox"
        },
        {
         "hovertemplate": "User Code=O2DCdpr65k<br>lat=%{lat}<br>lon=%{lon}<extra></extra>",
         "lat": [
          19.4531
         ],
         "legendgroup": "O2DCdpr65k",
         "lon": [
          -98.93191999999999
         ],
         "marker": {
          "color": "#EF553B"
         },
         "mode": "markers",
         "name": "O2DCdpr65k",
         "showlegend": true,
         "subplot": "mapbox",
         "type": "scattermapbox"
        },
        {
         "hovertemplate": "User Code=UaV5sWGE6L<br>lat=%{lat}<br>lon=%{lon}<extra></extra>",
         "lat": [
          19.23617
         ],
         "legendgroup": "UaV5sWGE6L",
         "lon": [
          -98.90870999999999
         ],
         "marker": {
          "color": "#00cc96"
         },
         "mode": "markers",
         "name": "UaV5sWGE6L",
         "showlegend": true,
         "subplot": "mapbox",
         "type": "scattermapbox"
        },
        {
         "hovertemplate": "User Code=sAHVRcmkn8<br>lat=%{lat}<br>lon=%{lon}<extra></extra>",
         "lat": [
          19.35767
         ],
         "legendgroup": "sAHVRcmkn8",
         "lon": [
          -98.93308000000002
         ],
         "marker": {
          "color": "#ab63fa"
         },
         "mode": "markers",
         "name": "sAHVRcmkn8",
         "showlegend": true,
         "subplot": "mapbox",
         "type": "scattermapbox"
        },
        {
         "hovertemplate": "User Code=pvHokrKl9E<br>lat=%{lat}<br>lon=%{lon}<extra></extra>",
         "lat": [
          19.354960000000002
         ],
         "legendgroup": "pvHokrKl9E",
         "lon": [
          -98.95685000000003
         ],
         "marker": {
          "color": "#FFA15A"
         },
         "mode": "markers",
         "name": "pvHokrKl9E",
         "showlegend": true,
         "subplot": "mapbox",
         "type": "scattermapbox"
        },
        {
         "hovertemplate": "User Code=dkSysR2nmK<br>lat=%{lat}<br>lon=%{lon}<extra></extra>",
         "lat": [
          19.31671
         ],
         "legendgroup": "dkSysR2nmK",
         "lon": [
          -99.05863999999997
         ],
         "marker": {
          "color": "#19d3f3"
         },
         "mode": "markers",
         "name": "dkSysR2nmK",
         "showlegend": true,
         "subplot": "mapbox",
         "type": "scattermapbox"
        },
        {
         "hovertemplate": "User Code=54K3GjRqhT<br>lat=%{lat}<br>lon=%{lon}<extra></extra>",
         "lat": [
          19.096400000000003
         ],
         "legendgroup": "54K3GjRqhT",
         "lon": [
          -99.13995
         ],
         "marker": {
          "color": "#FF6692"
         },
         "mode": "markers",
         "name": "54K3GjRqhT",
         "showlegend": true,
         "subplot": "mapbox",
         "type": "scattermapbox"
        },
        {
         "hovertemplate": "User Code=HQvLk4c0Ft<br>lat=%{lat}<br>lon=%{lon}<extra></extra>",
         "lat": [
          19.34024
         ],
         "legendgroup": "HQvLk4c0Ft",
         "lon": [
          -99.30405999999999
         ],
         "marker": {
          "color": "#B6E880"
         },
         "mode": "markers",
         "name": "HQvLk4c0Ft",
         "showlegend": true,
         "subplot": "mapbox",
         "type": "scattermapbox"
        },
        {
         "hovertemplate": "User Code=3RKozvAmT8<br>lat=%{lat}<br>lon=%{lon}<extra></extra>",
         "lat": [
          19.5302
         ],
         "legendgroup": "3RKozvAmT8",
         "lon": [
          -98.97689000000003
         ],
         "marker": {
          "color": "#FF97FF"
         },
         "mode": "markers",
         "name": "3RKozvAmT8",
         "showlegend": true,
         "subplot": "mapbox",
         "type": "scattermapbox"
        },
        {
         "hovertemplate": "User Code=1znrHaGVCM<br>lat=%{lat}<br>lon=%{lon}<extra></extra>",
         "lat": [
          19.15759
         ],
         "legendgroup": "1znrHaGVCM",
         "lon": [
          -99.01184999999998
         ],
         "marker": {
          "color": "#FECB52"
         },
         "mode": "markers",
         "name": "1znrHaGVCM",
         "showlegend": true,
         "subplot": "mapbox",
         "type": "scattermapbox"
        },
        {
         "hovertemplate": "User Code=mJIDui3FC1<br>lat=%{lat}<br>lon=%{lon}<extra></extra>",
         "lat": [
          19.271819999999998
         ],
         "legendgroup": "mJIDui3FC1",
         "lon": [
          -99.10352999999998
         ],
         "marker": {
          "color": "#636efa"
         },
         "mode": "markers",
         "name": "mJIDui3FC1",
         "showlegend": true,
         "subplot": "mapbox",
         "type": "scattermapbox"
        },
        {
         "hovertemplate": "User Code=jH8nWSpgBJ<br>lat=%{lat}<br>lon=%{lon}<extra></extra>",
         "lat": [
          19.59377
         ],
         "legendgroup": "jH8nWSpgBJ",
         "lon": [
          -98.93236000000002
         ],
         "marker": {
          "color": "#EF553B"
         },
         "mode": "markers",
         "name": "jH8nWSpgBJ",
         "showlegend": true,
         "subplot": "mapbox",
         "type": "scattermapbox"
        },
        {
         "hovertemplate": "User Code=pFHD47Y6gl<br>lat=%{lat}<br>lon=%{lon}<extra></extra>",
         "lat": [
          19.21707
         ],
         "legendgroup": "pFHD47Y6gl",
         "lon": [
          -99.15133000000003
         ],
         "marker": {
          "color": "#00cc96"
         },
         "mode": "markers",
         "name": "pFHD47Y6gl",
         "showlegend": true,
         "subplot": "mapbox",
         "type": "scattermapbox"
        },
        {
         "hovertemplate": "User Code=jxURCiXT1N<br>lat=%{lat}<br>lon=%{lon}<extra></extra>",
         "lat": [
          19.30818
         ],
         "legendgroup": "jxURCiXT1N",
         "lon": [
          -99.30847
         ],
         "marker": {
          "color": "#ab63fa"
         },
         "mode": "markers",
         "name": "jxURCiXT1N",
         "showlegend": true,
         "subplot": "mapbox",
         "type": "scattermapbox"
        },
        {
         "hovertemplate": "User Code=Jx5NRwLl7c<br>lat=%{lat}<br>lon=%{lon}<extra></extra>",
         "lat": [
          19.39839
         ],
         "legendgroup": "Jx5NRwLl7c",
         "lon": [
          -99.3356
         ],
         "marker": {
          "color": "#FFA15A"
         },
         "mode": "markers",
         "name": "Jx5NRwLl7c",
         "showlegend": true,
         "subplot": "mapbox",
         "type": "scattermapbox"
        },
        {
         "hovertemplate": "User Code=ahWCMNOxkL<br>lat=%{lat}<br>lon=%{lon}<extra></extra>",
         "lat": [
          19.357729999999997
         ],
         "legendgroup": "ahWCMNOxkL",
         "lon": [
          -99.18597
         ],
         "marker": {
          "color": "#19d3f3"
         },
         "mode": "markers",
         "name": "ahWCMNOxkL",
         "showlegend": true,
         "subplot": "mapbox",
         "type": "scattermapbox"
        },
        {
         "hovertemplate": "User Code=sUWMfjP3nC<br>lat=%{lat}<br>lon=%{lon}<extra></extra>",
         "lat": [
          19.46544
         ],
         "legendgroup": "sUWMfjP3nC",
         "lon": [
          -99.31977999999998
         ],
         "marker": {
          "color": "#FF6692"
         },
         "mode": "markers",
         "name": "sUWMfjP3nC",
         "showlegend": true,
         "subplot": "mapbox",
         "type": "scattermapbox"
        },
        {
         "hovertemplate": "User Code=neOpslL1tc<br>lat=%{lat}<br>lon=%{lon}<extra></extra>",
         "lat": [
          19.03415
         ],
         "legendgroup": "neOpslL1tc",
         "lon": [
          -99.07661000000002
         ],
         "marker": {
          "color": "#B6E880"
         },
         "mode": "markers",
         "name": "neOpslL1tc",
         "showlegend": true,
         "subplot": "mapbox",
         "type": "scattermapbox"
        },
        {
         "hovertemplate": "User Code=h45Wux7wfm<br>lat=%{lat}<br>lon=%{lon}<extra></extra>",
         "lat": [
          19.4143
         ],
         "legendgroup": "h45Wux7wfm",
         "lon": [
          -99.17872
         ],
         "marker": {
          "color": "#FF97FF"
         },
         "mode": "markers",
         "name": "h45Wux7wfm",
         "showlegend": true,
         "subplot": "mapbox",
         "type": "scattermapbox"
        },
        {
         "hovertemplate": "User Code=jkx8AwZJHp<br>lat=%{lat}<br>lon=%{lon}<extra></extra>",
         "lat": [
          19.46021
         ],
         "legendgroup": "jkx8AwZJHp",
         "lon": [
          -99.13580000000002
         ],
         "marker": {
          "color": "#FECB52"
         },
         "mode": "markers",
         "name": "jkx8AwZJHp",
         "showlegend": true,
         "subplot": "mapbox",
         "type": "scattermapbox"
        },
        {
         "hovertemplate": "User Code=IX4OYwuv3c<br>lat=%{lat}<br>lon=%{lon}<extra></extra>",
         "lat": [
          19.54415
         ],
         "legendgroup": "IX4OYwuv3c",
         "lon": [
          -98.96749
         ],
         "marker": {
          "color": "#636efa"
         },
         "mode": "markers",
         "name": "IX4OYwuv3c",
         "showlegend": true,
         "subplot": "mapbox",
         "type": "scattermapbox"
        },
        {
         "hovertemplate": "User Code=BKARryVUnM<br>lat=%{lat}<br>lon=%{lon}<extra></extra>",
         "lat": [
          19.27869
         ],
         "legendgroup": "BKARryVUnM",
         "lon": [
          -99.23283000000004
         ],
         "marker": {
          "color": "#EF553B"
         },
         "mode": "markers",
         "name": "BKARryVUnM",
         "showlegend": true,
         "subplot": "mapbox",
         "type": "scattermapbox"
        },
        {
         "hovertemplate": "User Code=FSQO64E1Mx<br>lat=%{lat}<br>lon=%{lon}<extra></extra>",
         "lat": [
          19.49697
         ],
         "legendgroup": "FSQO64E1Mx",
         "lon": [
          -99.14666999999997
         ],
         "marker": {
          "color": "#00cc96"
         },
         "mode": "markers",
         "name": "FSQO64E1Mx",
         "showlegend": true,
         "subplot": "mapbox",
         "type": "scattermapbox"
        },
        {
         "hovertemplate": "User Code=HN2FGvZMr5<br>lat=%{lat}<br>lon=%{lon}<extra></extra>",
         "lat": [
          19.33735
         ],
         "legendgroup": "HN2FGvZMr5",
         "lon": [
          -98.91295000000002
         ],
         "marker": {
          "color": "#ab63fa"
         },
         "mode": "markers",
         "name": "HN2FGvZMr5",
         "showlegend": true,
         "subplot": "mapbox",
         "type": "scattermapbox"
        },
        {
         "hovertemplate": "User Code=miT61GHKdl<br>lat=%{lat}<br>lon=%{lon}<extra></extra>",
         "lat": [
          19.38942
         ],
         "legendgroup": "miT61GHKdl",
         "lon": [
          -98.97842000000003
         ],
         "marker": {
          "color": "#FFA15A"
         },
         "mode": "markers",
         "name": "miT61GHKdl",
         "showlegend": true,
         "subplot": "mapbox",
         "type": "scattermapbox"
        },
        {
         "hovertemplate": "User Code=JQP8OCHXcS<br>lat=%{lat}<br>lon=%{lon}<extra></extra>",
         "lat": [
          19.0427
         ],
         "legendgroup": "JQP8OCHXcS",
         "lon": [
          -99.39573999999999
         ],
         "marker": {
          "color": "#19d3f3"
         },
         "mode": "markers",
         "name": "JQP8OCHXcS",
         "showlegend": true,
         "subplot": "mapbox",
         "type": "scattermapbox"
        },
        {
         "hovertemplate": "User Code=AD5thg3m9b<br>lat=%{lat}<br>lon=%{lon}<extra></extra>",
         "lat": [
          19.49475
         ],
         "legendgroup": "AD5thg3m9b",
         "lon": [
          -99.04682000000003
         ],
         "marker": {
          "color": "#FF6692"
         },
         "mode": "markers",
         "name": "AD5thg3m9b",
         "showlegend": true,
         "subplot": "mapbox",
         "type": "scattermapbox"
        },
        {
         "hovertemplate": "User Code=iz5ZF1LxCu<br>lat=%{lat}<br>lon=%{lon}<extra></extra>",
         "lat": [
          19.23882
         ],
         "legendgroup": "iz5ZF1LxCu",
         "lon": [
          -99.08159
         ],
         "marker": {
          "color": "#B6E880"
         },
         "mode": "markers",
         "name": "iz5ZF1LxCu",
         "showlegend": true,
         "subplot": "mapbox",
         "type": "scattermapbox"
        },
        {
         "hovertemplate": "User Code=Ww1XTaipgn<br>lat=%{lat}<br>lon=%{lon}<extra></extra>",
         "lat": [
          19.28959
         ],
         "legendgroup": "Ww1XTaipgn",
         "lon": [
          -99.18212
         ],
         "marker": {
          "color": "#FF97FF"
         },
         "mode": "markers",
         "name": "Ww1XTaipgn",
         "showlegend": true,
         "subplot": "mapbox",
         "type": "scattermapbox"
        },
        {
         "hovertemplate": "User Code=mHVoYAnNcb<br>lat=%{lat}<br>lon=%{lon}<extra></extra>",
         "lat": [
          19.100919999999995
         ],
         "legendgroup": "mHVoYAnNcb",
         "lon": [
          -98.90069
         ],
         "marker": {
          "color": "#FECB52"
         },
         "mode": "markers",
         "name": "mHVoYAnNcb",
         "showlegend": true,
         "subplot": "mapbox",
         "type": "scattermapbox"
        },
        {
         "hovertemplate": "User Code=6OtN5Y1soE<br>lat=%{lat}<br>lon=%{lon}<extra></extra>",
         "lat": [
          19.15782
         ],
         "legendgroup": "6OtN5Y1soE",
         "lon": [
          -99.26882999999998
         ],
         "marker": {
          "color": "#636efa"
         },
         "mode": "markers",
         "name": "6OtN5Y1soE",
         "showlegend": true,
         "subplot": "mapbox",
         "type": "scattermapbox"
        },
        {
         "hovertemplate": "User Code=2sJwIchN1p<br>lat=%{lat}<br>lon=%{lon}<extra></extra>",
         "lat": [
          19.33045
         ],
         "legendgroup": "2sJwIchN1p",
         "lon": [
          -98.90679999999998
         ],
         "marker": {
          "color": "#EF553B"
         },
         "mode": "markers",
         "name": "2sJwIchN1p",
         "showlegend": true,
         "subplot": "mapbox",
         "type": "scattermapbox"
        },
        {
         "hovertemplate": "User Code=ih8j5YSxur<br>lat=%{lat}<br>lon=%{lon}<extra></extra>",
         "lat": [
          19.0149
         ],
         "legendgroup": "ih8j5YSxur",
         "lon": [
          -99.26357999999999
         ],
         "marker": {
          "color": "#00cc96"
         },
         "mode": "markers",
         "name": "ih8j5YSxur",
         "showlegend": true,
         "subplot": "mapbox",
         "type": "scattermapbox"
        },
        {
         "hovertemplate": "User Code=ZN5fCvTWAz<br>lat=%{lat}<br>lon=%{lon}<extra></extra>",
         "lat": [
          19.46287
         ],
         "legendgroup": "ZN5fCvTWAz",
         "lon": [
          -98.97159999999997
         ],
         "marker": {
          "color": "#ab63fa"
         },
         "mode": "markers",
         "name": "ZN5fCvTWAz",
         "showlegend": true,
         "subplot": "mapbox",
         "type": "scattermapbox"
        },
        {
         "hovertemplate": "User Code=apjzW8AF2i<br>lat=%{lat}<br>lon=%{lon}<extra></extra>",
         "lat": [
          19.44092
         ],
         "legendgroup": "apjzW8AF2i",
         "lon": [
          -99.09557999999998
         ],
         "marker": {
          "color": "#FFA15A"
         },
         "mode": "markers",
         "name": "apjzW8AF2i",
         "showlegend": true,
         "subplot": "mapbox",
         "type": "scattermapbox"
        },
        {
         "hovertemplate": "User Code=YkQb0Dvfhr<br>lat=%{lat}<br>lon=%{lon}<extra></extra>",
         "lat": [
          19.35751
         ],
         "legendgroup": "YkQb0Dvfhr",
         "lon": [
          -99.3467
         ],
         "marker": {
          "color": "#19d3f3"
         },
         "mode": "markers",
         "name": "YkQb0Dvfhr",
         "showlegend": true,
         "subplot": "mapbox",
         "type": "scattermapbox"
        },
        {
         "hovertemplate": "User Code=dx2KeF3cVX<br>lat=%{lat}<br>lon=%{lon}<extra></extra>",
         "lat": [
          19.45385
         ],
         "legendgroup": "dx2KeF3cVX",
         "lon": [
          -99.17153000000002
         ],
         "marker": {
          "color": "#FF6692"
         },
         "mode": "markers",
         "name": "dx2KeF3cVX",
         "showlegend": true,
         "subplot": "mapbox",
         "type": "scattermapbox"
        },
        {
         "hovertemplate": "User Code=AHfsXwlagG<br>lat=%{lat}<br>lon=%{lon}<extra></extra>",
         "lat": [
          19.06054
         ],
         "legendgroup": "AHfsXwlagG",
         "lon": [
          -99.31853000000001
         ],
         "marker": {
          "color": "#B6E880"
         },
         "mode": "markers",
         "name": "AHfsXwlagG",
         "showlegend": true,
         "subplot": "mapbox",
         "type": "scattermapbox"
        },
        {
         "hovertemplate": "User Code=04mtG37jhw<br>lat=%{lat}<br>lon=%{lon}<extra></extra>",
         "lat": [
          19.30116
         ],
         "legendgroup": "04mtG37jhw",
         "lon": [
          -98.99248999999998
         ],
         "marker": {
          "color": "#FF97FF"
         },
         "mode": "markers",
         "name": "04mtG37jhw",
         "showlegend": true,
         "subplot": "mapbox",
         "type": "scattermapbox"
        },
        {
         "hovertemplate": "User Code=7GBPXYMhQ2<br>lat=%{lat}<br>lon=%{lon}<extra></extra>",
         "lat": [
          19.10238
         ],
         "legendgroup": "7GBPXYMhQ2",
         "lon": [
          -99.25994000000003
         ],
         "marker": {
          "color": "#FECB52"
         },
         "mode": "markers",
         "name": "7GBPXYMhQ2",
         "showlegend": true,
         "subplot": "mapbox",
         "type": "scattermapbox"
        },
        {
         "hovertemplate": "User Code=QoBwYSKT03<br>lat=%{lat}<br>lon=%{lon}<extra></extra>",
         "lat": [
          19.5882
         ],
         "legendgroup": "QoBwYSKT03",
         "lon": [
          -99.35969
         ],
         "marker": {
          "color": "#636efa"
         },
         "mode": "markers",
         "name": "QoBwYSKT03",
         "showlegend": true,
         "subplot": "mapbox",
         "type": "scattermapbox"
        },
        {
         "hovertemplate": "User Code=MA9clXoax0<br>lat=%{lat}<br>lon=%{lon}<extra></extra>",
         "lat": [
          19.30477
         ],
         "legendgroup": "MA9clXoax0",
         "lon": [
          -99.38295
         ],
         "marker": {
          "color": "#EF553B"
         },
         "mode": "markers",
         "name": "MA9clXoax0",
         "showlegend": true,
         "subplot": "mapbox",
         "type": "scattermapbox"
        },
        {
         "hovertemplate": "User Code=rJvKcz05Bt<br>lat=%{lat}<br>lon=%{lon}<extra></extra>",
         "lat": [
          19.035079999999997
         ],
         "legendgroup": "rJvKcz05Bt",
         "lon": [
          -99.17561
         ],
         "marker": {
          "color": "#00cc96"
         },
         "mode": "markers",
         "name": "rJvKcz05Bt",
         "showlegend": true,
         "subplot": "mapbox",
         "type": "scattermapbox"
        },
        {
         "hovertemplate": "User Code=SNQ7eoxv0q<br>lat=%{lat}<br>lon=%{lon}<extra></extra>",
         "lat": [
          19.039209999999997
         ],
         "legendgroup": "SNQ7eoxv0q",
         "lon": [
          -99.35563000000002
         ],
         "marker": {
          "color": "#ab63fa"
         },
         "mode": "markers",
         "name": "SNQ7eoxv0q",
         "showlegend": true,
         "subplot": "mapbox",
         "type": "scattermapbox"
        },
        {
         "hovertemplate": "User Code=QVDgtLYBHp<br>lat=%{lat}<br>lon=%{lon}<extra></extra>",
         "lat": [
          19.02278
         ],
         "legendgroup": "QVDgtLYBHp",
         "lon": [
          -99.21501
         ],
         "marker": {
          "color": "#FFA15A"
         },
         "mode": "markers",
         "name": "QVDgtLYBHp",
         "showlegend": true,
         "subplot": "mapbox",
         "type": "scattermapbox"
        },
        {
         "hovertemplate": "User Code=RSNmJvPph3<br>lat=%{lat}<br>lon=%{lon}<extra></extra>",
         "lat": [
          19.160389999999996
         ],
         "legendgroup": "RSNmJvPph3",
         "lon": [
          -99.29939999999999
         ],
         "marker": {
          "color": "#19d3f3"
         },
         "mode": "markers",
         "name": "RSNmJvPph3",
         "showlegend": true,
         "subplot": "mapbox",
         "type": "scattermapbox"
        },
        {
         "hovertemplate": "User Code=5NJdbzytj7<br>lat=%{lat}<br>lon=%{lon}<extra></extra>",
         "lat": [
          19.05836
         ],
         "legendgroup": "5NJdbzytj7",
         "lon": [
          -99.15001000000001
         ],
         "marker": {
          "color": "#FF6692"
         },
         "mode": "markers",
         "name": "5NJdbzytj7",
         "showlegend": true,
         "subplot": "mapbox",
         "type": "scattermapbox"
        },
        {
         "hovertemplate": "User Code=oauEyGFslz<br>lat=%{lat}<br>lon=%{lon}<extra></extra>",
         "lat": [
          19.58504
         ],
         "legendgroup": "oauEyGFslz",
         "lon": [
          -99.19612999999998
         ],
         "marker": {
          "color": "#B6E880"
         },
         "mode": "markers",
         "name": "oauEyGFslz",
         "showlegend": true,
         "subplot": "mapbox",
         "type": "scattermapbox"
        },
        {
         "hovertemplate": "User Code=6CMkyeN8Zo<br>lat=%{lat}<br>lon=%{lon}<extra></extra>",
         "lat": [
          19.18197
         ],
         "legendgroup": "6CMkyeN8Zo",
         "lon": [
          -99.14078999999998
         ],
         "marker": {
          "color": "#FF97FF"
         },
         "mode": "markers",
         "name": "6CMkyeN8Zo",
         "showlegend": true,
         "subplot": "mapbox",
         "type": "scattermapbox"
        },
        {
         "hovertemplate": "User Code=SL4U3dQrRY<br>lat=%{lat}<br>lon=%{lon}<extra></extra>",
         "lat": [
          19.46385
         ],
         "legendgroup": "SL4U3dQrRY",
         "lon": [
          -98.95668
         ],
         "marker": {
          "color": "#FECB52"
         },
         "mode": "markers",
         "name": "SL4U3dQrRY",
         "showlegend": true,
         "subplot": "mapbox",
         "type": "scattermapbox"
        },
        {
         "hovertemplate": "User Code=VaL5ZTMp4E<br>lat=%{lat}<br>lon=%{lon}<extra></extra>",
         "lat": [
          19.15927
         ],
         "legendgroup": "VaL5ZTMp4E",
         "lon": [
          -98.94454000000002
         ],
         "marker": {
          "color": "#636efa"
         },
         "mode": "markers",
         "name": "VaL5ZTMp4E",
         "showlegend": true,
         "subplot": "mapbox",
         "type": "scattermapbox"
        },
        {
         "hovertemplate": "User Code=xCnlmRsMAg<br>lat=%{lat}<br>lon=%{lon}<extra></extra>",
         "lat": [
          19.29974
         ],
         "legendgroup": "xCnlmRsMAg",
         "lon": [
          -98.94241
         ],
         "marker": {
          "color": "#EF553B"
         },
         "mode": "markers",
         "name": "xCnlmRsMAg",
         "showlegend": true,
         "subplot": "mapbox",
         "type": "scattermapbox"
        },
        {
         "hovertemplate": "User Code=TUaItbGorh<br>lat=%{lat}<br>lon=%{lon}<extra></extra>",
         "lat": [
          19.41042
         ],
         "legendgroup": "TUaItbGorh",
         "lon": [
          -98.97120999999999
         ],
         "marker": {
          "color": "#00cc96"
         },
         "mode": "markers",
         "name": "TUaItbGorh",
         "showlegend": true,
         "subplot": "mapbox",
         "type": "scattermapbox"
        },
        {
         "hovertemplate": "User Code=egX28AYOGz<br>lat=%{lat}<br>lon=%{lon}<extra></extra>",
         "lat": [
          19.52385
         ],
         "legendgroup": "egX28AYOGz",
         "lon": [
          -98.97476
         ],
         "marker": {
          "color": "#ab63fa"
         },
         "mode": "markers",
         "name": "egX28AYOGz",
         "showlegend": true,
         "subplot": "mapbox",
         "type": "scattermapbox"
        },
        {
         "hovertemplate": "User Code=VehnNamtrs<br>lat=%{lat}<br>lon=%{lon}<extra></extra>",
         "lat": [
          19.54412
         ],
         "legendgroup": "VehnNamtrs",
         "lon": [
          -98.91885000000002
         ],
         "marker": {
          "color": "#FFA15A"
         },
         "mode": "markers",
         "name": "VehnNamtrs",
         "showlegend": true,
         "subplot": "mapbox",
         "type": "scattermapbox"
        },
        {
         "hovertemplate": "User Code=9fltVoF0v7<br>lat=%{lat}<br>lon=%{lon}<extra></extra>",
         "lat": [
          19.30193
         ],
         "legendgroup": "9fltVoF0v7",
         "lon": [
          -99.20202
         ],
         "marker": {
          "color": "#19d3f3"
         },
         "mode": "markers",
         "name": "9fltVoF0v7",
         "showlegend": true,
         "subplot": "mapbox",
         "type": "scattermapbox"
        },
        {
         "hovertemplate": "User Code=5jnsbvyNMT<br>lat=%{lat}<br>lon=%{lon}<extra></extra>",
         "lat": [
          19.058700000000005
         ],
         "legendgroup": "5jnsbvyNMT",
         "lon": [
          -98.99484999999999
         ],
         "marker": {
          "color": "#FF6692"
         },
         "mode": "markers",
         "name": "5jnsbvyNMT",
         "showlegend": true,
         "subplot": "mapbox",
         "type": "scattermapbox"
        },
        {
         "hovertemplate": "User Code=akHuRdSy5g<br>lat=%{lat}<br>lon=%{lon}<extra></extra>",
         "lat": [
          19.01373
         ],
         "legendgroup": "akHuRdSy5g",
         "lon": [
          -99.17653000000001
         ],
         "marker": {
          "color": "#B6E880"
         },
         "mode": "markers",
         "name": "akHuRdSy5g",
         "showlegend": true,
         "subplot": "mapbox",
         "type": "scattermapbox"
        },
        {
         "hovertemplate": "User Code=Z0tprG9Y4o<br>lat=%{lat}<br>lon=%{lon}<extra></extra>",
         "lat": [
          19.16722
         ],
         "legendgroup": "Z0tprG9Y4o",
         "lon": [
          -98.94118000000003
         ],
         "marker": {
          "color": "#FF97FF"
         },
         "mode": "markers",
         "name": "Z0tprG9Y4o",
         "showlegend": true,
         "subplot": "mapbox",
         "type": "scattermapbox"
        },
        {
         "hovertemplate": "User Code=VKGXobiJFr<br>lat=%{lat}<br>lon=%{lon}<extra></extra>",
         "lat": [
          19.042410000000004
         ],
         "legendgroup": "VKGXobiJFr",
         "lon": [
          -98.91613000000001
         ],
         "marker": {
          "color": "#FECB52"
         },
         "mode": "markers",
         "name": "VKGXobiJFr",
         "showlegend": true,
         "subplot": "mapbox",
         "type": "scattermapbox"
        },
        {
         "hovertemplate": "User Code=YMrk3TINfF<br>lat=%{lat}<br>lon=%{lon}<extra></extra>",
         "lat": [
          19.551129999999997
         ],
         "legendgroup": "YMrk3TINfF",
         "lon": [
          -99.09456
         ],
         "marker": {
          "color": "#636efa"
         },
         "mode": "markers",
         "name": "YMrk3TINfF",
         "showlegend": true,
         "subplot": "mapbox",
         "type": "scattermapbox"
        },
        {
         "hovertemplate": "User Code=2Bkc1UL5mh<br>lat=%{lat}<br>lon=%{lon}<extra></extra>",
         "lat": [
          19.37292
         ],
         "legendgroup": "2Bkc1UL5mh",
         "lon": [
          -99.08033
         ],
         "marker": {
          "color": "#EF553B"
         },
         "mode": "markers",
         "name": "2Bkc1UL5mh",
         "showlegend": true,
         "subplot": "mapbox",
         "type": "scattermapbox"
        },
        {
         "hovertemplate": "User Code=mwBdK3bLor<br>lat=%{lat}<br>lon=%{lon}<extra></extra>",
         "lat": [
          19.36413
         ],
         "legendgroup": "mwBdK3bLor",
         "lon": [
          -98.99309
         ],
         "marker": {
          "color": "#00cc96"
         },
         "mode": "markers",
         "name": "mwBdK3bLor",
         "showlegend": true,
         "subplot": "mapbox",
         "type": "scattermapbox"
        },
        {
         "hovertemplate": "User Code=1zD0kTJWCX<br>lat=%{lat}<br>lon=%{lon}<extra></extra>",
         "lat": [
          19.188939999999995
         ],
         "legendgroup": "1zD0kTJWCX",
         "lon": [
          -99.38123999999999
         ],
         "marker": {
          "color": "#ab63fa"
         },
         "mode": "markers",
         "name": "1zD0kTJWCX",
         "showlegend": true,
         "subplot": "mapbox",
         "type": "scattermapbox"
        },
        {
         "hovertemplate": "User Code=8sEe3MCqNd<br>lat=%{lat}<br>lon=%{lon}<extra></extra>",
         "lat": [
          19.108439999999998
         ],
         "legendgroup": "8sEe3MCqNd",
         "lon": [
          -99.08440000000002
         ],
         "marker": {
          "color": "#FFA15A"
         },
         "mode": "markers",
         "name": "8sEe3MCqNd",
         "showlegend": true,
         "subplot": "mapbox",
         "type": "scattermapbox"
        },
        {
         "hovertemplate": "User Code=yOXISxMVhN<br>lat=%{lat}<br>lon=%{lon}<extra></extra>",
         "lat": [
          19.53461
         ],
         "legendgroup": "yOXISxMVhN",
         "lon": [
          -99.05592999999999
         ],
         "marker": {
          "color": "#19d3f3"
         },
         "mode": "markers",
         "name": "yOXISxMVhN",
         "showlegend": true,
         "subplot": "mapbox",
         "type": "scattermapbox"
        },
        {
         "hovertemplate": "User Code=ByAqR93nJb<br>lat=%{lat}<br>lon=%{lon}<extra></extra>",
         "lat": [
          19.01197
         ],
         "legendgroup": "ByAqR93nJb",
         "lon": [
          -99.11870999999996
         ],
         "marker": {
          "color": "#FF6692"
         },
         "mode": "markers",
         "name": "ByAqR93nJb",
         "showlegend": true,
         "subplot": "mapbox",
         "type": "scattermapbox"
        },
        {
         "hovertemplate": "User Code=1Ufbu2gWEo<br>lat=%{lat}<br>lon=%{lon}<extra></extra>",
         "lat": [
          19.23358
         ],
         "legendgroup": "1Ufbu2gWEo",
         "lon": [
          -99.28409999999997
         ],
         "marker": {
          "color": "#B6E880"
         },
         "mode": "markers",
         "name": "1Ufbu2gWEo",
         "showlegend": true,
         "subplot": "mapbox",
         "type": "scattermapbox"
        },
        {
         "hovertemplate": "User Code=5AofLHyaGF<br>lat=%{lat}<br>lon=%{lon}<extra></extra>",
         "lat": [
          19.4517
         ],
         "legendgroup": "5AofLHyaGF",
         "lon": [
          -99.01720999999998
         ],
         "marker": {
          "color": "#FF97FF"
         },
         "mode": "markers",
         "name": "5AofLHyaGF",
         "showlegend": true,
         "subplot": "mapbox",
         "type": "scattermapbox"
        },
        {
         "hovertemplate": "User Code=zWteFLKwv2<br>lat=%{lat}<br>lon=%{lon}<extra></extra>",
         "lat": [
          19.19461
         ],
         "legendgroup": "zWteFLKwv2",
         "lon": [
          -99.16516000000001
         ],
         "marker": {
          "color": "#FECB52"
         },
         "mode": "markers",
         "name": "zWteFLKwv2",
         "showlegend": true,
         "subplot": "mapbox",
         "type": "scattermapbox"
        },
        {
         "hovertemplate": "User Code=XbG6KRYo3A<br>lat=%{lat}<br>lon=%{lon}<extra></extra>",
         "lat": [
          19.30906
         ],
         "legendgroup": "XbG6KRYo3A",
         "lon": [
          -99.33317999999997
         ],
         "marker": {
          "color": "#636efa"
         },
         "mode": "markers",
         "name": "XbG6KRYo3A",
         "showlegend": true,
         "subplot": "mapbox",
         "type": "scattermapbox"
        },
        {
         "hovertemplate": "User Code=t9qhe46aWM<br>lat=%{lat}<br>lon=%{lon}<extra></extra>",
         "lat": [
          19.01736
         ],
         "legendgroup": "t9qhe46aWM",
         "lon": [
          -99.39708000000002
         ],
         "marker": {
          "color": "#EF553B"
         },
         "mode": "markers",
         "name": "t9qhe46aWM",
         "showlegend": true,
         "subplot": "mapbox",
         "type": "scattermapbox"
        },
        {
         "hovertemplate": "User Code=96WQXEV2TS<br>lat=%{lat}<br>lon=%{lon}<extra></extra>",
         "lat": [
          19.38246
         ],
         "legendgroup": "96WQXEV2TS",
         "lon": [
          -99.10275000000001
         ],
         "marker": {
          "color": "#00cc96"
         },
         "mode": "markers",
         "name": "96WQXEV2TS",
         "showlegend": true,
         "subplot": "mapbox",
         "type": "scattermapbox"
        },
        {
         "hovertemplate": "User Code=D0Vu4j5ylk<br>lat=%{lat}<br>lon=%{lon}<extra></extra>",
         "lat": [
          19.56018
         ],
         "legendgroup": "D0Vu4j5ylk",
         "lon": [
          -99.20035000000001
         ],
         "marker": {
          "color": "#ab63fa"
         },
         "mode": "markers",
         "name": "D0Vu4j5ylk",
         "showlegend": true,
         "subplot": "mapbox",
         "type": "scattermapbox"
        },
        {
         "hovertemplate": "User Code=wo2GnzbY9e<br>lat=%{lat}<br>lon=%{lon}<extra></extra>",
         "lat": [
          19.323089999999997
         ],
         "legendgroup": "wo2GnzbY9e",
         "lon": [
          -98.99590999999998
         ],
         "marker": {
          "color": "#FFA15A"
         },
         "mode": "markers",
         "name": "wo2GnzbY9e",
         "showlegend": true,
         "subplot": "mapbox",
         "type": "scattermapbox"
        },
        {
         "hovertemplate": "User Code=olzEf1PFXk<br>lat=%{lat}<br>lon=%{lon}<extra></extra>",
         "lat": [
          19.37526
         ],
         "legendgroup": "olzEf1PFXk",
         "lon": [
          -99.21793000000002
         ],
         "marker": {
          "color": "#19d3f3"
         },
         "mode": "markers",
         "name": "olzEf1PFXk",
         "showlegend": true,
         "subplot": "mapbox",
         "type": "scattermapbox"
        },
        {
         "hovertemplate": "User Code=IWaxGJbUOV<br>lat=%{lat}<br>lon=%{lon}<extra></extra>",
         "lat": [
          19.4714
         ],
         "legendgroup": "IWaxGJbUOV",
         "lon": [
          -99.11011000000002
         ],
         "marker": {
          "color": "#FF6692"
         },
         "mode": "markers",
         "name": "IWaxGJbUOV",
         "showlegend": true,
         "subplot": "mapbox",
         "type": "scattermapbox"
        },
        {
         "hovertemplate": "User Code=1r2KyclLj7<br>lat=%{lat}<br>lon=%{lon}<extra></extra>",
         "lat": [
          19.02688
         ],
         "legendgroup": "1r2KyclLj7",
         "lon": [
          -99.23883000000001
         ],
         "marker": {
          "color": "#B6E880"
         },
         "mode": "markers",
         "name": "1r2KyclLj7",
         "showlegend": true,
         "subplot": "mapbox",
         "type": "scattermapbox"
        },
        {
         "hovertemplate": "User Code=u7pElid5OQ<br>lat=%{lat}<br>lon=%{lon}<extra></extra>",
         "lat": [
          19.508600000000005
         ],
         "legendgroup": "u7pElid5OQ",
         "lon": [
          -99.04755
         ],
         "marker": {
          "color": "#FF97FF"
         },
         "mode": "markers",
         "name": "u7pElid5OQ",
         "showlegend": true,
         "subplot": "mapbox",
         "type": "scattermapbox"
        },
        {
         "hovertemplate": "User Code=GsvCMdI7S0<br>lat=%{lat}<br>lon=%{lon}<extra></extra>",
         "lat": [
          19.45094
         ],
         "legendgroup": "GsvCMdI7S0",
         "lon": [
          -99.19220000000001
         ],
         "marker": {
          "color": "#FECB52"
         },
         "mode": "markers",
         "name": "GsvCMdI7S0",
         "showlegend": true,
         "subplot": "mapbox",
         "type": "scattermapbox"
        },
        {
         "hovertemplate": "User Code=9WQA0eYcVF<br>lat=%{lat}<br>lon=%{lon}<extra></extra>",
         "lat": [
          19.06591
         ],
         "legendgroup": "9WQA0eYcVF",
         "lon": [
          -99.09305999999998
         ],
         "marker": {
          "color": "#636efa"
         },
         "mode": "markers",
         "name": "9WQA0eYcVF",
         "showlegend": true,
         "subplot": "mapbox",
         "type": "scattermapbox"
        },
        {
         "hovertemplate": "User Code=tKzjBL8lZW<br>lat=%{lat}<br>lon=%{lon}<extra></extra>",
         "lat": [
          19.4319
         ],
         "legendgroup": "tKzjBL8lZW",
         "lon": [
          -99.15286000000003
         ],
         "marker": {
          "color": "#EF553B"
         },
         "mode": "markers",
         "name": "tKzjBL8lZW",
         "showlegend": true,
         "subplot": "mapbox",
         "type": "scattermapbox"
        },
        {
         "hovertemplate": "User Code=6qFOMLCdE2<br>lat=%{lat}<br>lon=%{lon}<extra></extra>",
         "lat": [
          19.4895
         ],
         "legendgroup": "6qFOMLCdE2",
         "lon": [
          -99.33904000000001
         ],
         "marker": {
          "color": "#00cc96"
         },
         "mode": "markers",
         "name": "6qFOMLCdE2",
         "showlegend": true,
         "subplot": "mapbox",
         "type": "scattermapbox"
        },
        {
         "hovertemplate": "User Code=AbUrFcTyCN<br>lat=%{lat}<br>lon=%{lon}<extra></extra>",
         "lat": [
          19.008079999999996
         ],
         "legendgroup": "AbUrFcTyCN",
         "lon": [
          -99.39285999999998
         ],
         "marker": {
          "color": "#ab63fa"
         },
         "mode": "markers",
         "name": "AbUrFcTyCN",
         "showlegend": true,
         "subplot": "mapbox",
         "type": "scattermapbox"
        },
        {
         "hovertemplate": "User Code=blgqDoCzJ5<br>lat=%{lat}<br>lon=%{lon}<extra></extra>",
         "lat": [
          19.48096
         ],
         "legendgroup": "blgqDoCzJ5",
         "lon": [
          -99.37261000000001
         ],
         "marker": {
          "color": "#FFA15A"
         },
         "mode": "markers",
         "name": "blgqDoCzJ5",
         "showlegend": true,
         "subplot": "mapbox",
         "type": "scattermapbox"
        },
        {
         "hovertemplate": "User Code=ofmARrYnQD<br>lat=%{lat}<br>lon=%{lon}<extra></extra>",
         "lat": [
          19.49085
         ],
         "legendgroup": "ofmARrYnQD",
         "lon": [
          -98.93740000000003
         ],
         "marker": {
          "color": "#19d3f3"
         },
         "mode": "markers",
         "name": "ofmARrYnQD",
         "showlegend": true,
         "subplot": "mapbox",
         "type": "scattermapbox"
        },
        {
         "hovertemplate": "User Code=GhzX8x1uAc<br>lat=%{lat}<br>lon=%{lon}<extra></extra>",
         "lat": [
          19.49222
         ],
         "legendgroup": "GhzX8x1uAc",
         "lon": [
          -98.94921999999997
         ],
         "marker": {
          "color": "#FF6692"
         },
         "mode": "markers",
         "name": "GhzX8x1uAc",
         "showlegend": true,
         "subplot": "mapbox",
         "type": "scattermapbox"
        },
        {
         "hovertemplate": "User Code=RqVfa2DxkQ<br>lat=%{lat}<br>lon=%{lon}<extra></extra>",
         "lat": [
          19.1462
         ],
         "legendgroup": "RqVfa2DxkQ",
         "lon": [
          -98.99846000000002
         ],
         "marker": {
          "color": "#B6E880"
         },
         "mode": "markers",
         "name": "RqVfa2DxkQ",
         "showlegend": true,
         "subplot": "mapbox",
         "type": "scattermapbox"
        },
        {
         "hovertemplate": "User Code=RTrv5xABDU<br>lat=%{lat}<br>lon=%{lon}<extra></extra>",
         "lat": [
          19.51529
         ],
         "legendgroup": "RTrv5xABDU",
         "lon": [
          -99.21649000000002
         ],
         "marker": {
          "color": "#FF97FF"
         },
         "mode": "markers",
         "name": "RTrv5xABDU",
         "showlegend": true,
         "subplot": "mapbox",
         "type": "scattermapbox"
        },
        {
         "hovertemplate": "User Code=aQRy6B5lFV<br>lat=%{lat}<br>lon=%{lon}<extra></extra>",
         "lat": [
          19.3008
         ],
         "legendgroup": "aQRy6B5lFV",
         "lon": [
          -99.12585000000001
         ],
         "marker": {
          "color": "#FECB52"
         },
         "mode": "markers",
         "name": "aQRy6B5lFV",
         "showlegend": true,
         "subplot": "mapbox",
         "type": "scattermapbox"
        },
        {
         "hovertemplate": "User Code=l5hX9qIWE6<br>lat=%{lat}<br>lon=%{lon}<extra></extra>",
         "lat": [
          19.3472
         ],
         "legendgroup": "l5hX9qIWE6",
         "lon": [
          -98.95393000000001
         ],
         "marker": {
          "color": "#636efa"
         },
         "mode": "markers",
         "name": "l5hX9qIWE6",
         "showlegend": true,
         "subplot": "mapbox",
         "type": "scattermapbox"
        },
        {
         "hovertemplate": "User Code=vHiE6OG7BR<br>lat=%{lat}<br>lon=%{lon}<extra></extra>",
         "lat": [
          19.11753
         ],
         "legendgroup": "vHiE6OG7BR",
         "lon": [
          -99.07560000000001
         ],
         "marker": {
          "color": "#EF553B"
         },
         "mode": "markers",
         "name": "vHiE6OG7BR",
         "showlegend": true,
         "subplot": "mapbox",
         "type": "scattermapbox"
        },
        {
         "hovertemplate": "User Code=wbjhekH3rv<br>lat=%{lat}<br>lon=%{lon}<extra></extra>",
         "lat": [
          19.12492
         ],
         "legendgroup": "wbjhekH3rv",
         "lon": [
          -99.10438999999997
         ],
         "marker": {
          "color": "#00cc96"
         },
         "mode": "markers",
         "name": "wbjhekH3rv",
         "showlegend": true,
         "subplot": "mapbox",
         "type": "scattermapbox"
        },
        {
         "hovertemplate": "User Code=lrF7CpGzf4<br>lat=%{lat}<br>lon=%{lon}<extra></extra>",
         "lat": [
          19.08044
         ],
         "legendgroup": "lrF7CpGzf4",
         "lon": [
          -98.98160000000001
         ],
         "marker": {
          "color": "#ab63fa"
         },
         "mode": "markers",
         "name": "lrF7CpGzf4",
         "showlegend": true,
         "subplot": "mapbox",
         "type": "scattermapbox"
        },
        {
         "hovertemplate": "User Code=TEy8wPtOMH<br>lat=%{lat}<br>lon=%{lon}<extra></extra>",
         "lat": [
          19.12609
         ],
         "legendgroup": "TEy8wPtOMH",
         "lon": [
          -99.38995999999997
         ],
         "marker": {
          "color": "#FFA15A"
         },
         "mode": "markers",
         "name": "TEy8wPtOMH",
         "showlegend": true,
         "subplot": "mapbox",
         "type": "scattermapbox"
        },
        {
         "hovertemplate": "User Code=ygGE6LIVBF<br>lat=%{lat}<br>lon=%{lon}<extra></extra>",
         "lat": [
          19.08042
         ],
         "legendgroup": "ygGE6LIVBF",
         "lon": [
          -98.95441
         ],
         "marker": {
          "color": "#19d3f3"
         },
         "mode": "markers",
         "name": "ygGE6LIVBF",
         "showlegend": true,
         "subplot": "mapbox",
         "type": "scattermapbox"
        },
        {
         "hovertemplate": "User Code=uJ3NitHSCp<br>lat=%{lat}<br>lon=%{lon}<extra></extra>",
         "lat": [
          19.14721
         ],
         "legendgroup": "uJ3NitHSCp",
         "lon": [
          -99.02055999999999
         ],
         "marker": {
          "color": "#FF6692"
         },
         "mode": "markers",
         "name": "uJ3NitHSCp",
         "showlegend": true,
         "subplot": "mapbox",
         "type": "scattermapbox"
        },
        {
         "hovertemplate": "User Code=RU9PWftVHE<br>lat=%{lat}<br>lon=%{lon}<extra></extra>",
         "lat": [
          19.52243
         ],
         "legendgroup": "RU9PWftVHE",
         "lon": [
          -99.39159000000001
         ],
         "marker": {
          "color": "#B6E880"
         },
         "mode": "markers",
         "name": "RU9PWftVHE",
         "showlegend": true,
         "subplot": "mapbox",
         "type": "scattermapbox"
        },
        {
         "hovertemplate": "User Code=dJmKYqE8BS<br>lat=%{lat}<br>lon=%{lon}<extra></extra>",
         "lat": [
          19.42921
         ],
         "legendgroup": "dJmKYqE8BS",
         "lon": [
          -99.08370000000002
         ],
         "marker": {
          "color": "#FF97FF"
         },
         "mode": "markers",
         "name": "dJmKYqE8BS",
         "showlegend": true,
         "subplot": "mapbox",
         "type": "scattermapbox"
        },
        {
         "hovertemplate": "User Code=5PCGgM2Bds<br>lat=%{lat}<br>lon=%{lon}<extra></extra>",
         "lat": [
          19.16709
         ],
         "legendgroup": "5PCGgM2Bds",
         "lon": [
          -98.91080999999997
         ],
         "marker": {
          "color": "#FECB52"
         },
         "mode": "markers",
         "name": "5PCGgM2Bds",
         "showlegend": true,
         "subplot": "mapbox",
         "type": "scattermapbox"
        },
        {
         "hovertemplate": "User Code=P47oyreuC8<br>lat=%{lat}<br>lon=%{lon}<extra></extra>",
         "lat": [
          19.208259999999996
         ],
         "legendgroup": "P47oyreuC8",
         "lon": [
          -99.04268000000002
         ],
         "marker": {
          "color": "#636efa"
         },
         "mode": "markers",
         "name": "P47oyreuC8",
         "showlegend": true,
         "subplot": "mapbox",
         "type": "scattermapbox"
        },
        {
         "hovertemplate": "User Code=PMj0dLJBmx<br>lat=%{lat}<br>lon=%{lon}<extra></extra>",
         "lat": [
          19.1942
         ],
         "legendgroup": "PMj0dLJBmx",
         "lon": [
          -98.97857999999997
         ],
         "marker": {
          "color": "#EF553B"
         },
         "mode": "markers",
         "name": "PMj0dLJBmx",
         "showlegend": true,
         "subplot": "mapbox",
         "type": "scattermapbox"
        },
        {
         "hovertemplate": "User Code=soYWcTZAQj<br>lat=%{lat}<br>lon=%{lon}<extra></extra>",
         "lat": [
          19.582019999999996
         ],
         "legendgroup": "soYWcTZAQj",
         "lon": [
          -98.99239999999998
         ],
         "marker": {
          "color": "#00cc96"
         },
         "mode": "markers",
         "name": "soYWcTZAQj",
         "showlegend": true,
         "subplot": "mapbox",
         "type": "scattermapbox"
        },
        {
         "hovertemplate": "User Code=OEZCuqe8Xb<br>lat=%{lat}<br>lon=%{lon}<extra></extra>",
         "lat": [
          19.18426
         ],
         "legendgroup": "OEZCuqe8Xb",
         "lon": [
          -99.23441000000003
         ],
         "marker": {
          "color": "#ab63fa"
         },
         "mode": "markers",
         "name": "OEZCuqe8Xb",
         "showlegend": true,
         "subplot": "mapbox",
         "type": "scattermapbox"
        },
        {
         "hovertemplate": "User Code=tP3vQUXaNG<br>lat=%{lat}<br>lon=%{lon}<extra></extra>",
         "lat": [
          19.40016
         ],
         "legendgroup": "tP3vQUXaNG",
         "lon": [
          -99.28301999999996
         ],
         "marker": {
          "color": "#FFA15A"
         },
         "mode": "markers",
         "name": "tP3vQUXaNG",
         "showlegend": true,
         "subplot": "mapbox",
         "type": "scattermapbox"
        },
        {
         "hovertemplate": "User Code=4QzWRoKe18<br>lat=%{lat}<br>lon=%{lon}<extra></extra>",
         "lat": [
          19.3431
         ],
         "legendgroup": "4QzWRoKe18",
         "lon": [
          -99.02494000000002
         ],
         "marker": {
          "color": "#19d3f3"
         },
         "mode": "markers",
         "name": "4QzWRoKe18",
         "showlegend": true,
         "subplot": "mapbox",
         "type": "scattermapbox"
        },
        {
         "hovertemplate": "User Code=q1rNpvckZi<br>lat=%{lat}<br>lon=%{lon}<extra></extra>",
         "lat": [
          19.12487
         ],
         "legendgroup": "q1rNpvckZi",
         "lon": [
          -99.39587
         ],
         "marker": {
          "color": "#FF6692"
         },
         "mode": "markers",
         "name": "q1rNpvckZi",
         "showlegend": true,
         "subplot": "mapbox",
         "type": "scattermapbox"
        },
        {
         "hovertemplate": "User Code=FM9qbUep1J<br>lat=%{lat}<br>lon=%{lon}<extra></extra>",
         "lat": [
          19.28653
         ],
         "legendgroup": "FM9qbUep1J",
         "lon": [
          -99.08672000000001
         ],
         "marker": {
          "color": "#B6E880"
         },
         "mode": "markers",
         "name": "FM9qbUep1J",
         "showlegend": true,
         "subplot": "mapbox",
         "type": "scattermapbox"
        },
        {
         "hovertemplate": "User Code=iBtobYF0KV<br>lat=%{lat}<br>lon=%{lon}<extra></extra>",
         "lat": [
          19.27522
         ],
         "legendgroup": "iBtobYF0KV",
         "lon": [
          -99.18435
         ],
         "marker": {
          "color": "#FF97FF"
         },
         "mode": "markers",
         "name": "iBtobYF0KV",
         "showlegend": true,
         "subplot": "mapbox",
         "type": "scattermapbox"
        },
        {
         "hovertemplate": "User Code=78TcujZ1XC<br>lat=%{lat}<br>lon=%{lon}<extra></extra>",
         "lat": [
          19.38041
         ],
         "legendgroup": "78TcujZ1XC",
         "lon": [
          -99.38839000000002
         ],
         "marker": {
          "color": "#FECB52"
         },
         "mode": "markers",
         "name": "78TcujZ1XC",
         "showlegend": true,
         "subplot": "mapbox",
         "type": "scattermapbox"
        },
        {
         "hovertemplate": "User Code=4LUyb2aTMz<br>lat=%{lat}<br>lon=%{lon}<extra></extra>",
         "lat": [
          19.10449
         ],
         "legendgroup": "4LUyb2aTMz",
         "lon": [
          -98.99113
         ],
         "marker": {
          "color": "#636efa"
         },
         "mode": "markers",
         "name": "4LUyb2aTMz",
         "showlegend": true,
         "subplot": "mapbox",
         "type": "scattermapbox"
        },
        {
         "hovertemplate": "User Code=xoXvf9HLIs<br>lat=%{lat}<br>lon=%{lon}<extra></extra>",
         "lat": [
          19.131960000000003
         ],
         "legendgroup": "xoXvf9HLIs",
         "lon": [
          -99.14333999999997
         ],
         "marker": {
          "color": "#EF553B"
         },
         "mode": "markers",
         "name": "xoXvf9HLIs",
         "showlegend": true,
         "subplot": "mapbox",
         "type": "scattermapbox"
        },
        {
         "hovertemplate": "User Code=plXwRusy40<br>lat=%{lat}<br>lon=%{lon}<extra></extra>",
         "lat": [
          19.01157
         ],
         "legendgroup": "plXwRusy40",
         "lon": [
          -99.16910000000001
         ],
         "marker": {
          "color": "#00cc96"
         },
         "mode": "markers",
         "name": "plXwRusy40",
         "showlegend": true,
         "subplot": "mapbox",
         "type": "scattermapbox"
        },
        {
         "hovertemplate": "User Code=EAv4NCcFGb<br>lat=%{lat}<br>lon=%{lon}<extra></extra>",
         "lat": [
          19.59417
         ],
         "legendgroup": "EAv4NCcFGb",
         "lon": [
          -99.22447
         ],
         "marker": {
          "color": "#ab63fa"
         },
         "mode": "markers",
         "name": "EAv4NCcFGb",
         "showlegend": true,
         "subplot": "mapbox",
         "type": "scattermapbox"
        },
        {
         "hovertemplate": "User Code=TIUcdujfNL<br>lat=%{lat}<br>lon=%{lon}<extra></extra>",
         "lat": [
          19.59841
         ],
         "legendgroup": "TIUcdujfNL",
         "lon": [
          -99.15900999999997
         ],
         "marker": {
          "color": "#FFA15A"
         },
         "mode": "markers",
         "name": "TIUcdujfNL",
         "showlegend": true,
         "subplot": "mapbox",
         "type": "scattermapbox"
        },
        {
         "hovertemplate": "User Code=8bnZVRdD2c<br>lat=%{lat}<br>lon=%{lon}<extra></extra>",
         "lat": [
          19.27932
         ],
         "legendgroup": "8bnZVRdD2c",
         "lon": [
          -98.96307000000002
         ],
         "marker": {
          "color": "#19d3f3"
         },
         "mode": "markers",
         "name": "8bnZVRdD2c",
         "showlegend": true,
         "subplot": "mapbox",
         "type": "scattermapbox"
        },
        {
         "hovertemplate": "User Code=KwsOaTIzjv<br>lat=%{lat}<br>lon=%{lon}<extra></extra>",
         "lat": [
          19.55664
         ],
         "legendgroup": "KwsOaTIzjv",
         "lon": [
          -98.94533000000001
         ],
         "marker": {
          "color": "#FF6692"
         },
         "mode": "markers",
         "name": "KwsOaTIzjv",
         "showlegend": true,
         "subplot": "mapbox",
         "type": "scattermapbox"
        },
        {
         "hovertemplate": "User Code=7ThGQDIMd4<br>lat=%{lat}<br>lon=%{lon}<extra></extra>",
         "lat": [
          19.496200000000005
         ],
         "legendgroup": "7ThGQDIMd4",
         "lon": [
          -99.37310000000002
         ],
         "marker": {
          "color": "#B6E880"
         },
         "mode": "markers",
         "name": "7ThGQDIMd4",
         "showlegend": true,
         "subplot": "mapbox",
         "type": "scattermapbox"
        },
        {
         "hovertemplate": "User Code=1tVujmGC5c<br>lat=%{lat}<br>lon=%{lon}<extra></extra>",
         "lat": [
          19.46619
         ],
         "legendgroup": "1tVujmGC5c",
         "lon": [
          -99.22854000000001
         ],
         "marker": {
          "color": "#FF97FF"
         },
         "mode": "markers",
         "name": "1tVujmGC5c",
         "showlegend": true,
         "subplot": "mapbox",
         "type": "scattermapbox"
        },
        {
         "hovertemplate": "User Code=TxysbMAwnp<br>lat=%{lat}<br>lon=%{lon}<extra></extra>",
         "lat": [
          19.52326
         ],
         "legendgroup": "TxysbMAwnp",
         "lon": [
          -99.02301999999997
         ],
         "marker": {
          "color": "#FECB52"
         },
         "mode": "markers",
         "name": "TxysbMAwnp",
         "showlegend": true,
         "subplot": "mapbox",
         "type": "scattermapbox"
        },
        {
         "hovertemplate": "User Code=Hek27tvyrU<br>lat=%{lat}<br>lon=%{lon}<extra></extra>",
         "lat": [
          19.17088
         ],
         "legendgroup": "Hek27tvyrU",
         "lon": [
          -99.20200999999997
         ],
         "marker": {
          "color": "#636efa"
         },
         "mode": "markers",
         "name": "Hek27tvyrU",
         "showlegend": true,
         "subplot": "mapbox",
         "type": "scattermapbox"
        },
        {
         "hovertemplate": "User Code=RPtZXOWf7l<br>lat=%{lat}<br>lon=%{lon}<extra></extra>",
         "lat": [
          19.241489999999995
         ],
         "legendgroup": "RPtZXOWf7l",
         "lon": [
          -99.13378
         ],
         "marker": {
          "color": "#EF553B"
         },
         "mode": "markers",
         "name": "RPtZXOWf7l",
         "showlegend": true,
         "subplot": "mapbox",
         "type": "scattermapbox"
        },
        {
         "hovertemplate": "User Code=QviwGH1exS<br>lat=%{lat}<br>lon=%{lon}<extra></extra>",
         "lat": [
          19.31918
         ],
         "legendgroup": "QviwGH1exS",
         "lon": [
          -99.28352000000001
         ],
         "marker": {
          "color": "#00cc96"
         },
         "mode": "markers",
         "name": "QviwGH1exS",
         "showlegend": true,
         "subplot": "mapbox",
         "type": "scattermapbox"
        },
        {
         "hovertemplate": "User Code=aqH1tmdD6U<br>lat=%{lat}<br>lon=%{lon}<extra></extra>",
         "lat": [
          19.55545
         ],
         "legendgroup": "aqH1tmdD6U",
         "lon": [
          -99.03134999999997
         ],
         "marker": {
          "color": "#ab63fa"
         },
         "mode": "markers",
         "name": "aqH1tmdD6U",
         "showlegend": true,
         "subplot": "mapbox",
         "type": "scattermapbox"
        },
        {
         "hovertemplate": "User Code=cD5eWfkyw0<br>lat=%{lat}<br>lon=%{lon}<extra></extra>",
         "lat": [
          19.119099999999996
         ],
         "legendgroup": "cD5eWfkyw0",
         "lon": [
          -99.13548000000003
         ],
         "marker": {
          "color": "#FFA15A"
         },
         "mode": "markers",
         "name": "cD5eWfkyw0",
         "showlegend": true,
         "subplot": "mapbox",
         "type": "scattermapbox"
        },
        {
         "hovertemplate": "User Code=x6sFEDYNpJ<br>lat=%{lat}<br>lon=%{lon}<extra></extra>",
         "lat": [
          19.12781
         ],
         "legendgroup": "x6sFEDYNpJ",
         "lon": [
          -99.01156000000003
         ],
         "marker": {
          "color": "#19d3f3"
         },
         "mode": "markers",
         "name": "x6sFEDYNpJ",
         "showlegend": true,
         "subplot": "mapbox",
         "type": "scattermapbox"
        },
        {
         "hovertemplate": "User Code=7RWHBpjinG<br>lat=%{lat}<br>lon=%{lon}<extra></extra>",
         "lat": [
          19.02269
         ],
         "legendgroup": "7RWHBpjinG",
         "lon": [
          -99.39857999999998
         ],
         "marker": {
          "color": "#FF6692"
         },
         "mode": "markers",
         "name": "7RWHBpjinG",
         "showlegend": true,
         "subplot": "mapbox",
         "type": "scattermapbox"
        },
        {
         "hovertemplate": "User Code=1eGcmIPr3u<br>lat=%{lat}<br>lon=%{lon}<extra></extra>",
         "lat": [
          19.120680000000004
         ],
         "legendgroup": "1eGcmIPr3u",
         "lon": [
          -99.01911999999999
         ],
         "marker": {
          "color": "#B6E880"
         },
         "mode": "markers",
         "name": "1eGcmIPr3u",
         "showlegend": true,
         "subplot": "mapbox",
         "type": "scattermapbox"
        },
        {
         "hovertemplate": "User Code=jhlr9WLeGX<br>lat=%{lat}<br>lon=%{lon}<extra></extra>",
         "lat": [
          19.383269999999996
         ],
         "legendgroup": "jhlr9WLeGX",
         "lon": [
          -99.21341999999999
         ],
         "marker": {
          "color": "#FF97FF"
         },
         "mode": "markers",
         "name": "jhlr9WLeGX",
         "showlegend": true,
         "subplot": "mapbox",
         "type": "scattermapbox"
        },
        {
         "hovertemplate": "User Code=rxdE7sqJF5<br>lat=%{lat}<br>lon=%{lon}<extra></extra>",
         "lat": [
          19.1724
         ],
         "legendgroup": "rxdE7sqJF5",
         "lon": [
          -99.11745000000002
         ],
         "marker": {
          "color": "#FECB52"
         },
         "mode": "markers",
         "name": "rxdE7sqJF5",
         "showlegend": true,
         "subplot": "mapbox",
         "type": "scattermapbox"
        },
        {
         "hovertemplate": "User Code=X0HPzBYNhx<br>lat=%{lat}<br>lon=%{lon}<extra></extra>",
         "lat": [
          19.34292
         ],
         "legendgroup": "X0HPzBYNhx",
         "lon": [
          -99.38909000000001
         ],
         "marker": {
          "color": "#636efa"
         },
         "mode": "markers",
         "name": "X0HPzBYNhx",
         "showlegend": true,
         "subplot": "mapbox",
         "type": "scattermapbox"
        },
        {
         "hovertemplate": "User Code=CLF5TKNc1D<br>lat=%{lat}<br>lon=%{lon}<extra></extra>",
         "lat": [
          19.39646
         ],
         "legendgroup": "CLF5TKNc1D",
         "lon": [
          -99.32544999999999
         ],
         "marker": {
          "color": "#EF553B"
         },
         "mode": "markers",
         "name": "CLF5TKNc1D",
         "showlegend": true,
         "subplot": "mapbox",
         "type": "scattermapbox"
        },
        {
         "hovertemplate": "User Code=k5oIFeRapE<br>lat=%{lat}<br>lon=%{lon}<extra></extra>",
         "lat": [
          19.46045
         ],
         "legendgroup": "k5oIFeRapE",
         "lon": [
          -98.92084999999997
         ],
         "marker": {
          "color": "#00cc96"
         },
         "mode": "markers",
         "name": "k5oIFeRapE",
         "showlegend": true,
         "subplot": "mapbox",
         "type": "scattermapbox"
        },
        {
         "hovertemplate": "User Code=gO8zoj6siA<br>lat=%{lat}<br>lon=%{lon}<extra></extra>",
         "lat": [
          19.530119999999997
         ],
         "legendgroup": "gO8zoj6siA",
         "lon": [
          -99.16651999999999
         ],
         "marker": {
          "color": "#ab63fa"
         },
         "mode": "markers",
         "name": "gO8zoj6siA",
         "showlegend": true,
         "subplot": "mapbox",
         "type": "scattermapbox"
        },
        {
         "hovertemplate": "User Code=l4T1bajOoh<br>lat=%{lat}<br>lon=%{lon}<extra></extra>",
         "lat": [
          19.385060000000003
         ],
         "legendgroup": "l4T1bajOoh",
         "lon": [
          -98.99387999999999
         ],
         "marker": {
          "color": "#FFA15A"
         },
         "mode": "markers",
         "name": "l4T1bajOoh",
         "showlegend": true,
         "subplot": "mapbox",
         "type": "scattermapbox"
        },
        {
         "hovertemplate": "User Code=3dn0mtKDT1<br>lat=%{lat}<br>lon=%{lon}<extra></extra>",
         "lat": [
          19.00485
         ],
         "legendgroup": "3dn0mtKDT1",
         "lon": [
          -99.06849
         ],
         "marker": {
          "color": "#19d3f3"
         },
         "mode": "markers",
         "name": "3dn0mtKDT1",
         "showlegend": true,
         "subplot": "mapbox",
         "type": "scattermapbox"
        },
        {
         "hovertemplate": "User Code=lz6Frts1uh<br>lat=%{lat}<br>lon=%{lon}<extra></extra>",
         "lat": [
          19.26524
         ],
         "legendgroup": "lz6Frts1uh",
         "lon": [
          -99.21445
         ],
         "marker": {
          "color": "#FF6692"
         },
         "mode": "markers",
         "name": "lz6Frts1uh",
         "showlegend": true,
         "subplot": "mapbox",
         "type": "scattermapbox"
        },
        {
         "hovertemplate": "User Code=F7xucq1HeM<br>lat=%{lat}<br>lon=%{lon}<extra></extra>",
         "lat": [
          19.16642
         ],
         "legendgroup": "F7xucq1HeM",
         "lon": [
          -99.24192
         ],
         "marker": {
          "color": "#B6E880"
         },
         "mode": "markers",
         "name": "F7xucq1HeM",
         "showlegend": true,
         "subplot": "mapbox",
         "type": "scattermapbox"
        },
        {
         "hovertemplate": "User Code=RZSvmlTQ8x<br>lat=%{lat}<br>lon=%{lon}<extra></extra>",
         "lat": [
          19.13967
         ],
         "legendgroup": "RZSvmlTQ8x",
         "lon": [
          -99.36829
         ],
         "marker": {
          "color": "#FF97FF"
         },
         "mode": "markers",
         "name": "RZSvmlTQ8x",
         "showlegend": true,
         "subplot": "mapbox",
         "type": "scattermapbox"
        },
        {
         "hovertemplate": "User Code=0lwa7zQR6x<br>lat=%{lat}<br>lon=%{lon}<extra></extra>",
         "lat": [
          19.45074
         ],
         "legendgroup": "0lwa7zQR6x",
         "lon": [
          -99.00844999999998
         ],
         "marker": {
          "color": "#FECB52"
         },
         "mode": "markers",
         "name": "0lwa7zQR6x",
         "showlegend": true,
         "subplot": "mapbox",
         "type": "scattermapbox"
        },
        {
         "hovertemplate": "User Code=SeVt7hruQK<br>lat=%{lat}<br>lon=%{lon}<extra></extra>",
         "lat": [
          19.04968
         ],
         "legendgroup": "SeVt7hruQK",
         "lon": [
          -99.30534999999998
         ],
         "marker": {
          "color": "#636efa"
         },
         "mode": "markers",
         "name": "SeVt7hruQK",
         "showlegend": true,
         "subplot": "mapbox",
         "type": "scattermapbox"
        },
        {
         "hovertemplate": "User Code=LMqosz4uRT<br>lat=%{lat}<br>lon=%{lon}<extra></extra>",
         "lat": [
          19.20539
         ],
         "legendgroup": "LMqosz4uRT",
         "lon": [
          -99.29128000000003
         ],
         "marker": {
          "color": "#EF553B"
         },
         "mode": "markers",
         "name": "LMqosz4uRT",
         "showlegend": true,
         "subplot": "mapbox",
         "type": "scattermapbox"
        },
        {
         "hovertemplate": "User Code=7DK5LsIqUb<br>lat=%{lat}<br>lon=%{lon}<extra></extra>",
         "lat": [
          19.55139
         ],
         "legendgroup": "7DK5LsIqUb",
         "lon": [
          -99.08913000000001
         ],
         "marker": {
          "color": "#00cc96"
         },
         "mode": "markers",
         "name": "7DK5LsIqUb",
         "showlegend": true,
         "subplot": "mapbox",
         "type": "scattermapbox"
        },
        {
         "hovertemplate": "User Code=8uTNCOhKys<br>lat=%{lat}<br>lon=%{lon}<extra></extra>",
         "lat": [
          19.544219999999996
         ],
         "legendgroup": "8uTNCOhKys",
         "lon": [
          -99.3691
         ],
         "marker": {
          "color": "#ab63fa"
         },
         "mode": "markers",
         "name": "8uTNCOhKys",
         "showlegend": true,
         "subplot": "mapbox",
         "type": "scattermapbox"
        },
        {
         "hovertemplate": "User Code=vkl81UITxP<br>lat=%{lat}<br>lon=%{lon}<extra></extra>",
         "lat": [
          19.523539999999997
         ],
         "legendgroup": "vkl81UITxP",
         "lon": [
          -99.31234999999998
         ],
         "marker": {
          "color": "#FFA15A"
         },
         "mode": "markers",
         "name": "vkl81UITxP",
         "showlegend": true,
         "subplot": "mapbox",
         "type": "scattermapbox"
        },
        {
         "hovertemplate": "User Code=l6ZrudRNGE<br>lat=%{lat}<br>lon=%{lon}<extra></extra>",
         "lat": [
          19.08632
         ],
         "legendgroup": "l6ZrudRNGE",
         "lon": [
          -99.22620999999998
         ],
         "marker": {
          "color": "#19d3f3"
         },
         "mode": "markers",
         "name": "l6ZrudRNGE",
         "showlegend": true,
         "subplot": "mapbox",
         "type": "scattermapbox"
        },
        {
         "hovertemplate": "User Code=YJajcMNRFG<br>lat=%{lat}<br>lon=%{lon}<extra></extra>",
         "lat": [
          19.26178
         ],
         "legendgroup": "YJajcMNRFG",
         "lon": [
          -99.38567
         ],
         "marker": {
          "color": "#FF6692"
         },
         "mode": "markers",
         "name": "YJajcMNRFG",
         "showlegend": true,
         "subplot": "mapbox",
         "type": "scattermapbox"
        },
        {
         "hovertemplate": "User Code=Ev5Yb0rMdW<br>lat=%{lat}<br>lon=%{lon}<extra></extra>",
         "lat": [
          19.5137
         ],
         "legendgroup": "Ev5Yb0rMdW",
         "lon": [
          -99.19794000000002
         ],
         "marker": {
          "color": "#B6E880"
         },
         "mode": "markers",
         "name": "Ev5Yb0rMdW",
         "showlegend": true,
         "subplot": "mapbox",
         "type": "scattermapbox"
        },
        {
         "hovertemplate": "User Code=iTDwgQGZOc<br>lat=%{lat}<br>lon=%{lon}<extra></extra>",
         "lat": [
          19.15463
         ],
         "legendgroup": "iTDwgQGZOc",
         "lon": [
          -98.99442999999997
         ],
         "marker": {
          "color": "#FF97FF"
         },
         "mode": "markers",
         "name": "iTDwgQGZOc",
         "showlegend": true,
         "subplot": "mapbox",
         "type": "scattermapbox"
        },
        {
         "hovertemplate": "User Code=V7Q8KMOLuh<br>lat=%{lat}<br>lon=%{lon}<extra></extra>",
         "lat": [
          19.59405
         ],
         "legendgroup": "V7Q8KMOLuh",
         "lon": [
          -99.36658999999997
         ],
         "marker": {
          "color": "#FECB52"
         },
         "mode": "markers",
         "name": "V7Q8KMOLuh",
         "showlegend": true,
         "subplot": "mapbox",
         "type": "scattermapbox"
        },
        {
         "hovertemplate": "User Code=85EZSM1U7y<br>lat=%{lat}<br>lon=%{lon}<extra></extra>",
         "lat": [
          19.59344
         ],
         "legendgroup": "85EZSM1U7y",
         "lon": [
          -98.92896999999999
         ],
         "marker": {
          "color": "#636efa"
         },
         "mode": "markers",
         "name": "85EZSM1U7y",
         "showlegend": true,
         "subplot": "mapbox",
         "type": "scattermapbox"
        },
        {
         "hovertemplate": "User Code=U2NaEO9mnv<br>lat=%{lat}<br>lon=%{lon}<extra></extra>",
         "lat": [
          19.54621
         ],
         "legendgroup": "U2NaEO9mnv",
         "lon": [
          -99.30439000000001
         ],
         "marker": {
          "color": "#EF553B"
         },
         "mode": "markers",
         "name": "U2NaEO9mnv",
         "showlegend": true,
         "subplot": "mapbox",
         "type": "scattermapbox"
        },
        {
         "hovertemplate": "User Code=8lhQYnxPKU<br>lat=%{lat}<br>lon=%{lon}<extra></extra>",
         "lat": [
          19.39526
         ],
         "legendgroup": "8lhQYnxPKU",
         "lon": [
          -99.14166999999998
         ],
         "marker": {
          "color": "#00cc96"
         },
         "mode": "markers",
         "name": "8lhQYnxPKU",
         "showlegend": true,
         "subplot": "mapbox",
         "type": "scattermapbox"
        },
        {
         "hovertemplate": "User Code=js3erXdoTG<br>lat=%{lat}<br>lon=%{lon}<extra></extra>",
         "lat": [
          19.07338
         ],
         "legendgroup": "js3erXdoTG",
         "lon": [
          -99.32826
         ],
         "marker": {
          "color": "#ab63fa"
         },
         "mode": "markers",
         "name": "js3erXdoTG",
         "showlegend": true,
         "subplot": "mapbox",
         "type": "scattermapbox"
        },
        {
         "hovertemplate": "User Code=mhJU3qo5Nu<br>lat=%{lat}<br>lon=%{lon}<extra></extra>",
         "lat": [
          19.02556
         ],
         "legendgroup": "mhJU3qo5Nu",
         "lon": [
          -99.36109999999996
         ],
         "marker": {
          "color": "#FFA15A"
         },
         "mode": "markers",
         "name": "mhJU3qo5Nu",
         "showlegend": true,
         "subplot": "mapbox",
         "type": "scattermapbox"
        },
        {
         "hovertemplate": "User Code=xDHyWuAzXi<br>lat=%{lat}<br>lon=%{lon}<extra></extra>",
         "lat": [
          19.216559999999998
         ],
         "legendgroup": "xDHyWuAzXi",
         "lon": [
          -99.33972
         ],
         "marker": {
          "color": "#19d3f3"
         },
         "mode": "markers",
         "name": "xDHyWuAzXi",
         "showlegend": true,
         "subplot": "mapbox",
         "type": "scattermapbox"
        },
        {
         "hovertemplate": "User Code=rKyIMWZRao<br>lat=%{lat}<br>lon=%{lon}<extra></extra>",
         "lat": [
          19.29866
         ],
         "legendgroup": "rKyIMWZRao",
         "lon": [
          -99.17599999999999
         ],
         "marker": {
          "color": "#FF6692"
         },
         "mode": "markers",
         "name": "rKyIMWZRao",
         "showlegend": true,
         "subplot": "mapbox",
         "type": "scattermapbox"
        },
        {
         "hovertemplate": "User Code=41ATXYa62j<br>lat=%{lat}<br>lon=%{lon}<extra></extra>",
         "lat": [
          19.21171
         ],
         "legendgroup": "41ATXYa62j",
         "lon": [
          -98.90089
         ],
         "marker": {
          "color": "#B6E880"
         },
         "mode": "markers",
         "name": "41ATXYa62j",
         "showlegend": true,
         "subplot": "mapbox",
         "type": "scattermapbox"
        },
        {
         "hovertemplate": "User Code=uC2l4cDyKr<br>lat=%{lat}<br>lon=%{lon}<extra></extra>",
         "lat": [
          19.46109
         ],
         "legendgroup": "uC2l4cDyKr",
         "lon": [
          -99.38836000000003
         ],
         "marker": {
          "color": "#FF97FF"
         },
         "mode": "markers",
         "name": "uC2l4cDyKr",
         "showlegend": true,
         "subplot": "mapbox",
         "type": "scattermapbox"
        },
        {
         "hovertemplate": "User Code=7Cs931mOTR<br>lat=%{lat}<br>lon=%{lon}<extra></extra>",
         "lat": [
          19.453730000000004
         ],
         "legendgroup": "7Cs931mOTR",
         "lon": [
          -99.03922
         ],
         "marker": {
          "color": "#FECB52"
         },
         "mode": "markers",
         "name": "7Cs931mOTR",
         "showlegend": true,
         "subplot": "mapbox",
         "type": "scattermapbox"
        },
        {
         "hovertemplate": "User Code=7wZ2YbtRqo<br>lat=%{lat}<br>lon=%{lon}<extra></extra>",
         "lat": [
          19.26814
         ],
         "legendgroup": "7wZ2YbtRqo",
         "lon": [
          -99.21668999999997
         ],
         "marker": {
          "color": "#636efa"
         },
         "mode": "markers",
         "name": "7wZ2YbtRqo",
         "showlegend": true,
         "subplot": "mapbox",
         "type": "scattermapbox"
        },
        {
         "hovertemplate": "User Code=RCeBIs80zW<br>lat=%{lat}<br>lon=%{lon}<extra></extra>",
         "lat": [
          19.17781
         ],
         "legendgroup": "RCeBIs80zW",
         "lon": [
          -99.23732999999999
         ],
         "marker": {
          "color": "#EF553B"
         },
         "mode": "markers",
         "name": "RCeBIs80zW",
         "showlegend": true,
         "subplot": "mapbox",
         "type": "scattermapbox"
        },
        {
         "hovertemplate": "User Code=ATMnaE4598<br>lat=%{lat}<br>lon=%{lon}<extra></extra>",
         "lat": [
          19.16341
         ],
         "legendgroup": "ATMnaE4598",
         "lon": [
          -99.14990999999998
         ],
         "marker": {
          "color": "#00cc96"
         },
         "mode": "markers",
         "name": "ATMnaE4598",
         "showlegend": true,
         "subplot": "mapbox",
         "type": "scattermapbox"
        },
        {
         "hovertemplate": "User Code=dGDBRU3qJM<br>lat=%{lat}<br>lon=%{lon}<extra></extra>",
         "lat": [
          19.585529999999995
         ],
         "legendgroup": "dGDBRU3qJM",
         "lon": [
          -99.34429999999998
         ],
         "marker": {
          "color": "#ab63fa"
         },
         "mode": "markers",
         "name": "dGDBRU3qJM",
         "showlegend": true,
         "subplot": "mapbox",
         "type": "scattermapbox"
        },
        {
         "hovertemplate": "User Code=Shk65YxzCe<br>lat=%{lat}<br>lon=%{lon}<extra></extra>",
         "lat": [
          19.26463
         ],
         "legendgroup": "Shk65YxzCe",
         "lon": [
          -99.33904000000001
         ],
         "marker": {
          "color": "#FFA15A"
         },
         "mode": "markers",
         "name": "Shk65YxzCe",
         "showlegend": true,
         "subplot": "mapbox",
         "type": "scattermapbox"
        },
        {
         "hovertemplate": "User Code=3vJS2y6Brd<br>lat=%{lat}<br>lon=%{lon}<extra></extra>",
         "lat": [
          19.229509999999998
         ],
         "legendgroup": "3vJS2y6Brd",
         "lon": [
          -99.39933000000002
         ],
         "marker": {
          "color": "#19d3f3"
         },
         "mode": "markers",
         "name": "3vJS2y6Brd",
         "showlegend": true,
         "subplot": "mapbox",
         "type": "scattermapbox"
        },
        {
         "hovertemplate": "User Code=bTERzXIOWh<br>lat=%{lat}<br>lon=%{lon}<extra></extra>",
         "lat": [
          19.46252
         ],
         "legendgroup": "bTERzXIOWh",
         "lon": [
          -99.28724
         ],
         "marker": {
          "color": "#FF6692"
         },
         "mode": "markers",
         "name": "bTERzXIOWh",
         "showlegend": true,
         "subplot": "mapbox",
         "type": "scattermapbox"
        },
        {
         "hovertemplate": "User Code=ulIef1mJG2<br>lat=%{lat}<br>lon=%{lon}<extra></extra>",
         "lat": [
          19.33648
         ],
         "legendgroup": "ulIef1mJG2",
         "lon": [
          -99.00218000000001
         ],
         "marker": {
          "color": "#B6E880"
         },
         "mode": "markers",
         "name": "ulIef1mJG2",
         "showlegend": true,
         "subplot": "mapbox",
         "type": "scattermapbox"
        },
        {
         "hovertemplate": "User Code=sf5YQzU2SZ<br>lat=%{lat}<br>lon=%{lon}<extra></extra>",
         "lat": [
          19.155099999999997
         ],
         "legendgroup": "sf5YQzU2SZ",
         "lon": [
          -99.30187000000001
         ],
         "marker": {
          "color": "#FF97FF"
         },
         "mode": "markers",
         "name": "sf5YQzU2SZ",
         "showlegend": true,
         "subplot": "mapbox",
         "type": "scattermapbox"
        },
        {
         "hovertemplate": "User Code=JvSUmqCiAY<br>lat=%{lat}<br>lon=%{lon}<extra></extra>",
         "lat": [
          19.43454
         ],
         "legendgroup": "JvSUmqCiAY",
         "lon": [
          -98.93727000000001
         ],
         "marker": {
          "color": "#FECB52"
         },
         "mode": "markers",
         "name": "JvSUmqCiAY",
         "showlegend": true,
         "subplot": "mapbox",
         "type": "scattermapbox"
        },
        {
         "hovertemplate": "User Code=3reLWpbSMO<br>lat=%{lat}<br>lon=%{lon}<extra></extra>",
         "lat": [
          19.27658
         ],
         "legendgroup": "3reLWpbSMO",
         "lon": [
          -99.34442000000001
         ],
         "marker": {
          "color": "#636efa"
         },
         "mode": "markers",
         "name": "3reLWpbSMO",
         "showlegend": true,
         "subplot": "mapbox",
         "type": "scattermapbox"
        },
        {
         "hovertemplate": "User Code=uWzleftP5V<br>lat=%{lat}<br>lon=%{lon}<extra></extra>",
         "lat": [
          19.3969
         ],
         "legendgroup": "uWzleftP5V",
         "lon": [
          -99.09807999999998
         ],
         "marker": {
          "color": "#EF553B"
         },
         "mode": "markers",
         "name": "uWzleftP5V",
         "showlegend": true,
         "subplot": "mapbox",
         "type": "scattermapbox"
        },
        {
         "hovertemplate": "User Code=AhICB1dQxX<br>lat=%{lat}<br>lon=%{lon}<extra></extra>",
         "lat": [
          19.46564
         ],
         "legendgroup": "AhICB1dQxX",
         "lon": [
          -98.91349000000002
         ],
         "marker": {
          "color": "#00cc96"
         },
         "mode": "markers",
         "name": "AhICB1dQxX",
         "showlegend": true,
         "subplot": "mapbox",
         "type": "scattermapbox"
        },
        {
         "hovertemplate": "User Code=f3aAZxs9mw<br>lat=%{lat}<br>lon=%{lon}<extra></extra>",
         "lat": [
          19.22614
         ],
         "legendgroup": "f3aAZxs9mw",
         "lon": [
          -99.08158000000003
         ],
         "marker": {
          "color": "#ab63fa"
         },
         "mode": "markers",
         "name": "f3aAZxs9mw",
         "showlegend": true,
         "subplot": "mapbox",
         "type": "scattermapbox"
        },
        {
         "hovertemplate": "User Code=9zVfTRjqpl<br>lat=%{lat}<br>lon=%{lon}<extra></extra>",
         "lat": [
          19.54974
         ],
         "legendgroup": "9zVfTRjqpl",
         "lon": [
          -99.27452
         ],
         "marker": {
          "color": "#FFA15A"
         },
         "mode": "markers",
         "name": "9zVfTRjqpl",
         "showlegend": true,
         "subplot": "mapbox",
         "type": "scattermapbox"
        },
        {
         "hovertemplate": "User Code=j2OetHrmKZ<br>lat=%{lat}<br>lon=%{lon}<extra></extra>",
         "lat": [
          19.495589999999996
         ],
         "legendgroup": "j2OetHrmKZ",
         "lon": [
          -98.98640999999998
         ],
         "marker": {
          "color": "#19d3f3"
         },
         "mode": "markers",
         "name": "j2OetHrmKZ",
         "showlegend": true,
         "subplot": "mapbox",
         "type": "scattermapbox"
        },
        {
         "hovertemplate": "User Code=Vh8wpZAYLi<br>lat=%{lat}<br>lon=%{lon}<extra></extra>",
         "lat": [
          19.10715
         ],
         "legendgroup": "Vh8wpZAYLi",
         "lon": [
          -98.91260999999997
         ],
         "marker": {
          "color": "#FF6692"
         },
         "mode": "markers",
         "name": "Vh8wpZAYLi",
         "showlegend": true,
         "subplot": "mapbox",
         "type": "scattermapbox"
        },
        {
         "hovertemplate": "User Code=zWxbCwfQtj<br>lat=%{lat}<br>lon=%{lon}<extra></extra>",
         "lat": [
          19.48609
         ],
         "legendgroup": "zWxbCwfQtj",
         "lon": [
          -98.93826000000001
         ],
         "marker": {
          "color": "#B6E880"
         },
         "mode": "markers",
         "name": "zWxbCwfQtj",
         "showlegend": true,
         "subplot": "mapbox",
         "type": "scattermapbox"
        },
        {
         "hovertemplate": "User Code=SRA7C4EdLP<br>lat=%{lat}<br>lon=%{lon}<extra></extra>",
         "lat": [
          19.36289
         ],
         "legendgroup": "SRA7C4EdLP",
         "lon": [
          -99.21123999999998
         ],
         "marker": {
          "color": "#FF97FF"
         },
         "mode": "markers",
         "name": "SRA7C4EdLP",
         "showlegend": true,
         "subplot": "mapbox",
         "type": "scattermapbox"
        },
        {
         "hovertemplate": "User Code=F7dzA5fptK<br>lat=%{lat}<br>lon=%{lon}<extra></extra>",
         "lat": [
          19.234
         ],
         "legendgroup": "F7dzA5fptK",
         "lon": [
          -99.21035
         ],
         "marker": {
          "color": "#FECB52"
         },
         "mode": "markers",
         "name": "F7dzA5fptK",
         "showlegend": true,
         "subplot": "mapbox",
         "type": "scattermapbox"
        },
        {
         "hovertemplate": "User Code=5bJOxlM4aE<br>lat=%{lat}<br>lon=%{lon}<extra></extra>",
         "lat": [
          19.34112
         ],
         "legendgroup": "5bJOxlM4aE",
         "lon": [
          -99.14717999999999
         ],
         "marker": {
          "color": "#636efa"
         },
         "mode": "markers",
         "name": "5bJOxlM4aE",
         "showlegend": true,
         "subplot": "mapbox",
         "type": "scattermapbox"
        },
        {
         "hovertemplate": "User Code=uxLKvkiJqM<br>lat=%{lat}<br>lon=%{lon}<extra></extra>",
         "lat": [
          19.11045
         ],
         "legendgroup": "uxLKvkiJqM",
         "lon": [
          -99.28368999999998
         ],
         "marker": {
          "color": "#EF553B"
         },
         "mode": "markers",
         "name": "uxLKvkiJqM",
         "showlegend": true,
         "subplot": "mapbox",
         "type": "scattermapbox"
        },
        {
         "hovertemplate": "User Code=XsNMAhedvt<br>lat=%{lat}<br>lon=%{lon}<extra></extra>",
         "lat": [
          19.01513
         ],
         "legendgroup": "XsNMAhedvt",
         "lon": [
          -99.33695999999998
         ],
         "marker": {
          "color": "#00cc96"
         },
         "mode": "markers",
         "name": "XsNMAhedvt",
         "showlegend": true,
         "subplot": "mapbox",
         "type": "scattermapbox"
        },
        {
         "hovertemplate": "User Code=TwmIjkVYMb<br>lat=%{lat}<br>lon=%{lon}<extra></extra>",
         "lat": [
          19.07179
         ],
         "legendgroup": "TwmIjkVYMb",
         "lon": [
          -99.29890999999998
         ],
         "marker": {
          "color": "#ab63fa"
         },
         "mode": "markers",
         "name": "TwmIjkVYMb",
         "showlegend": true,
         "subplot": "mapbox",
         "type": "scattermapbox"
        },
        {
         "hovertemplate": "User Code=DpdcjrVPzY<br>lat=%{lat}<br>lon=%{lon}<extra></extra>",
         "lat": [
          19.42959
         ],
         "legendgroup": "DpdcjrVPzY",
         "lon": [
          -99.28350999999998
         ],
         "marker": {
          "color": "#FFA15A"
         },
         "mode": "markers",
         "name": "DpdcjrVPzY",
         "showlegend": true,
         "subplot": "mapbox",
         "type": "scattermapbox"
        },
        {
         "hovertemplate": "User Code=DjmIcSO2RL<br>lat=%{lat}<br>lon=%{lon}<extra></extra>",
         "lat": [
          19.11205
         ],
         "legendgroup": "DjmIcSO2RL",
         "lon": [
          -99.24700000000001
         ],
         "marker": {
          "color": "#19d3f3"
         },
         "mode": "markers",
         "name": "DjmIcSO2RL",
         "showlegend": true,
         "subplot": "mapbox",
         "type": "scattermapbox"
        },
        {
         "hovertemplate": "User Code=RcrAaUEVB3<br>lat=%{lat}<br>lon=%{lon}<extra></extra>",
         "lat": [
          19.340209999999995
         ],
         "legendgroup": "RcrAaUEVB3",
         "lon": [
          -98.94621000000001
         ],
         "marker": {
          "color": "#FF6692"
         },
         "mode": "markers",
         "name": "RcrAaUEVB3",
         "showlegend": true,
         "subplot": "mapbox",
         "type": "scattermapbox"
        },
        {
         "hovertemplate": "User Code=nxrMQIskdu<br>lat=%{lat}<br>lon=%{lon}<extra></extra>",
         "lat": [
          19.52661
         ],
         "legendgroup": "nxrMQIskdu",
         "lon": [
          -99.01179000000002
         ],
         "marker": {
          "color": "#B6E880"
         },
         "mode": "markers",
         "name": "nxrMQIskdu",
         "showlegend": true,
         "subplot": "mapbox",
         "type": "scattermapbox"
        },
        {
         "hovertemplate": "User Code=lNEVusIn6O<br>lat=%{lat}<br>lon=%{lon}<extra></extra>",
         "lat": [
          19.175029999999996
         ],
         "legendgroup": "lNEVusIn6O",
         "lon": [
          -99.39866
         ],
         "marker": {
          "color": "#FF97FF"
         },
         "mode": "markers",
         "name": "lNEVusIn6O",
         "showlegend": true,
         "subplot": "mapbox",
         "type": "scattermapbox"
        },
        {
         "hovertemplate": "User Code=PwNI7GJz5u<br>lat=%{lat}<br>lon=%{lon}<extra></extra>",
         "lat": [
          19.04321
         ],
         "legendgroup": "PwNI7GJz5u",
         "lon": [
          -99.18435
         ],
         "marker": {
          "color": "#FECB52"
         },
         "mode": "markers",
         "name": "PwNI7GJz5u",
         "showlegend": true,
         "subplot": "mapbox",
         "type": "scattermapbox"
        },
        {
         "hovertemplate": "User Code=Vs9xNt6car<br>lat=%{lat}<br>lon=%{lon}<extra></extra>",
         "lat": [
          19.51352
         ],
         "legendgroup": "Vs9xNt6car",
         "lon": [
          -98.95238
         ],
         "marker": {
          "color": "#636efa"
         },
         "mode": "markers",
         "name": "Vs9xNt6car",
         "showlegend": true,
         "subplot": "mapbox",
         "type": "scattermapbox"
        },
        {
         "hovertemplate": "User Code=yZjm9eSIpB<br>lat=%{lat}<br>lon=%{lon}<extra></extra>",
         "lat": [
          19.52799
         ],
         "legendgroup": "yZjm9eSIpB",
         "lon": [
          -99.26263
         ],
         "marker": {
          "color": "#EF553B"
         },
         "mode": "markers",
         "name": "yZjm9eSIpB",
         "showlegend": true,
         "subplot": "mapbox",
         "type": "scattermapbox"
        },
        {
         "hovertemplate": "User Code=NJSB7W9fe3<br>lat=%{lat}<br>lon=%{lon}<extra></extra>",
         "lat": [
          19.23094
         ],
         "legendgroup": "NJSB7W9fe3",
         "lon": [
          -99.00862000000001
         ],
         "marker": {
          "color": "#00cc96"
         },
         "mode": "markers",
         "name": "NJSB7W9fe3",
         "showlegend": true,
         "subplot": "mapbox",
         "type": "scattermapbox"
        },
        {
         "hovertemplate": "User Code=1a7gOZX8oJ<br>lat=%{lat}<br>lon=%{lon}<extra></extra>",
         "lat": [
          19.489649999999997
         ],
         "legendgroup": "1a7gOZX8oJ",
         "lon": [
          -99.05599000000001
         ],
         "marker": {
          "color": "#ab63fa"
         },
         "mode": "markers",
         "name": "1a7gOZX8oJ",
         "showlegend": true,
         "subplot": "mapbox",
         "type": "scattermapbox"
        },
        {
         "hovertemplate": "User Code=Dldw5t2AqK<br>lat=%{lat}<br>lon=%{lon}<extra></extra>",
         "lat": [
          19.49537
         ],
         "legendgroup": "Dldw5t2AqK",
         "lon": [
          -99.08222999999998
         ],
         "marker": {
          "color": "#FFA15A"
         },
         "mode": "markers",
         "name": "Dldw5t2AqK",
         "showlegend": true,
         "subplot": "mapbox",
         "type": "scattermapbox"
        },
        {
         "hovertemplate": "User Code=WxFJoEkU5O<br>lat=%{lat}<br>lon=%{lon}<extra></extra>",
         "lat": [
          19.03474
         ],
         "legendgroup": "WxFJoEkU5O",
         "lon": [
          -99.39139
         ],
         "marker": {
          "color": "#19d3f3"
         },
         "mode": "markers",
         "name": "WxFJoEkU5O",
         "showlegend": true,
         "subplot": "mapbox",
         "type": "scattermapbox"
        },
        {
         "hovertemplate": "User Code=1drJKS4YMV<br>lat=%{lat}<br>lon=%{lon}<extra></extra>",
         "lat": [
          19.15467
         ],
         "legendgroup": "1drJKS4YMV",
         "lon": [
          -98.97477000000003
         ],
         "marker": {
          "color": "#FF6692"
         },
         "mode": "markers",
         "name": "1drJKS4YMV",
         "showlegend": true,
         "subplot": "mapbox",
         "type": "scattermapbox"
        },
        {
         "hovertemplate": "User Code=tbJojCquTd<br>lat=%{lat}<br>lon=%{lon}<extra></extra>",
         "lat": [
          19.16631
         ],
         "legendgroup": "tbJojCquTd",
         "lon": [
          -99.18165999999997
         ],
         "marker": {
          "color": "#B6E880"
         },
         "mode": "markers",
         "name": "tbJojCquTd",
         "showlegend": true,
         "subplot": "mapbox",
         "type": "scattermapbox"
        },
        {
         "hovertemplate": "User Code=L1VW3I5AXv<br>lat=%{lat}<br>lon=%{lon}<extra></extra>",
         "lat": [
          19.44543
         ],
         "legendgroup": "L1VW3I5AXv",
         "lon": [
          -99.20078000000001
         ],
         "marker": {
          "color": "#FF97FF"
         },
         "mode": "markers",
         "name": "L1VW3I5AXv",
         "showlegend": true,
         "subplot": "mapbox",
         "type": "scattermapbox"
        },
        {
         "hovertemplate": "User Code=N2SaEo5itk<br>lat=%{lat}<br>lon=%{lon}<extra></extra>",
         "lat": [
          19.070989999999995
         ],
         "legendgroup": "N2SaEo5itk",
         "lon": [
          -99.33490999999998
         ],
         "marker": {
          "color": "#FECB52"
         },
         "mode": "markers",
         "name": "N2SaEo5itk",
         "showlegend": true,
         "subplot": "mapbox",
         "type": "scattermapbox"
        },
        {
         "hovertemplate": "User Code=dAmG2Xq8MD<br>lat=%{lat}<br>lon=%{lon}<extra></extra>",
         "lat": [
          19.45399
         ],
         "legendgroup": "dAmG2Xq8MD",
         "lon": [
          -99.23768999999999
         ],
         "marker": {
          "color": "#636efa"
         },
         "mode": "markers",
         "name": "dAmG2Xq8MD",
         "showlegend": true,
         "subplot": "mapbox",
         "type": "scattermapbox"
        },
        {
         "hovertemplate": "User Code=ORhvcfl4uP<br>lat=%{lat}<br>lon=%{lon}<extra></extra>",
         "lat": [
          19.579699999999995
         ],
         "legendgroup": "ORhvcfl4uP",
         "lon": [
          -98.93394
         ],
         "marker": {
          "color": "#EF553B"
         },
         "mode": "markers",
         "name": "ORhvcfl4uP",
         "showlegend": true,
         "subplot": "mapbox",
         "type": "scattermapbox"
        },
        {
         "hovertemplate": "User Code=T2fOvLY3yl<br>lat=%{lat}<br>lon=%{lon}<extra></extra>",
         "lat": [
          19.52703
         ],
         "legendgroup": "T2fOvLY3yl",
         "lon": [
          -99.08434999999997
         ],
         "marker": {
          "color": "#00cc96"
         },
         "mode": "markers",
         "name": "T2fOvLY3yl",
         "showlegend": true,
         "subplot": "mapbox",
         "type": "scattermapbox"
        },
        {
         "hovertemplate": "User Code=foFD7OZmpV<br>lat=%{lat}<br>lon=%{lon}<extra></extra>",
         "lat": [
          19.38298
         ],
         "legendgroup": "foFD7OZmpV",
         "lon": [
          -99.14943
         ],
         "marker": {
          "color": "#ab63fa"
         },
         "mode": "markers",
         "name": "foFD7OZmpV",
         "showlegend": true,
         "subplot": "mapbox",
         "type": "scattermapbox"
        },
        {
         "hovertemplate": "User Code=lJua3izxtC<br>lat=%{lat}<br>lon=%{lon}<extra></extra>",
         "lat": [
          19.40652
         ],
         "legendgroup": "lJua3izxtC",
         "lon": [
          -98.95555000000002
         ],
         "marker": {
          "color": "#FFA15A"
         },
         "mode": "markers",
         "name": "lJua3izxtC",
         "showlegend": true,
         "subplot": "mapbox",
         "type": "scattermapbox"
        },
        {
         "hovertemplate": "User Code=xOBEC1AnQG<br>lat=%{lat}<br>lon=%{lon}<extra></extra>",
         "lat": [
          19.13777
         ],
         "legendgroup": "xOBEC1AnQG",
         "lon": [
          -99.37768
         ],
         "marker": {
          "color": "#19d3f3"
         },
         "mode": "markers",
         "name": "xOBEC1AnQG",
         "showlegend": true,
         "subplot": "mapbox",
         "type": "scattermapbox"
        },
        {
         "hovertemplate": "User Code=LQoMXBVjyl<br>lat=%{lat}<br>lon=%{lon}<extra></extra>",
         "lat": [
          19.21907
         ],
         "legendgroup": "LQoMXBVjyl",
         "lon": [
          -99.16575
         ],
         "marker": {
          "color": "#FF6692"
         },
         "mode": "markers",
         "name": "LQoMXBVjyl",
         "showlegend": true,
         "subplot": "mapbox",
         "type": "scattermapbox"
        },
        {
         "hovertemplate": "User Code=4RfMozIny0<br>lat=%{lat}<br>lon=%{lon}<extra></extra>",
         "lat": [
          19.56884
         ],
         "legendgroup": "4RfMozIny0",
         "lon": [
          -99.25544000000002
         ],
         "marker": {
          "color": "#B6E880"
         },
         "mode": "markers",
         "name": "4RfMozIny0",
         "showlegend": true,
         "subplot": "mapbox",
         "type": "scattermapbox"
        },
        {
         "hovertemplate": "User Code=yzvcBRL42A<br>lat=%{lat}<br>lon=%{lon}<extra></extra>",
         "lat": [
          19.29065
         ],
         "legendgroup": "yzvcBRL42A",
         "lon": [
          -98.91182000000003
         ],
         "marker": {
          "color": "#FF97FF"
         },
         "mode": "markers",
         "name": "yzvcBRL42A",
         "showlegend": true,
         "subplot": "mapbox",
         "type": "scattermapbox"
        },
        {
         "hovertemplate": "User Code=T1mD5bo6rP<br>lat=%{lat}<br>lon=%{lon}<extra></extra>",
         "lat": [
          19.10024
         ],
         "legendgroup": "T1mD5bo6rP",
         "lon": [
          -99.15418
         ],
         "marker": {
          "color": "#FECB52"
         },
         "mode": "markers",
         "name": "T1mD5bo6rP",
         "showlegend": true,
         "subplot": "mapbox",
         "type": "scattermapbox"
        },
        {
         "hovertemplate": "User Code=duwE4bVsRy<br>lat=%{lat}<br>lon=%{lon}<extra></extra>",
         "lat": [
          19.114099999999997
         ],
         "legendgroup": "duwE4bVsRy",
         "lon": [
          -99.12774999999999
         ],
         "marker": {
          "color": "#636efa"
         },
         "mode": "markers",
         "name": "duwE4bVsRy",
         "showlegend": true,
         "subplot": "mapbox",
         "type": "scattermapbox"
        },
        {
         "hovertemplate": "User Code=RfHvTxj01P<br>lat=%{lat}<br>lon=%{lon}<extra></extra>",
         "lat": [
          19.18345
         ],
         "legendgroup": "RfHvTxj01P",
         "lon": [
          -99.12543
         ],
         "marker": {
          "color": "#EF553B"
         },
         "mode": "markers",
         "name": "RfHvTxj01P",
         "showlegend": true,
         "subplot": "mapbox",
         "type": "scattermapbox"
        },
        {
         "hovertemplate": "User Code=4B5lodJpCT<br>lat=%{lat}<br>lon=%{lon}<extra></extra>",
         "lat": [
          19.13218
         ],
         "legendgroup": "4B5lodJpCT",
         "lon": [
          -99.10106000000002
         ],
         "marker": {
          "color": "#00cc96"
         },
         "mode": "markers",
         "name": "4B5lodJpCT",
         "showlegend": true,
         "subplot": "mapbox",
         "type": "scattermapbox"
        },
        {
         "hovertemplate": "User Code=h5Vt4X0uFi<br>lat=%{lat}<br>lon=%{lon}<extra></extra>",
         "lat": [
          19.38835
         ],
         "legendgroup": "h5Vt4X0uFi",
         "lon": [
          -99.14112
         ],
         "marker": {
          "color": "#ab63fa"
         },
         "mode": "markers",
         "name": "h5Vt4X0uFi",
         "showlegend": true,
         "subplot": "mapbox",
         "type": "scattermapbox"
        },
        {
         "hovertemplate": "User Code=VoHGaJWC4t<br>lat=%{lat}<br>lon=%{lon}<extra></extra>",
         "lat": [
          19.596440000000005
         ],
         "legendgroup": "VoHGaJWC4t",
         "lon": [
          -99.3571
         ],
         "marker": {
          "color": "#FFA15A"
         },
         "mode": "markers",
         "name": "VoHGaJWC4t",
         "showlegend": true,
         "subplot": "mapbox",
         "type": "scattermapbox"
        },
        {
         "hovertemplate": "User Code=E8B1DMmA4p<br>lat=%{lat}<br>lon=%{lon}<extra></extra>",
         "lat": [
          19.45208
         ],
         "legendgroup": "E8B1DMmA4p",
         "lon": [
          -98.947
         ],
         "marker": {
          "color": "#19d3f3"
         },
         "mode": "markers",
         "name": "E8B1DMmA4p",
         "showlegend": true,
         "subplot": "mapbox",
         "type": "scattermapbox"
        },
        {
         "hovertemplate": "User Code=iIFJHWd4g2<br>lat=%{lat}<br>lon=%{lon}<extra></extra>",
         "lat": [
          19.02017
         ],
         "legendgroup": "iIFJHWd4g2",
         "lon": [
          -99.00598000000002
         ],
         "marker": {
          "color": "#FF6692"
         },
         "mode": "markers",
         "name": "iIFJHWd4g2",
         "showlegend": true,
         "subplot": "mapbox",
         "type": "scattermapbox"
        },
        {
         "hovertemplate": "User Code=vp3MuHcs2X<br>lat=%{lat}<br>lon=%{lon}<extra></extra>",
         "lat": [
          19.49784
         ],
         "legendgroup": "vp3MuHcs2X",
         "lon": [
          -99.24550999999997
         ],
         "marker": {
          "color": "#B6E880"
         },
         "mode": "markers",
         "name": "vp3MuHcs2X",
         "showlegend": true,
         "subplot": "mapbox",
         "type": "scattermapbox"
        },
        {
         "hovertemplate": "User Code=qX46Hsu8rL<br>lat=%{lat}<br>lon=%{lon}<extra></extra>",
         "lat": [
          19.0234
         ],
         "legendgroup": "qX46Hsu8rL",
         "lon": [
          -99.21433999999999
         ],
         "marker": {
          "color": "#FF97FF"
         },
         "mode": "markers",
         "name": "qX46Hsu8rL",
         "showlegend": true,
         "subplot": "mapbox",
         "type": "scattermapbox"
        },
        {
         "hovertemplate": "User Code=WpqMPQ5raH<br>lat=%{lat}<br>lon=%{lon}<extra></extra>",
         "lat": [
          19.457150000000002
         ],
         "legendgroup": "WpqMPQ5raH",
         "lon": [
          -99.19896
         ],
         "marker": {
          "color": "#FECB52"
         },
         "mode": "markers",
         "name": "WpqMPQ5raH",
         "showlegend": true,
         "subplot": "mapbox",
         "type": "scattermapbox"
        },
        {
         "hovertemplate": "User Code=QTj8YLFeAr<br>lat=%{lat}<br>lon=%{lon}<extra></extra>",
         "lat": [
          19.07571
         ],
         "legendgroup": "QTj8YLFeAr",
         "lon": [
          -98.94945000000001
         ],
         "marker": {
          "color": "#636efa"
         },
         "mode": "markers",
         "name": "QTj8YLFeAr",
         "showlegend": true,
         "subplot": "mapbox",
         "type": "scattermapbox"
        },
        {
         "hovertemplate": "User Code=TuvlFMGU75<br>lat=%{lat}<br>lon=%{lon}<extra></extra>",
         "lat": [
          19.37535
         ],
         "legendgroup": "TuvlFMGU75",
         "lon": [
          -99.23457000000002
         ],
         "marker": {
          "color": "#EF553B"
         },
         "mode": "markers",
         "name": "TuvlFMGU75",
         "showlegend": true,
         "subplot": "mapbox",
         "type": "scattermapbox"
        },
        {
         "hovertemplate": "User Code=Hd9EqtJZzS<br>lat=%{lat}<br>lon=%{lon}<extra></extra>",
         "lat": [
          19.29448
         ],
         "legendgroup": "Hd9EqtJZzS",
         "lon": [
          -99.31781999999998
         ],
         "marker": {
          "color": "#00cc96"
         },
         "mode": "markers",
         "name": "Hd9EqtJZzS",
         "showlegend": true,
         "subplot": "mapbox",
         "type": "scattermapbox"
        },
        {
         "hovertemplate": "User Code=cX52KTDn3L<br>lat=%{lat}<br>lon=%{lon}<extra></extra>",
         "lat": [
          19.08039
         ],
         "legendgroup": "cX52KTDn3L",
         "lon": [
          -99.2652
         ],
         "marker": {
          "color": "#ab63fa"
         },
         "mode": "markers",
         "name": "cX52KTDn3L",
         "showlegend": true,
         "subplot": "mapbox",
         "type": "scattermapbox"
        },
        {
         "hovertemplate": "User Code=GuaXSRVAJ2<br>lat=%{lat}<br>lon=%{lon}<extra></extra>",
         "lat": [
          19.04938
         ],
         "legendgroup": "GuaXSRVAJ2",
         "lon": [
          -99.05638999999996
         ],
         "marker": {
          "color": "#FFA15A"
         },
         "mode": "markers",
         "name": "GuaXSRVAJ2",
         "showlegend": true,
         "subplot": "mapbox",
         "type": "scattermapbox"
        },
        {
         "hovertemplate": "User Code=gbleP4JN1V<br>lat=%{lat}<br>lon=%{lon}<extra></extra>",
         "lat": [
          19.13769
         ],
         "legendgroup": "gbleP4JN1V",
         "lon": [
          -99.07051000000001
         ],
         "marker": {
          "color": "#19d3f3"
         },
         "mode": "markers",
         "name": "gbleP4JN1V",
         "showlegend": true,
         "subplot": "mapbox",
         "type": "scattermapbox"
        },
        {
         "hovertemplate": "User Code=wSKDTPlEGf<br>lat=%{lat}<br>lon=%{lon}<extra></extra>",
         "lat": [
          19.53109
         ],
         "legendgroup": "wSKDTPlEGf",
         "lon": [
          -99.32009
         ],
         "marker": {
          "color": "#FF6692"
         },
         "mode": "markers",
         "name": "wSKDTPlEGf",
         "showlegend": true,
         "subplot": "mapbox",
         "type": "scattermapbox"
        },
        {
         "hovertemplate": "User Code=mOSMQIyreN<br>lat=%{lat}<br>lon=%{lon}<extra></extra>",
         "lat": [
          19.19424
         ],
         "legendgroup": "mOSMQIyreN",
         "lon": [
          -99.00441999999998
         ],
         "marker": {
          "color": "#B6E880"
         },
         "mode": "markers",
         "name": "mOSMQIyreN",
         "showlegend": true,
         "subplot": "mapbox",
         "type": "scattermapbox"
        },
        {
         "hovertemplate": "User Code=3bynw1JoIW<br>lat=%{lat}<br>lon=%{lon}<extra></extra>",
         "lat": [
          19.12604
         ],
         "legendgroup": "3bynw1JoIW",
         "lon": [
          -98.98656
         ],
         "marker": {
          "color": "#FF97FF"
         },
         "mode": "markers",
         "name": "3bynw1JoIW",
         "showlegend": true,
         "subplot": "mapbox",
         "type": "scattermapbox"
        },
        {
         "hovertemplate": "User Code=7eXymP0roU<br>lat=%{lat}<br>lon=%{lon}<extra></extra>",
         "lat": [
          19.19785
         ],
         "legendgroup": "7eXymP0roU",
         "lon": [
          -99.03778
         ],
         "marker": {
          "color": "#FECB52"
         },
         "mode": "markers",
         "name": "7eXymP0roU",
         "showlegend": true,
         "subplot": "mapbox",
         "type": "scattermapbox"
        },
        {
         "hovertemplate": "User Code=ZCWHaJtrsd<br>lat=%{lat}<br>lon=%{lon}<extra></extra>",
         "lat": [
          19.586459999999995
         ],
         "legendgroup": "ZCWHaJtrsd",
         "lon": [
          -98.91014999999999
         ],
         "marker": {
          "color": "#636efa"
         },
         "mode": "markers",
         "name": "ZCWHaJtrsd",
         "showlegend": true,
         "subplot": "mapbox",
         "type": "scattermapbox"
        },
        {
         "hovertemplate": "User Code=hjdr4YNGQy<br>lat=%{lat}<br>lon=%{lon}<extra></extra>",
         "lat": [
          19.01218
         ],
         "legendgroup": "hjdr4YNGQy",
         "lon": [
          -98.96049
         ],
         "marker": {
          "color": "#EF553B"
         },
         "mode": "markers",
         "name": "hjdr4YNGQy",
         "showlegend": true,
         "subplot": "mapbox",
         "type": "scattermapbox"
        },
        {
         "hovertemplate": "User Code=K1l6q7ughW<br>lat=%{lat}<br>lon=%{lon}<extra></extra>",
         "lat": [
          19.38488
         ],
         "legendgroup": "K1l6q7ughW",
         "lon": [
          -99.14850000000001
         ],
         "marker": {
          "color": "#00cc96"
         },
         "mode": "markers",
         "name": "K1l6q7ughW",
         "showlegend": true,
         "subplot": "mapbox",
         "type": "scattermapbox"
        },
        {
         "hovertemplate": "User Code=yMzukmKabh<br>lat=%{lat}<br>lon=%{lon}<extra></extra>",
         "lat": [
          19.39929
         ],
         "legendgroup": "yMzukmKabh",
         "lon": [
          -99.36571000000004
         ],
         "marker": {
          "color": "#ab63fa"
         },
         "mode": "markers",
         "name": "yMzukmKabh",
         "showlegend": true,
         "subplot": "mapbox",
         "type": "scattermapbox"
        },
        {
         "hovertemplate": "User Code=NfW28cZJRB<br>lat=%{lat}<br>lon=%{lon}<extra></extra>",
         "lat": [
          19.0183
         ],
         "legendgroup": "NfW28cZJRB",
         "lon": [
          -99.34373
         ],
         "marker": {
          "color": "#FFA15A"
         },
         "mode": "markers",
         "name": "NfW28cZJRB",
         "showlegend": true,
         "subplot": "mapbox",
         "type": "scattermapbox"
        },
        {
         "hovertemplate": "User Code=GAl1sc9nJ4<br>lat=%{lat}<br>lon=%{lon}<extra></extra>",
         "lat": [
          19.17782
         ],
         "legendgroup": "GAl1sc9nJ4",
         "lon": [
          -99.08294000000001
         ],
         "marker": {
          "color": "#19d3f3"
         },
         "mode": "markers",
         "name": "GAl1sc9nJ4",
         "showlegend": true,
         "subplot": "mapbox",
         "type": "scattermapbox"
        },
        {
         "hovertemplate": "User Code=V42hcbDnty<br>lat=%{lat}<br>lon=%{lon}<extra></extra>",
         "lat": [
          19.291919999999998
         ],
         "legendgroup": "V42hcbDnty",
         "lon": [
          -99.39426000000003
         ],
         "marker": {
          "color": "#FF6692"
         },
         "mode": "markers",
         "name": "V42hcbDnty",
         "showlegend": true,
         "subplot": "mapbox",
         "type": "scattermapbox"
        },
        {
         "hovertemplate": "User Code=rlbuVgQ7dE<br>lat=%{lat}<br>lon=%{lon}<extra></extra>",
         "lat": [
          19.13329
         ],
         "legendgroup": "rlbuVgQ7dE",
         "lon": [
          -99.27026999999998
         ],
         "marker": {
          "color": "#B6E880"
         },
         "mode": "markers",
         "name": "rlbuVgQ7dE",
         "showlegend": true,
         "subplot": "mapbox",
         "type": "scattermapbox"
        },
        {
         "hovertemplate": "User Code=s6NhKS7LDm<br>lat=%{lat}<br>lon=%{lon}<extra></extra>",
         "lat": [
          19.482159999999997
         ],
         "legendgroup": "s6NhKS7LDm",
         "lon": [
          -99.34911
         ],
         "marker": {
          "color": "#FF97FF"
         },
         "mode": "markers",
         "name": "s6NhKS7LDm",
         "showlegend": true,
         "subplot": "mapbox",
         "type": "scattermapbox"
        },
        {
         "hovertemplate": "User Code=dKMot4zLpw<br>lat=%{lat}<br>lon=%{lon}<extra></extra>",
         "lat": [
          19.37958
         ],
         "legendgroup": "dKMot4zLpw",
         "lon": [
          -99.34528
         ],
         "marker": {
          "color": "#FECB52"
         },
         "mode": "markers",
         "name": "dKMot4zLpw",
         "showlegend": true,
         "subplot": "mapbox",
         "type": "scattermapbox"
        },
        {
         "hovertemplate": "User Code=ZR1uzJ8q97<br>lat=%{lat}<br>lon=%{lon}<extra></extra>",
         "lat": [
          19.42233
         ],
         "legendgroup": "ZR1uzJ8q97",
         "lon": [
          -98.95186000000001
         ],
         "marker": {
          "color": "#636efa"
         },
         "mode": "markers",
         "name": "ZR1uzJ8q97",
         "showlegend": true,
         "subplot": "mapbox",
         "type": "scattermapbox"
        },
        {
         "hovertemplate": "User Code=SBXhqlAgFP<br>lat=%{lat}<br>lon=%{lon}<extra></extra>",
         "lat": [
          19.09746
         ],
         "legendgroup": "SBXhqlAgFP",
         "lon": [
          -99.11905000000002
         ],
         "marker": {
          "color": "#EF553B"
         },
         "mode": "markers",
         "name": "SBXhqlAgFP",
         "showlegend": true,
         "subplot": "mapbox",
         "type": "scattermapbox"
        },
        {
         "hovertemplate": "User Code=4S8o5IUs0i<br>lat=%{lat}<br>lon=%{lon}<extra></extra>",
         "lat": [
          19.24611
         ],
         "legendgroup": "4S8o5IUs0i",
         "lon": [
          -99.10955000000001
         ],
         "marker": {
          "color": "#00cc96"
         },
         "mode": "markers",
         "name": "4S8o5IUs0i",
         "showlegend": true,
         "subplot": "mapbox",
         "type": "scattermapbox"
        },
        {
         "hovertemplate": "User Code=WMbUHwqs8A<br>lat=%{lat}<br>lon=%{lon}<extra></extra>",
         "lat": [
          19.317459999999997
         ],
         "legendgroup": "WMbUHwqs8A",
         "lon": [
          -99.29194000000001
         ],
         "marker": {
          "color": "#ab63fa"
         },
         "mode": "markers",
         "name": "WMbUHwqs8A",
         "showlegend": true,
         "subplot": "mapbox",
         "type": "scattermapbox"
        },
        {
         "hovertemplate": "User Code=9J2FSBpuRL<br>lat=%{lat}<br>lon=%{lon}<extra></extra>",
         "lat": [
          19.3238
         ],
         "legendgroup": "9J2FSBpuRL",
         "lon": [
          -99.10681
         ],
         "marker": {
          "color": "#FFA15A"
         },
         "mode": "markers",
         "name": "9J2FSBpuRL",
         "showlegend": true,
         "subplot": "mapbox",
         "type": "scattermapbox"
        },
        {
         "hovertemplate": "User Code=ZfK4BtWk87<br>lat=%{lat}<br>lon=%{lon}<extra></extra>",
         "lat": [
          19.52665
         ],
         "legendgroup": "ZfK4BtWk87",
         "lon": [
          -99.06862000000001
         ],
         "marker": {
          "color": "#19d3f3"
         },
         "mode": "markers",
         "name": "ZfK4BtWk87",
         "showlegend": true,
         "subplot": "mapbox",
         "type": "scattermapbox"
        },
        {
         "hovertemplate": "User Code=zb2exHAwdJ<br>lat=%{lat}<br>lon=%{lon}<extra></extra>",
         "lat": [
          19.35678
         ],
         "legendgroup": "zb2exHAwdJ",
         "lon": [
          -99.24063999999998
         ],
         "marker": {
          "color": "#FF6692"
         },
         "mode": "markers",
         "name": "zb2exHAwdJ",
         "showlegend": true,
         "subplot": "mapbox",
         "type": "scattermapbox"
        },
        {
         "hovertemplate": "User Code=bCj2i5mq7V<br>lat=%{lat}<br>lon=%{lon}<extra></extra>",
         "lat": [
          19.31382
         ],
         "legendgroup": "bCj2i5mq7V",
         "lon": [
          -98.90496000000002
         ],
         "marker": {
          "color": "#B6E880"
         },
         "mode": "markers",
         "name": "bCj2i5mq7V",
         "showlegend": true,
         "subplot": "mapbox",
         "type": "scattermapbox"
        },
        {
         "hovertemplate": "User Code=6ubnZ5MSp7<br>lat=%{lat}<br>lon=%{lon}<extra></extra>",
         "lat": [
          19.44452
         ],
         "legendgroup": "6ubnZ5MSp7",
         "lon": [
          -99.13481999999999
         ],
         "marker": {
          "color": "#FF97FF"
         },
         "mode": "markers",
         "name": "6ubnZ5MSp7",
         "showlegend": true,
         "subplot": "mapbox",
         "type": "scattermapbox"
        },
        {
         "hovertemplate": "User Code=p2zDcaCBPJ<br>lat=%{lat}<br>lon=%{lon}<extra></extra>",
         "lat": [
          19.54353
         ],
         "legendgroup": "p2zDcaCBPJ",
         "lon": [
          -99.32046000000003
         ],
         "marker": {
          "color": "#FECB52"
         },
         "mode": "markers",
         "name": "p2zDcaCBPJ",
         "showlegend": true,
         "subplot": "mapbox",
         "type": "scattermapbox"
        },
        {
         "hovertemplate": "User Code=KuYgMB8j4n<br>lat=%{lat}<br>lon=%{lon}<extra></extra>",
         "lat": [
          19.44856
         ],
         "legendgroup": "KuYgMB8j4n",
         "lon": [
          -99.24835999999999
         ],
         "marker": {
          "color": "#636efa"
         },
         "mode": "markers",
         "name": "KuYgMB8j4n",
         "showlegend": true,
         "subplot": "mapbox",
         "type": "scattermapbox"
        },
        {
         "hovertemplate": "User Code=O4ZxnGJLf8<br>lat=%{lat}<br>lon=%{lon}<extra></extra>",
         "lat": [
          19.328590000000002
         ],
         "legendgroup": "O4ZxnGJLf8",
         "lon": [
          -99.11701
         ],
         "marker": {
          "color": "#EF553B"
         },
         "mode": "markers",
         "name": "O4ZxnGJLf8",
         "showlegend": true,
         "subplot": "mapbox",
         "type": "scattermapbox"
        },
        {
         "hovertemplate": "User Code=EXtylPK3e1<br>lat=%{lat}<br>lon=%{lon}<extra></extra>",
         "lat": [
          19.36919
         ],
         "legendgroup": "EXtylPK3e1",
         "lon": [
          -99.39166999999998
         ],
         "marker": {
          "color": "#00cc96"
         },
         "mode": "markers",
         "name": "EXtylPK3e1",
         "showlegend": true,
         "subplot": "mapbox",
         "type": "scattermapbox"
        },
        {
         "hovertemplate": "User Code=5LxDpRXiEb<br>lat=%{lat}<br>lon=%{lon}<extra></extra>",
         "lat": [
          19.464499999999997
         ],
         "legendgroup": "5LxDpRXiEb",
         "lon": [
          -98.94429000000002
         ],
         "marker": {
          "color": "#ab63fa"
         },
         "mode": "markers",
         "name": "5LxDpRXiEb",
         "showlegend": true,
         "subplot": "mapbox",
         "type": "scattermapbox"
        },
        {
         "hovertemplate": "User Code=IW0QylMdY3<br>lat=%{lat}<br>lon=%{lon}<extra></extra>",
         "lat": [
          19.43671
         ],
         "legendgroup": "IW0QylMdY3",
         "lon": [
          -99.09108000000003
         ],
         "marker": {
          "color": "#FFA15A"
         },
         "mode": "markers",
         "name": "IW0QylMdY3",
         "showlegend": true,
         "subplot": "mapbox",
         "type": "scattermapbox"
        },
        {
         "hovertemplate": "User Code=WknyC96bQK<br>lat=%{lat}<br>lon=%{lon}<extra></extra>",
         "lat": [
          19.02037
         ],
         "legendgroup": "WknyC96bQK",
         "lon": [
          -99.28874000000002
         ],
         "marker": {
          "color": "#19d3f3"
         },
         "mode": "markers",
         "name": "WknyC96bQK",
         "showlegend": true,
         "subplot": "mapbox",
         "type": "scattermapbox"
        },
        {
         "hovertemplate": "User Code=li9hLNPGxT<br>lat=%{lat}<br>lon=%{lon}<extra></extra>",
         "lat": [
          19.04439
         ],
         "legendgroup": "li9hLNPGxT",
         "lon": [
          -99.36802
         ],
         "marker": {
          "color": "#FF6692"
         },
         "mode": "markers",
         "name": "li9hLNPGxT",
         "showlegend": true,
         "subplot": "mapbox",
         "type": "scattermapbox"
        },
        {
         "hovertemplate": "User Code=RJByF3fYEV<br>lat=%{lat}<br>lon=%{lon}<extra></extra>",
         "lat": [
          19.13416
         ],
         "legendgroup": "RJByF3fYEV",
         "lon": [
          -99.37928999999997
         ],
         "marker": {
          "color": "#B6E880"
         },
         "mode": "markers",
         "name": "RJByF3fYEV",
         "showlegend": true,
         "subplot": "mapbox",
         "type": "scattermapbox"
        },
        {
         "hovertemplate": "User Code=TweckAXmN0<br>lat=%{lat}<br>lon=%{lon}<extra></extra>",
         "lat": [
          19.2525
         ],
         "legendgroup": "TweckAXmN0",
         "lon": [
          -99.21141999999998
         ],
         "marker": {
          "color": "#FF97FF"
         },
         "mode": "markers",
         "name": "TweckAXmN0",
         "showlegend": true,
         "subplot": "mapbox",
         "type": "scattermapbox"
        },
        {
         "hovertemplate": "User Code=frgtNuAijP<br>lat=%{lat}<br>lon=%{lon}<extra></extra>",
         "lat": [
          19.4528
         ],
         "legendgroup": "frgtNuAijP",
         "lon": [
          -99.03431999999998
         ],
         "marker": {
          "color": "#FECB52"
         },
         "mode": "markers",
         "name": "frgtNuAijP",
         "showlegend": true,
         "subplot": "mapbox",
         "type": "scattermapbox"
        },
        {
         "hovertemplate": "User Code=UKAXLuPygY<br>lat=%{lat}<br>lon=%{lon}<extra></extra>",
         "lat": [
          19.18327
         ],
         "legendgroup": "UKAXLuPygY",
         "lon": [
          -99.03649000000001
         ],
         "marker": {
          "color": "#636efa"
         },
         "mode": "markers",
         "name": "UKAXLuPygY",
         "showlegend": true,
         "subplot": "mapbox",
         "type": "scattermapbox"
        },
        {
         "hovertemplate": "User Code=nqHEmxbgGt<br>lat=%{lat}<br>lon=%{lon}<extra></extra>",
         "lat": [
          19.06771
         ],
         "legendgroup": "nqHEmxbgGt",
         "lon": [
          -99.17424
         ],
         "marker": {
          "color": "#EF553B"
         },
         "mode": "markers",
         "name": "nqHEmxbgGt",
         "showlegend": true,
         "subplot": "mapbox",
         "type": "scattermapbox"
        },
        {
         "hovertemplate": "User Code=8kyQR9EmAD<br>lat=%{lat}<br>lon=%{lon}<extra></extra>",
         "lat": [
          19.1941
         ],
         "legendgroup": "8kyQR9EmAD",
         "lon": [
          -98.94884000000002
         ],
         "marker": {
          "color": "#00cc96"
         },
         "mode": "markers",
         "name": "8kyQR9EmAD",
         "showlegend": true,
         "subplot": "mapbox",
         "type": "scattermapbox"
        },
        {
         "hovertemplate": "User Code=DfqhItind1<br>lat=%{lat}<br>lon=%{lon}<extra></extra>",
         "lat": [
          19.29158
         ],
         "legendgroup": "DfqhItind1",
         "lon": [
          -99.13913000000002
         ],
         "marker": {
          "color": "#ab63fa"
         },
         "mode": "markers",
         "name": "DfqhItind1",
         "showlegend": true,
         "subplot": "mapbox",
         "type": "scattermapbox"
        },
        {
         "hovertemplate": "User Code=4kFpH6R7OX<br>lat=%{lat}<br>lon=%{lon}<extra></extra>",
         "lat": [
          19.26202
         ],
         "legendgroup": "4kFpH6R7OX",
         "lon": [
          -99.37889000000001
         ],
         "marker": {
          "color": "#FFA15A"
         },
         "mode": "markers",
         "name": "4kFpH6R7OX",
         "showlegend": true,
         "subplot": "mapbox",
         "type": "scattermapbox"
        },
        {
         "hovertemplate": "User Code=aFoLbcAYxP<br>lat=%{lat}<br>lon=%{lon}<extra></extra>",
         "lat": [
          19.29793
         ],
         "legendgroup": "aFoLbcAYxP",
         "lon": [
          -99.13941
         ],
         "marker": {
          "color": "#19d3f3"
         },
         "mode": "markers",
         "name": "aFoLbcAYxP",
         "showlegend": true,
         "subplot": "mapbox",
         "type": "scattermapbox"
        },
        {
         "hovertemplate": "User Code=JnDs4IWwxa<br>lat=%{lat}<br>lon=%{lon}<extra></extra>",
         "lat": [
          19.13445
         ],
         "legendgroup": "JnDs4IWwxa",
         "lon": [
          -99.11673000000002
         ],
         "marker": {
          "color": "#FF6692"
         },
         "mode": "markers",
         "name": "JnDs4IWwxa",
         "showlegend": true,
         "subplot": "mapbox",
         "type": "scattermapbox"
        },
        {
         "hovertemplate": "User Code=z4wVTvM83o<br>lat=%{lat}<br>lon=%{lon}<extra></extra>",
         "lat": [
          19.07525
         ],
         "legendgroup": "z4wVTvM83o",
         "lon": [
          -99.30480999999997
         ],
         "marker": {
          "color": "#B6E880"
         },
         "mode": "markers",
         "name": "z4wVTvM83o",
         "showlegend": true,
         "subplot": "mapbox",
         "type": "scattermapbox"
        },
        {
         "hovertemplate": "User Code=seYfAQRn1d<br>lat=%{lat}<br>lon=%{lon}<extra></extra>",
         "lat": [
          19.41372
         ],
         "legendgroup": "seYfAQRn1d",
         "lon": [
          -99.25054
         ],
         "marker": {
          "color": "#FF97FF"
         },
         "mode": "markers",
         "name": "seYfAQRn1d",
         "showlegend": true,
         "subplot": "mapbox",
         "type": "scattermapbox"
        },
        {
         "hovertemplate": "User Code=CTAbwfP3LI<br>lat=%{lat}<br>lon=%{lon}<extra></extra>",
         "lat": [
          19.58097
         ],
         "legendgroup": "CTAbwfP3LI",
         "lon": [
          -99.12347
         ],
         "marker": {
          "color": "#FECB52"
         },
         "mode": "markers",
         "name": "CTAbwfP3LI",
         "showlegend": true,
         "subplot": "mapbox",
         "type": "scattermapbox"
        },
        {
         "hovertemplate": "User Code=A3hG1xmnZc<br>lat=%{lat}<br>lon=%{lon}<extra></extra>",
         "lat": [
          19.39737
         ],
         "legendgroup": "A3hG1xmnZc",
         "lon": [
          -99.31772999999998
         ],
         "marker": {
          "color": "#636efa"
         },
         "mode": "markers",
         "name": "A3hG1xmnZc",
         "showlegend": true,
         "subplot": "mapbox",
         "type": "scattermapbox"
        },
        {
         "hovertemplate": "User Code=nBzYwRMed2<br>lat=%{lat}<br>lon=%{lon}<extra></extra>",
         "lat": [
          19.37452
         ],
         "legendgroup": "nBzYwRMed2",
         "lon": [
          -99.22402
         ],
         "marker": {
          "color": "#EF553B"
         },
         "mode": "markers",
         "name": "nBzYwRMed2",
         "showlegend": true,
         "subplot": "mapbox",
         "type": "scattermapbox"
        },
        {
         "hovertemplate": "User Code=67QDL5Z1ur<br>lat=%{lat}<br>lon=%{lon}<extra></extra>",
         "lat": [
          19.32849
         ],
         "legendgroup": "67QDL5Z1ur",
         "lon": [
          -99.27654000000001
         ],
         "marker": {
          "color": "#00cc96"
         },
         "mode": "markers",
         "name": "67QDL5Z1ur",
         "showlegend": true,
         "subplot": "mapbox",
         "type": "scattermapbox"
        },
        {
         "hovertemplate": "User Code=vTIQqf0Rxo<br>lat=%{lat}<br>lon=%{lon}<extra></extra>",
         "lat": [
          19.03681
         ],
         "legendgroup": "vTIQqf0Rxo",
         "lon": [
          -98.94252
         ],
         "marker": {
          "color": "#ab63fa"
         },
         "mode": "markers",
         "name": "vTIQqf0Rxo",
         "showlegend": true,
         "subplot": "mapbox",
         "type": "scattermapbox"
        },
        {
         "hovertemplate": "User Code=4MlCdrPkj5<br>lat=%{lat}<br>lon=%{lon}<extra></extra>",
         "lat": [
          19.25522
         ],
         "legendgroup": "4MlCdrPkj5",
         "lon": [
          -99.04710999999998
         ],
         "marker": {
          "color": "#FFA15A"
         },
         "mode": "markers",
         "name": "4MlCdrPkj5",
         "showlegend": true,
         "subplot": "mapbox",
         "type": "scattermapbox"
        },
        {
         "hovertemplate": "User Code=3pL9n15P0K<br>lat=%{lat}<br>lon=%{lon}<extra></extra>",
         "lat": [
          19.02938
         ],
         "legendgroup": "3pL9n15P0K",
         "lon": [
          -98.91422999999998
         ],
         "marker": {
          "color": "#19d3f3"
         },
         "mode": "markers",
         "name": "3pL9n15P0K",
         "showlegend": true,
         "subplot": "mapbox",
         "type": "scattermapbox"
        },
        {
         "hovertemplate": "User Code=ofDWGiTsHp<br>lat=%{lat}<br>lon=%{lon}<extra></extra>",
         "lat": [
          19.44625
         ],
         "legendgroup": "ofDWGiTsHp",
         "lon": [
          -99.28133000000003
         ],
         "marker": {
          "color": "#FF6692"
         },
         "mode": "markers",
         "name": "ofDWGiTsHp",
         "showlegend": true,
         "subplot": "mapbox",
         "type": "scattermapbox"
        },
        {
         "hovertemplate": "User Code=Gg4sHV3oCP<br>lat=%{lat}<br>lon=%{lon}<extra></extra>",
         "lat": [
          19.14006
         ],
         "legendgroup": "Gg4sHV3oCP",
         "lon": [
          -99.38938000000002
         ],
         "marker": {
          "color": "#B6E880"
         },
         "mode": "markers",
         "name": "Gg4sHV3oCP",
         "showlegend": true,
         "subplot": "mapbox",
         "type": "scattermapbox"
        },
        {
         "hovertemplate": "User Code=lK8VkEfS90<br>lat=%{lat}<br>lon=%{lon}<extra></extra>",
         "lat": [
          19.54122
         ],
         "legendgroup": "lK8VkEfS90",
         "lon": [
          -99.28091999999998
         ],
         "marker": {
          "color": "#FF97FF"
         },
         "mode": "markers",
         "name": "lK8VkEfS90",
         "showlegend": true,
         "subplot": "mapbox",
         "type": "scattermapbox"
        },
        {
         "hovertemplate": "User Code=LWlCBa89yi<br>lat=%{lat}<br>lon=%{lon}<extra></extra>",
         "lat": [
          19.4125
         ],
         "legendgroup": "LWlCBa89yi",
         "lon": [
          -99.19659000000001
         ],
         "marker": {
          "color": "#FECB52"
         },
         "mode": "markers",
         "name": "LWlCBa89yi",
         "showlegend": true,
         "subplot": "mapbox",
         "type": "scattermapbox"
        },
        {
         "hovertemplate": "User Code=5iWKaeIEXx<br>lat=%{lat}<br>lon=%{lon}<extra></extra>",
         "lat": [
          19.23948
         ],
         "legendgroup": "5iWKaeIEXx",
         "lon": [
          -99.07071000000002
         ],
         "marker": {
          "color": "#636efa"
         },
         "mode": "markers",
         "name": "5iWKaeIEXx",
         "showlegend": true,
         "subplot": "mapbox",
         "type": "scattermapbox"
        },
        {
         "hovertemplate": "User Code=N1koLeacsZ<br>lat=%{lat}<br>lon=%{lon}<extra></extra>",
         "lat": [
          19.56802
         ],
         "legendgroup": "N1koLeacsZ",
         "lon": [
          -99.17164000000002
         ],
         "marker": {
          "color": "#EF553B"
         },
         "mode": "markers",
         "name": "N1koLeacsZ",
         "showlegend": true,
         "subplot": "mapbox",
         "type": "scattermapbox"
        },
        {
         "hovertemplate": "User Code=bSm10JxTvV<br>lat=%{lat}<br>lon=%{lon}<extra></extra>",
         "lat": [
          19.53244
         ],
         "legendgroup": "bSm10JxTvV",
         "lon": [
          -99.09404999999998
         ],
         "marker": {
          "color": "#00cc96"
         },
         "mode": "markers",
         "name": "bSm10JxTvV",
         "showlegend": true,
         "subplot": "mapbox",
         "type": "scattermapbox"
        },
        {
         "hovertemplate": "User Code=NJjdzif6yG<br>lat=%{lat}<br>lon=%{lon}<extra></extra>",
         "lat": [
          19.43883
         ],
         "legendgroup": "NJjdzif6yG",
         "lon": [
          -99.12288000000001
         ],
         "marker": {
          "color": "#ab63fa"
         },
         "mode": "markers",
         "name": "NJjdzif6yG",
         "showlegend": true,
         "subplot": "mapbox",
         "type": "scattermapbox"
        },
        {
         "hovertemplate": "User Code=fyjaDrRAiv<br>lat=%{lat}<br>lon=%{lon}<extra></extra>",
         "lat": [
          19.495499999999996
         ],
         "legendgroup": "fyjaDrRAiv",
         "lon": [
          -99.24475000000001
         ],
         "marker": {
          "color": "#FFA15A"
         },
         "mode": "markers",
         "name": "fyjaDrRAiv",
         "showlegend": true,
         "subplot": "mapbox",
         "type": "scattermapbox"
        },
        {
         "hovertemplate": "User Code=Pq2TAyZ8dn<br>lat=%{lat}<br>lon=%{lon}<extra></extra>",
         "lat": [
          19.38273
         ],
         "legendgroup": "Pq2TAyZ8dn",
         "lon": [
          -99.26198
         ],
         "marker": {
          "color": "#19d3f3"
         },
         "mode": "markers",
         "name": "Pq2TAyZ8dn",
         "showlegend": true,
         "subplot": "mapbox",
         "type": "scattermapbox"
        },
        {
         "hovertemplate": "User Code=z89uoT41Fc<br>lat=%{lat}<br>lon=%{lon}<extra></extra>",
         "lat": [
          19.484689999999997
         ],
         "legendgroup": "z89uoT41Fc",
         "lon": [
          -99.35361
         ],
         "marker": {
          "color": "#FF6692"
         },
         "mode": "markers",
         "name": "z89uoT41Fc",
         "showlegend": true,
         "subplot": "mapbox",
         "type": "scattermapbox"
        },
        {
         "hovertemplate": "User Code=UvDuc0tf1F<br>lat=%{lat}<br>lon=%{lon}<extra></extra>",
         "lat": [
          19.329650000000004
         ],
         "legendgroup": "UvDuc0tf1F",
         "lon": [
          -98.97730999999999
         ],
         "marker": {
          "color": "#B6E880"
         },
         "mode": "markers",
         "name": "UvDuc0tf1F",
         "showlegend": true,
         "subplot": "mapbox",
         "type": "scattermapbox"
        },
        {
         "hovertemplate": "User Code=pvlJPyocrG<br>lat=%{lat}<br>lon=%{lon}<extra></extra>",
         "lat": [
          19.318459999999998
         ],
         "legendgroup": "pvlJPyocrG",
         "lon": [
          -98.97471999999999
         ],
         "marker": {
          "color": "#FF97FF"
         },
         "mode": "markers",
         "name": "pvlJPyocrG",
         "showlegend": true,
         "subplot": "mapbox",
         "type": "scattermapbox"
        },
        {
         "hovertemplate": "User Code=DnER6dwfvt<br>lat=%{lat}<br>lon=%{lon}<extra></extra>",
         "lat": [
          19.03377
         ],
         "legendgroup": "DnER6dwfvt",
         "lon": [
          -99.25549999999998
         ],
         "marker": {
          "color": "#FECB52"
         },
         "mode": "markers",
         "name": "DnER6dwfvt",
         "showlegend": true,
         "subplot": "mapbox",
         "type": "scattermapbox"
        },
        {
         "hovertemplate": "User Code=KObRdLfiX7<br>lat=%{lat}<br>lon=%{lon}<extra></extra>",
         "lat": [
          19.39335
         ],
         "legendgroup": "KObRdLfiX7",
         "lon": [
          -98.90296000000001
         ],
         "marker": {
          "color": "#636efa"
         },
         "mode": "markers",
         "name": "KObRdLfiX7",
         "showlegend": true,
         "subplot": "mapbox",
         "type": "scattermapbox"
        },
        {
         "hovertemplate": "User Code=cR5ufn6YAH<br>lat=%{lat}<br>lon=%{lon}<extra></extra>",
         "lat": [
          19.20773
         ],
         "legendgroup": "cR5ufn6YAH",
         "lon": [
          -99.29808000000003
         ],
         "marker": {
          "color": "#EF553B"
         },
         "mode": "markers",
         "name": "cR5ufn6YAH",
         "showlegend": true,
         "subplot": "mapbox",
         "type": "scattermapbox"
        },
        {
         "hovertemplate": "User Code=ojQVIi68xy<br>lat=%{lat}<br>lon=%{lon}<extra></extra>",
         "lat": [
          19.04106
         ],
         "legendgroup": "ojQVIi68xy",
         "lon": [
          -99.21275000000003
         ],
         "marker": {
          "color": "#00cc96"
         },
         "mode": "markers",
         "name": "ojQVIi68xy",
         "showlegend": true,
         "subplot": "mapbox",
         "type": "scattermapbox"
        },
        {
         "hovertemplate": "User Code=p5EDHSmkZo<br>lat=%{lat}<br>lon=%{lon}<extra></extra>",
         "lat": [
          19.478429999999996
         ],
         "legendgroup": "p5EDHSmkZo",
         "lon": [
          -99.33098000000001
         ],
         "marker": {
          "color": "#ab63fa"
         },
         "mode": "markers",
         "name": "p5EDHSmkZo",
         "showlegend": true,
         "subplot": "mapbox",
         "type": "scattermapbox"
        },
        {
         "hovertemplate": "User Code=QcT3PFYvJy<br>lat=%{lat}<br>lon=%{lon}<extra></extra>",
         "lat": [
          19.069809999999997
         ],
         "legendgroup": "QcT3PFYvJy",
         "lon": [
          -99.02289000000002
         ],
         "marker": {
          "color": "#FFA15A"
         },
         "mode": "markers",
         "name": "QcT3PFYvJy",
         "showlegend": true,
         "subplot": "mapbox",
         "type": "scattermapbox"
        },
        {
         "hovertemplate": "User Code=bV3zXHioky<br>lat=%{lat}<br>lon=%{lon}<extra></extra>",
         "lat": [
          19.39789
         ],
         "legendgroup": "bV3zXHioky",
         "lon": [
          -99.25972000000002
         ],
         "marker": {
          "color": "#19d3f3"
         },
         "mode": "markers",
         "name": "bV3zXHioky",
         "showlegend": true,
         "subplot": "mapbox",
         "type": "scattermapbox"
        },
        {
         "hovertemplate": "User Code=iYef5V7LIP<br>lat=%{lat}<br>lon=%{lon}<extra></extra>",
         "lat": [
          19.5852
         ],
         "legendgroup": "iYef5V7LIP",
         "lon": [
          -99.39609999999999
         ],
         "marker": {
          "color": "#FF6692"
         },
         "mode": "markers",
         "name": "iYef5V7LIP",
         "showlegend": true,
         "subplot": "mapbox",
         "type": "scattermapbox"
        },
        {
         "hovertemplate": "User Code=c8S6Q2ivVG<br>lat=%{lat}<br>lon=%{lon}<extra></extra>",
         "lat": [
          19.097679999999997
         ],
         "legendgroup": "c8S6Q2ivVG",
         "lon": [
          -99.35225000000003
         ],
         "marker": {
          "color": "#B6E880"
         },
         "mode": "markers",
         "name": "c8S6Q2ivVG",
         "showlegend": true,
         "subplot": "mapbox",
         "type": "scattermapbox"
        },
        {
         "hovertemplate": "User Code=zVCdgiutEj<br>lat=%{lat}<br>lon=%{lon}<extra></extra>",
         "lat": [
          19.46842
         ],
         "legendgroup": "zVCdgiutEj",
         "lon": [
          -99.31412
         ],
         "marker": {
          "color": "#FF97FF"
         },
         "mode": "markers",
         "name": "zVCdgiutEj",
         "showlegend": true,
         "subplot": "mapbox",
         "type": "scattermapbox"
        },
        {
         "hovertemplate": "User Code=EMGq9TpmkL<br>lat=%{lat}<br>lon=%{lon}<extra></extra>",
         "lat": [
          19.41549
         ],
         "legendgroup": "EMGq9TpmkL",
         "lon": [
          -99.01224000000002
         ],
         "marker": {
          "color": "#FECB52"
         },
         "mode": "markers",
         "name": "EMGq9TpmkL",
         "showlegend": true,
         "subplot": "mapbox",
         "type": "scattermapbox"
        },
        {
         "hovertemplate": "User Code=90hB8aJimn<br>lat=%{lat}<br>lon=%{lon}<extra></extra>",
         "lat": [
          19.388550000000002
         ],
         "legendgroup": "90hB8aJimn",
         "lon": [
          -99.08051999999998
         ],
         "marker": {
          "color": "#636efa"
         },
         "mode": "markers",
         "name": "90hB8aJimn",
         "showlegend": true,
         "subplot": "mapbox",
         "type": "scattermapbox"
        },
        {
         "hovertemplate": "User Code=Lx2PQU9MDO<br>lat=%{lat}<br>lon=%{lon}<extra></extra>",
         "lat": [
          19.59986
         ],
         "legendgroup": "Lx2PQU9MDO",
         "lon": [
          -99.19932
         ],
         "marker": {
          "color": "#EF553B"
         },
         "mode": "markers",
         "name": "Lx2PQU9MDO",
         "showlegend": true,
         "subplot": "mapbox",
         "type": "scattermapbox"
        },
        {
         "hovertemplate": "User Code=BHNp4fRUcs<br>lat=%{lat}<br>lon=%{lon}<extra></extra>",
         "lat": [
          19.56351
         ],
         "legendgroup": "BHNp4fRUcs",
         "lon": [
          -99.19321000000002
         ],
         "marker": {
          "color": "#00cc96"
         },
         "mode": "markers",
         "name": "BHNp4fRUcs",
         "showlegend": true,
         "subplot": "mapbox",
         "type": "scattermapbox"
        },
        {
         "hovertemplate": "User Code=EKXeUAiruO<br>lat=%{lat}<br>lon=%{lon}<extra></extra>",
         "lat": [
          19.46621
         ],
         "legendgroup": "EKXeUAiruO",
         "lon": [
          -98.93842000000001
         ],
         "marker": {
          "color": "#ab63fa"
         },
         "mode": "markers",
         "name": "EKXeUAiruO",
         "showlegend": true,
         "subplot": "mapbox",
         "type": "scattermapbox"
        },
        {
         "hovertemplate": "User Code=mTiv6uMLeH<br>lat=%{lat}<br>lon=%{lon}<extra></extra>",
         "lat": [
          19.18552
         ],
         "legendgroup": "mTiv6uMLeH",
         "lon": [
          -99.05813
         ],
         "marker": {
          "color": "#FFA15A"
         },
         "mode": "markers",
         "name": "mTiv6uMLeH",
         "showlegend": true,
         "subplot": "mapbox",
         "type": "scattermapbox"
        },
        {
         "hovertemplate": "User Code=DlX2RQxdVy<br>lat=%{lat}<br>lon=%{lon}<extra></extra>",
         "lat": [
          19.008920000000003
         ],
         "legendgroup": "DlX2RQxdVy",
         "lon": [
          -98.91771
         ],
         "marker": {
          "color": "#19d3f3"
         },
         "mode": "markers",
         "name": "DlX2RQxdVy",
         "showlegend": true,
         "subplot": "mapbox",
         "type": "scattermapbox"
        },
        {
         "hovertemplate": "User Code=GtbVDXZKHc<br>lat=%{lat}<br>lon=%{lon}<extra></extra>",
         "lat": [
          19.43929
         ],
         "legendgroup": "GtbVDXZKHc",
         "lon": [
          -99.23081000000002
         ],
         "marker": {
          "color": "#FF6692"
         },
         "mode": "markers",
         "name": "GtbVDXZKHc",
         "showlegend": true,
         "subplot": "mapbox",
         "type": "scattermapbox"
        },
        {
         "hovertemplate": "User Code=XwFUvpD3iM<br>lat=%{lat}<br>lon=%{lon}<extra></extra>",
         "lat": [
          19.05878
         ],
         "legendgroup": "XwFUvpD3iM",
         "lon": [
          -99.39933000000002
         ],
         "marker": {
          "color": "#B6E880"
         },
         "mode": "markers",
         "name": "XwFUvpD3iM",
         "showlegend": true,
         "subplot": "mapbox",
         "type": "scattermapbox"
        },
        {
         "hovertemplate": "User Code=oCFjnGBJP0<br>lat=%{lat}<br>lon=%{lon}<extra></extra>",
         "lat": [
          19.48715
         ],
         "legendgroup": "oCFjnGBJP0",
         "lon": [
          -98.90037000000001
         ],
         "marker": {
          "color": "#FF97FF"
         },
         "mode": "markers",
         "name": "oCFjnGBJP0",
         "showlegend": true,
         "subplot": "mapbox",
         "type": "scattermapbox"
        },
        {
         "hovertemplate": "User Code=f9T3cdyHXS<br>lat=%{lat}<br>lon=%{lon}<extra></extra>",
         "lat": [
          19.5737
         ],
         "legendgroup": "f9T3cdyHXS",
         "lon": [
          -99.36646000000002
         ],
         "marker": {
          "color": "#FECB52"
         },
         "mode": "markers",
         "name": "f9T3cdyHXS",
         "showlegend": true,
         "subplot": "mapbox",
         "type": "scattermapbox"
        },
        {
         "hovertemplate": "User Code=FtmzopfIZD<br>lat=%{lat}<br>lon=%{lon}<extra></extra>",
         "lat": [
          19.5833
         ],
         "legendgroup": "FtmzopfIZD",
         "lon": [
          -99.24626
         ],
         "marker": {
          "color": "#636efa"
         },
         "mode": "markers",
         "name": "FtmzopfIZD",
         "showlegend": true,
         "subplot": "mapbox",
         "type": "scattermapbox"
        },
        {
         "hovertemplate": "User Code=ToLSPKY8pv<br>lat=%{lat}<br>lon=%{lon}<extra></extra>",
         "lat": [
          19.03587
         ],
         "legendgroup": "ToLSPKY8pv",
         "lon": [
          -99.11090000000002
         ],
         "marker": {
          "color": "#EF553B"
         },
         "mode": "markers",
         "name": "ToLSPKY8pv",
         "showlegend": true,
         "subplot": "mapbox",
         "type": "scattermapbox"
        },
        {
         "hovertemplate": "User Code=Ac4ZpRfi9K<br>lat=%{lat}<br>lon=%{lon}<extra></extra>",
         "lat": [
          19.41374
         ],
         "legendgroup": "Ac4ZpRfi9K",
         "lon": [
          -99.30594000000002
         ],
         "marker": {
          "color": "#00cc96"
         },
         "mode": "markers",
         "name": "Ac4ZpRfi9K",
         "showlegend": true,
         "subplot": "mapbox",
         "type": "scattermapbox"
        },
        {
         "hovertemplate": "User Code=B1AJ3URGC9<br>lat=%{lat}<br>lon=%{lon}<extra></extra>",
         "lat": [
          19.36954
         ],
         "legendgroup": "B1AJ3URGC9",
         "lon": [
          -98.94603999999998
         ],
         "marker": {
          "color": "#ab63fa"
         },
         "mode": "markers",
         "name": "B1AJ3URGC9",
         "showlegend": true,
         "subplot": "mapbox",
         "type": "scattermapbox"
        },
        {
         "hovertemplate": "User Code=7ceuL3xM9w<br>lat=%{lat}<br>lon=%{lon}<extra></extra>",
         "lat": [
          19.58641
         ],
         "legendgroup": "7ceuL3xM9w",
         "lon": [
          -99.24232999999998
         ],
         "marker": {
          "color": "#FFA15A"
         },
         "mode": "markers",
         "name": "7ceuL3xM9w",
         "showlegend": true,
         "subplot": "mapbox",
         "type": "scattermapbox"
        },
        {
         "hovertemplate": "User Code=0UySmxi9DK<br>lat=%{lat}<br>lon=%{lon}<extra></extra>",
         "lat": [
          19.58746
         ],
         "legendgroup": "0UySmxi9DK",
         "lon": [
          -99.19772
         ],
         "marker": {
          "color": "#19d3f3"
         },
         "mode": "markers",
         "name": "0UySmxi9DK",
         "showlegend": true,
         "subplot": "mapbox",
         "type": "scattermapbox"
        },
        {
         "hovertemplate": "User Code=CIsm0P9zbh<br>lat=%{lat}<br>lon=%{lon}<extra></extra>",
         "lat": [
          19.030849999999997
         ],
         "legendgroup": "CIsm0P9zbh",
         "lon": [
          -99.16182000000003
         ],
         "marker": {
          "color": "#FF6692"
         },
         "mode": "markers",
         "name": "CIsm0P9zbh",
         "showlegend": true,
         "subplot": "mapbox",
         "type": "scattermapbox"
        },
        {
         "hovertemplate": "User Code=CiGpu90dM3<br>lat=%{lat}<br>lon=%{lon}<extra></extra>",
         "lat": [
          19.12236
         ],
         "legendgroup": "CiGpu90dM3",
         "lon": [
          -99.18462999999997
         ],
         "marker": {
          "color": "#B6E880"
         },
         "mode": "markers",
         "name": "CiGpu90dM3",
         "showlegend": true,
         "subplot": "mapbox",
         "type": "scattermapbox"
        },
        {
         "hovertemplate": "User Code=mHvYoIJbwk<br>lat=%{lat}<br>lon=%{lon}<extra></extra>",
         "lat": [
          19.2615
         ],
         "legendgroup": "mHvYoIJbwk",
         "lon": [
          -99.39089000000001
         ],
         "marker": {
          "color": "#FF97FF"
         },
         "mode": "markers",
         "name": "mHvYoIJbwk",
         "showlegend": true,
         "subplot": "mapbox",
         "type": "scattermapbox"
        },
        {
         "hovertemplate": "User Code=0mjeO9vbUf<br>lat=%{lat}<br>lon=%{lon}<extra></extra>",
         "lat": [
          19.24154
         ],
         "legendgroup": "0mjeO9vbUf",
         "lon": [
          -99.38828999999998
         ],
         "marker": {
          "color": "#FECB52"
         },
         "mode": "markers",
         "name": "0mjeO9vbUf",
         "showlegend": true,
         "subplot": "mapbox",
         "type": "scattermapbox"
        },
        {
         "hovertemplate": "User Code=aMVLzX2ZDO<br>lat=%{lat}<br>lon=%{lon}<extra></extra>",
         "lat": [
          19.135239999999996
         ],
         "legendgroup": "aMVLzX2ZDO",
         "lon": [
          -98.95076
         ],
         "marker": {
          "color": "#636efa"
         },
         "mode": "markers",
         "name": "aMVLzX2ZDO",
         "showlegend": true,
         "subplot": "mapbox",
         "type": "scattermapbox"
        },
        {
         "hovertemplate": "User Code=QKIEMnszHf<br>lat=%{lat}<br>lon=%{lon}<extra></extra>",
         "lat": [
          19.43391
         ],
         "legendgroup": "QKIEMnszHf",
         "lon": [
          -99.25134000000003
         ],
         "marker": {
          "color": "#EF553B"
         },
         "mode": "markers",
         "name": "QKIEMnszHf",
         "showlegend": true,
         "subplot": "mapbox",
         "type": "scattermapbox"
        },
        {
         "hovertemplate": "User Code=1CQnm7g5NR<br>lat=%{lat}<br>lon=%{lon}<extra></extra>",
         "lat": [
          19.10272
         ],
         "legendgroup": "1CQnm7g5NR",
         "lon": [
          -99.20323000000002
         ],
         "marker": {
          "color": "#00cc96"
         },
         "mode": "markers",
         "name": "1CQnm7g5NR",
         "showlegend": true,
         "subplot": "mapbox",
         "type": "scattermapbox"
        },
        {
         "hovertemplate": "User Code=PAqtgl7LQu<br>lat=%{lat}<br>lon=%{lon}<extra></extra>",
         "lat": [
          19.23766
         ],
         "legendgroup": "PAqtgl7LQu",
         "lon": [
          -99.16196000000002
         ],
         "marker": {
          "color": "#ab63fa"
         },
         "mode": "markers",
         "name": "PAqtgl7LQu",
         "showlegend": true,
         "subplot": "mapbox",
         "type": "scattermapbox"
        },
        {
         "hovertemplate": "User Code=Mj2scJv1Re<br>lat=%{lat}<br>lon=%{lon}<extra></extra>",
         "lat": [
          19.369569999999996
         ],
         "legendgroup": "Mj2scJv1Re",
         "lon": [
          -99.34208999999998
         ],
         "marker": {
          "color": "#FFA15A"
         },
         "mode": "markers",
         "name": "Mj2scJv1Re",
         "showlegend": true,
         "subplot": "mapbox",
         "type": "scattermapbox"
        },
        {
         "hovertemplate": "User Code=IjXqB4TVeM<br>lat=%{lat}<br>lon=%{lon}<extra></extra>",
         "lat": [
          19.22508
         ],
         "legendgroup": "IjXqB4TVeM",
         "lon": [
          -99.24032999999997
         ],
         "marker": {
          "color": "#19d3f3"
         },
         "mode": "markers",
         "name": "IjXqB4TVeM",
         "showlegend": true,
         "subplot": "mapbox",
         "type": "scattermapbox"
        },
        {
         "hovertemplate": "User Code=s2n4HabiL5<br>lat=%{lat}<br>lon=%{lon}<extra></extra>",
         "lat": [
          19.196239999999996
         ],
         "legendgroup": "s2n4HabiL5",
         "lon": [
          -98.91048999999998
         ],
         "marker": {
          "color": "#FF6692"
         },
         "mode": "markers",
         "name": "s2n4HabiL5",
         "showlegend": true,
         "subplot": "mapbox",
         "type": "scattermapbox"
        },
        {
         "hovertemplate": "User Code=jWKblhQxHp<br>lat=%{lat}<br>lon=%{lon}<extra></extra>",
         "lat": [
          19.20998
         ],
         "legendgroup": "jWKblhQxHp",
         "lon": [
          -99.31948
         ],
         "marker": {
          "color": "#B6E880"
         },
         "mode": "markers",
         "name": "jWKblhQxHp",
         "showlegend": true,
         "subplot": "mapbox",
         "type": "scattermapbox"
        },
        {
         "hovertemplate": "User Code=gECfHipAO9<br>lat=%{lat}<br>lon=%{lon}<extra></extra>",
         "lat": [
          19.21724
         ],
         "legendgroup": "gECfHipAO9",
         "lon": [
          -98.97387000000003
         ],
         "marker": {
          "color": "#FF97FF"
         },
         "mode": "markers",
         "name": "gECfHipAO9",
         "showlegend": true,
         "subplot": "mapbox",
         "type": "scattermapbox"
        },
        {
         "hovertemplate": "User Code=wBX0spGS6M<br>lat=%{lat}<br>lon=%{lon}<extra></extra>",
         "lat": [
          19.30459
         ],
         "legendgroup": "wBX0spGS6M",
         "lon": [
          -99.34251
         ],
         "marker": {
          "color": "#FECB52"
         },
         "mode": "markers",
         "name": "wBX0spGS6M",
         "showlegend": true,
         "subplot": "mapbox",
         "type": "scattermapbox"
        },
        {
         "hovertemplate": "User Code=3s6HdTm1Lw<br>lat=%{lat}<br>lon=%{lon}<extra></extra>",
         "lat": [
          19.308460000000004
         ],
         "legendgroup": "3s6HdTm1Lw",
         "lon": [
          -99.15957000000003
         ],
         "marker": {
          "color": "#636efa"
         },
         "mode": "markers",
         "name": "3s6HdTm1Lw",
         "showlegend": true,
         "subplot": "mapbox",
         "type": "scattermapbox"
        },
        {
         "hovertemplate": "User Code=Ff41ySoOtm<br>lat=%{lat}<br>lon=%{lon}<extra></extra>",
         "lat": [
          19.15184
         ],
         "legendgroup": "Ff41ySoOtm",
         "lon": [
          -99.30660999999998
         ],
         "marker": {
          "color": "#EF553B"
         },
         "mode": "markers",
         "name": "Ff41ySoOtm",
         "showlegend": true,
         "subplot": "mapbox",
         "type": "scattermapbox"
        },
        {
         "hovertemplate": "User Code=yctriHZDwJ<br>lat=%{lat}<br>lon=%{lon}<extra></extra>",
         "lat": [
          19.20439
         ],
         "legendgroup": "yctriHZDwJ",
         "lon": [
          -99.05099999999999
         ],
         "marker": {
          "color": "#00cc96"
         },
         "mode": "markers",
         "name": "yctriHZDwJ",
         "showlegend": true,
         "subplot": "mapbox",
         "type": "scattermapbox"
        },
        {
         "hovertemplate": "User Code=5vFUXIRdY8<br>lat=%{lat}<br>lon=%{lon}<extra></extra>",
         "lat": [
          19.13399
         ],
         "legendgroup": "5vFUXIRdY8",
         "lon": [
          -99.14663999999999
         ],
         "marker": {
          "color": "#ab63fa"
         },
         "mode": "markers",
         "name": "5vFUXIRdY8",
         "showlegend": true,
         "subplot": "mapbox",
         "type": "scattermapbox"
        },
        {
         "hovertemplate": "User Code=EQCbpHTfIi<br>lat=%{lat}<br>lon=%{lon}<extra></extra>",
         "lat": [
          19.20431
         ],
         "legendgroup": "EQCbpHTfIi",
         "lon": [
          -99.28627
         ],
         "marker": {
          "color": "#FFA15A"
         },
         "mode": "markers",
         "name": "EQCbpHTfIi",
         "showlegend": true,
         "subplot": "mapbox",
         "type": "scattermapbox"
        },
        {
         "hovertemplate": "User Code=gSULYtl28v<br>lat=%{lat}<br>lon=%{lon}<extra></extra>",
         "lat": [
          19.46997
         ],
         "legendgroup": "gSULYtl28v",
         "lon": [
          -99.00063
         ],
         "marker": {
          "color": "#19d3f3"
         },
         "mode": "markers",
         "name": "gSULYtl28v",
         "showlegend": true,
         "subplot": "mapbox",
         "type": "scattermapbox"
        },
        {
         "hovertemplate": "User Code=iOvAbJlg0V<br>lat=%{lat}<br>lon=%{lon}<extra></extra>",
         "lat": [
          19.38313
         ],
         "legendgroup": "iOvAbJlg0V",
         "lon": [
          -99.02280999999999
         ],
         "marker": {
          "color": "#FF6692"
         },
         "mode": "markers",
         "name": "iOvAbJlg0V",
         "showlegend": true,
         "subplot": "mapbox",
         "type": "scattermapbox"
        },
        {
         "hovertemplate": "User Code=MKuoJiAhHU<br>lat=%{lat}<br>lon=%{lon}<extra></extra>",
         "lat": [
          19.27278
         ],
         "legendgroup": "MKuoJiAhHU",
         "lon": [
          -98.91723000000002
         ],
         "marker": {
          "color": "#B6E880"
         },
         "mode": "markers",
         "name": "MKuoJiAhHU",
         "showlegend": true,
         "subplot": "mapbox",
         "type": "scattermapbox"
        },
        {
         "hovertemplate": "User Code=SJ8mcrC64e<br>lat=%{lat}<br>lon=%{lon}<extra></extra>",
         "lat": [
          19.09745
         ],
         "legendgroup": "SJ8mcrC64e",
         "lon": [
          -99.07898999999998
         ],
         "marker": {
          "color": "#FF97FF"
         },
         "mode": "markers",
         "name": "SJ8mcrC64e",
         "showlegend": true,
         "subplot": "mapbox",
         "type": "scattermapbox"
        },
        {
         "hovertemplate": "User Code=D0leVL4Qfr<br>lat=%{lat}<br>lon=%{lon}<extra></extra>",
         "lat": [
          19.51548
         ],
         "legendgroup": "D0leVL4Qfr",
         "lon": [
          -98.92503999999997
         ],
         "marker": {
          "color": "#FECB52"
         },
         "mode": "markers",
         "name": "D0leVL4Qfr",
         "showlegend": true,
         "subplot": "mapbox",
         "type": "scattermapbox"
        },
        {
         "hovertemplate": "User Code=U2yc3w0YFZ<br>lat=%{lat}<br>lon=%{lon}<extra></extra>",
         "lat": [
          19.00881
         ],
         "legendgroup": "U2yc3w0YFZ",
         "lon": [
          -99.28028999999998
         ],
         "marker": {
          "color": "#636efa"
         },
         "mode": "markers",
         "name": "U2yc3w0YFZ",
         "showlegend": true,
         "subplot": "mapbox",
         "type": "scattermapbox"
        },
        {
         "hovertemplate": "User Code=QtDFj14Amy<br>lat=%{lat}<br>lon=%{lon}<extra></extra>",
         "lat": [
          19.44602
         ],
         "legendgroup": "QtDFj14Amy",
         "lon": [
          -99.23424999999997
         ],
         "marker": {
          "color": "#EF553B"
         },
         "mode": "markers",
         "name": "QtDFj14Amy",
         "showlegend": true,
         "subplot": "mapbox",
         "type": "scattermapbox"
        },
        {
         "hovertemplate": "User Code=k63Of8SWJ0<br>lat=%{lat}<br>lon=%{lon}<extra></extra>",
         "lat": [
          19.38958
         ],
         "legendgroup": "k63Of8SWJ0",
         "lon": [
          -99.12606
         ],
         "marker": {
          "color": "#00cc96"
         },
         "mode": "markers",
         "name": "k63Of8SWJ0",
         "showlegend": true,
         "subplot": "mapbox",
         "type": "scattermapbox"
        },
        {
         "hovertemplate": "User Code=y9dpL6REsq<br>lat=%{lat}<br>lon=%{lon}<extra></extra>",
         "lat": [
          19.24988
         ],
         "legendgroup": "y9dpL6REsq",
         "lon": [
          -99.31848000000002
         ],
         "marker": {
          "color": "#ab63fa"
         },
         "mode": "markers",
         "name": "y9dpL6REsq",
         "showlegend": true,
         "subplot": "mapbox",
         "type": "scattermapbox"
        },
        {
         "hovertemplate": "User Code=24CKjXEAW1<br>lat=%{lat}<br>lon=%{lon}<extra></extra>",
         "lat": [
          19.52445
         ],
         "legendgroup": "24CKjXEAW1",
         "lon": [
          -99.37601999999998
         ],
         "marker": {
          "color": "#FFA15A"
         },
         "mode": "markers",
         "name": "24CKjXEAW1",
         "showlegend": true,
         "subplot": "mapbox",
         "type": "scattermapbox"
        },
        {
         "hovertemplate": "User Code=KE1YTmLleP<br>lat=%{lat}<br>lon=%{lon}<extra></extra>",
         "lat": [
          19.38927
         ],
         "legendgroup": "KE1YTmLleP",
         "lon": [
          -99.30784
         ],
         "marker": {
          "color": "#19d3f3"
         },
         "mode": "markers",
         "name": "KE1YTmLleP",
         "showlegend": true,
         "subplot": "mapbox",
         "type": "scattermapbox"
        },
        {
         "hovertemplate": "User Code=KgCn70SG5s<br>lat=%{lat}<br>lon=%{lon}<extra></extra>",
         "lat": [
          19.24253
         ],
         "legendgroup": "KgCn70SG5s",
         "lon": [
          -99.17072999999999
         ],
         "marker": {
          "color": "#FF6692"
         },
         "mode": "markers",
         "name": "KgCn70SG5s",
         "showlegend": true,
         "subplot": "mapbox",
         "type": "scattermapbox"
        },
        {
         "hovertemplate": "User Code=LoOsSQU1EP<br>lat=%{lat}<br>lon=%{lon}<extra></extra>",
         "lat": [
          19.4182
         ],
         "legendgroup": "LoOsSQU1EP",
         "lon": [
          -99.37491999999997
         ],
         "marker": {
          "color": "#B6E880"
         },
         "mode": "markers",
         "name": "LoOsSQU1EP",
         "showlegend": true,
         "subplot": "mapbox",
         "type": "scattermapbox"
        },
        {
         "hovertemplate": "User Code=xb6YvhVk9n<br>lat=%{lat}<br>lon=%{lon}<extra></extra>",
         "lat": [
          19.26967
         ],
         "legendgroup": "xb6YvhVk9n",
         "lon": [
          -99.1175
         ],
         "marker": {
          "color": "#FF97FF"
         },
         "mode": "markers",
         "name": "xb6YvhVk9n",
         "showlegend": true,
         "subplot": "mapbox",
         "type": "scattermapbox"
        },
        {
         "hovertemplate": "User Code=R6vS2hCxGZ<br>lat=%{lat}<br>lon=%{lon}<extra></extra>",
         "lat": [
          19.0475
         ],
         "legendgroup": "R6vS2hCxGZ",
         "lon": [
          -99.27100999999999
         ],
         "marker": {
          "color": "#FECB52"
         },
         "mode": "markers",
         "name": "R6vS2hCxGZ",
         "showlegend": true,
         "subplot": "mapbox",
         "type": "scattermapbox"
        },
        {
         "hovertemplate": "User Code=mVR2PMQ3t1<br>lat=%{lat}<br>lon=%{lon}<extra></extra>",
         "lat": [
          19.14042
         ],
         "legendgroup": "mVR2PMQ3t1",
         "lon": [
          -99.09069999999997
         ],
         "marker": {
          "color": "#636efa"
         },
         "mode": "markers",
         "name": "mVR2PMQ3t1",
         "showlegend": true,
         "subplot": "mapbox",
         "type": "scattermapbox"
        },
        {
         "hovertemplate": "User Code=0M2RoEVQpa<br>lat=%{lat}<br>lon=%{lon}<extra></extra>",
         "lat": [
          19.33352
         ],
         "legendgroup": "0M2RoEVQpa",
         "lon": [
          -99.22663
         ],
         "marker": {
          "color": "#EF553B"
         },
         "mode": "markers",
         "name": "0M2RoEVQpa",
         "showlegend": true,
         "subplot": "mapbox",
         "type": "scattermapbox"
        },
        {
         "hovertemplate": "User Code=7YF2DomI6K<br>lat=%{lat}<br>lon=%{lon}<extra></extra>",
         "lat": [
          19.31631
         ],
         "legendgroup": "7YF2DomI6K",
         "lon": [
          -99.19349
         ],
         "marker": {
          "color": "#00cc96"
         },
         "mode": "markers",
         "name": "7YF2DomI6K",
         "showlegend": true,
         "subplot": "mapbox",
         "type": "scattermapbox"
        },
        {
         "hovertemplate": "User Code=qGBt1EgHFh<br>lat=%{lat}<br>lon=%{lon}<extra></extra>",
         "lat": [
          19.25964
         ],
         "legendgroup": "qGBt1EgHFh",
         "lon": [
          -99.21388999999999
         ],
         "marker": {
          "color": "#ab63fa"
         },
         "mode": "markers",
         "name": "qGBt1EgHFh",
         "showlegend": true,
         "subplot": "mapbox",
         "type": "scattermapbox"
        },
        {
         "hovertemplate": "User Code=8LJndxk3as<br>lat=%{lat}<br>lon=%{lon}<extra></extra>",
         "lat": [
          19.38291
         ],
         "legendgroup": "8LJndxk3as",
         "lon": [
          -99.24171000000001
         ],
         "marker": {
          "color": "#FFA15A"
         },
         "mode": "markers",
         "name": "8LJndxk3as",
         "showlegend": true,
         "subplot": "mapbox",
         "type": "scattermapbox"
        },
        {
         "hovertemplate": "User Code=insxoP8y0r<br>lat=%{lat}<br>lon=%{lon}<extra></extra>",
         "lat": [
          19.440719999999995
         ],
         "legendgroup": "insxoP8y0r",
         "lon": [
          -99.28357
         ],
         "marker": {
          "color": "#19d3f3"
         },
         "mode": "markers",
         "name": "insxoP8y0r",
         "showlegend": true,
         "subplot": "mapbox",
         "type": "scattermapbox"
        },
        {
         "hovertemplate": "User Code=AIROfl7WzE<br>lat=%{lat}<br>lon=%{lon}<extra></extra>",
         "lat": [
          19.56488
         ],
         "legendgroup": "AIROfl7WzE",
         "lon": [
          -99.18552
         ],
         "marker": {
          "color": "#FF6692"
         },
         "mode": "markers",
         "name": "AIROfl7WzE",
         "showlegend": true,
         "subplot": "mapbox",
         "type": "scattermapbox"
        },
        {
         "hovertemplate": "User Code=JVtMbHnou9<br>lat=%{lat}<br>lon=%{lon}<extra></extra>",
         "lat": [
          19.4944
         ],
         "legendgroup": "JVtMbHnou9",
         "lon": [
          -99.10264000000001
         ],
         "marker": {
          "color": "#B6E880"
         },
         "mode": "markers",
         "name": "JVtMbHnou9",
         "showlegend": true,
         "subplot": "mapbox",
         "type": "scattermapbox"
        },
        {
         "hovertemplate": "User Code=UQqSaCgyjM<br>lat=%{lat}<br>lon=%{lon}<extra></extra>",
         "lat": [
          19.49409
         ],
         "legendgroup": "UQqSaCgyjM",
         "lon": [
          -99.27093000000002
         ],
         "marker": {
          "color": "#FF97FF"
         },
         "mode": "markers",
         "name": "UQqSaCgyjM",
         "showlegend": true,
         "subplot": "mapbox",
         "type": "scattermapbox"
        },
        {
         "hovertemplate": "User Code=U1npJws2NP<br>lat=%{lat}<br>lon=%{lon}<extra></extra>",
         "lat": [
          19.58077
         ],
         "legendgroup": "U1npJws2NP",
         "lon": [
          -99.39080999999999
         ],
         "marker": {
          "color": "#FECB52"
         },
         "mode": "markers",
         "name": "U1npJws2NP",
         "showlegend": true,
         "subplot": "mapbox",
         "type": "scattermapbox"
        }
       ],
       "layout": {
        "legend": {
         "title": {
          "text": "User Code"
         },
         "tracegroupgap": 0
        },
        "mapbox": {
         "center": {
          "lat": 19.3073414,
          "lon": -99.16138912000001
         },
         "domain": {
          "x": [
           0,
           1
          ],
          "y": [
           0,
           1
          ]
         },
         "style": "open-street-map",
         "zoom": 12
        },
        "margin": {
         "b": 0,
         "l": 0,
         "r": 0,
         "t": 0
        },
        "template": {
         "data": {
          "bar": [
           {
            "error_x": {
             "color": "#2a3f5f"
            },
            "error_y": {
             "color": "#2a3f5f"
            },
            "marker": {
             "line": {
              "color": "#E5ECF6",
              "width": 0.5
             },
             "pattern": {
              "fillmode": "overlay",
              "size": 10,
              "solidity": 0.2
             }
            },
            "type": "bar"
           }
          ],
          "barpolar": [
           {
            "marker": {
             "line": {
              "color": "#E5ECF6",
              "width": 0.5
             },
             "pattern": {
              "fillmode": "overlay",
              "size": 10,
              "solidity": 0.2
             }
            },
            "type": "barpolar"
           }
          ],
          "carpet": [
           {
            "aaxis": {
             "endlinecolor": "#2a3f5f",
             "gridcolor": "white",
             "linecolor": "white",
             "minorgridcolor": "white",
             "startlinecolor": "#2a3f5f"
            },
            "baxis": {
             "endlinecolor": "#2a3f5f",
             "gridcolor": "white",
             "linecolor": "white",
             "minorgridcolor": "white",
             "startlinecolor": "#2a3f5f"
            },
            "type": "carpet"
           }
          ],
          "choropleth": [
           {
            "colorbar": {
             "outlinewidth": 0,
             "ticks": ""
            },
            "type": "choropleth"
           }
          ],
          "contour": [
           {
            "colorbar": {
             "outlinewidth": 0,
             "ticks": ""
            },
            "colorscale": [
             [
              0,
              "#0d0887"
             ],
             [
              0.1111111111111111,
              "#46039f"
             ],
             [
              0.2222222222222222,
              "#7201a8"
             ],
             [
              0.3333333333333333,
              "#9c179e"
             ],
             [
              0.4444444444444444,
              "#bd3786"
             ],
             [
              0.5555555555555556,
              "#d8576b"
             ],
             [
              0.6666666666666666,
              "#ed7953"
             ],
             [
              0.7777777777777778,
              "#fb9f3a"
             ],
             [
              0.8888888888888888,
              "#fdca26"
             ],
             [
              1,
              "#f0f921"
             ]
            ],
            "type": "contour"
           }
          ],
          "contourcarpet": [
           {
            "colorbar": {
             "outlinewidth": 0,
             "ticks": ""
            },
            "type": "contourcarpet"
           }
          ],
          "heatmap": [
           {
            "colorbar": {
             "outlinewidth": 0,
             "ticks": ""
            },
            "colorscale": [
             [
              0,
              "#0d0887"
             ],
             [
              0.1111111111111111,
              "#46039f"
             ],
             [
              0.2222222222222222,
              "#7201a8"
             ],
             [
              0.3333333333333333,
              "#9c179e"
             ],
             [
              0.4444444444444444,
              "#bd3786"
             ],
             [
              0.5555555555555556,
              "#d8576b"
             ],
             [
              0.6666666666666666,
              "#ed7953"
             ],
             [
              0.7777777777777778,
              "#fb9f3a"
             ],
             [
              0.8888888888888888,
              "#fdca26"
             ],
             [
              1,
              "#f0f921"
             ]
            ],
            "type": "heatmap"
           }
          ],
          "heatmapgl": [
           {
            "colorbar": {
             "outlinewidth": 0,
             "ticks": ""
            },
            "colorscale": [
             [
              0,
              "#0d0887"
             ],
             [
              0.1111111111111111,
              "#46039f"
             ],
             [
              0.2222222222222222,
              "#7201a8"
             ],
             [
              0.3333333333333333,
              "#9c179e"
             ],
             [
              0.4444444444444444,
              "#bd3786"
             ],
             [
              0.5555555555555556,
              "#d8576b"
             ],
             [
              0.6666666666666666,
              "#ed7953"
             ],
             [
              0.7777777777777778,
              "#fb9f3a"
             ],
             [
              0.8888888888888888,
              "#fdca26"
             ],
             [
              1,
              "#f0f921"
             ]
            ],
            "type": "heatmapgl"
           }
          ],
          "histogram": [
           {
            "marker": {
             "pattern": {
              "fillmode": "overlay",
              "size": 10,
              "solidity": 0.2
             }
            },
            "type": "histogram"
           }
          ],
          "histogram2d": [
           {
            "colorbar": {
             "outlinewidth": 0,
             "ticks": ""
            },
            "colorscale": [
             [
              0,
              "#0d0887"
             ],
             [
              0.1111111111111111,
              "#46039f"
             ],
             [
              0.2222222222222222,
              "#7201a8"
             ],
             [
              0.3333333333333333,
              "#9c179e"
             ],
             [
              0.4444444444444444,
              "#bd3786"
             ],
             [
              0.5555555555555556,
              "#d8576b"
             ],
             [
              0.6666666666666666,
              "#ed7953"
             ],
             [
              0.7777777777777778,
              "#fb9f3a"
             ],
             [
              0.8888888888888888,
              "#fdca26"
             ],
             [
              1,
              "#f0f921"
             ]
            ],
            "type": "histogram2d"
           }
          ],
          "histogram2dcontour": [
           {
            "colorbar": {
             "outlinewidth": 0,
             "ticks": ""
            },
            "colorscale": [
             [
              0,
              "#0d0887"
             ],
             [
              0.1111111111111111,
              "#46039f"
             ],
             [
              0.2222222222222222,
              "#7201a8"
             ],
             [
              0.3333333333333333,
              "#9c179e"
             ],
             [
              0.4444444444444444,
              "#bd3786"
             ],
             [
              0.5555555555555556,
              "#d8576b"
             ],
             [
              0.6666666666666666,
              "#ed7953"
             ],
             [
              0.7777777777777778,
              "#fb9f3a"
             ],
             [
              0.8888888888888888,
              "#fdca26"
             ],
             [
              1,
              "#f0f921"
             ]
            ],
            "type": "histogram2dcontour"
           }
          ],
          "mesh3d": [
           {
            "colorbar": {
             "outlinewidth": 0,
             "ticks": ""
            },
            "type": "mesh3d"
           }
          ],
          "parcoords": [
           {
            "line": {
             "colorbar": {
              "outlinewidth": 0,
              "ticks": ""
             }
            },
            "type": "parcoords"
           }
          ],
          "pie": [
           {
            "automargin": true,
            "type": "pie"
           }
          ],
          "scatter": [
           {
            "fillpattern": {
             "fillmode": "overlay",
             "size": 10,
             "solidity": 0.2
            },
            "type": "scatter"
           }
          ],
          "scatter3d": [
           {
            "line": {
             "colorbar": {
              "outlinewidth": 0,
              "ticks": ""
             }
            },
            "marker": {
             "colorbar": {
              "outlinewidth": 0,
              "ticks": ""
             }
            },
            "type": "scatter3d"
           }
          ],
          "scattercarpet": [
           {
            "marker": {
             "colorbar": {
              "outlinewidth": 0,
              "ticks": ""
             }
            },
            "type": "scattercarpet"
           }
          ],
          "scattergeo": [
           {
            "marker": {
             "colorbar": {
              "outlinewidth": 0,
              "ticks": ""
             }
            },
            "type": "scattergeo"
           }
          ],
          "scattergl": [
           {
            "marker": {
             "colorbar": {
              "outlinewidth": 0,
              "ticks": ""
             }
            },
            "type": "scattergl"
           }
          ],
          "scattermapbox": [
           {
            "marker": {
             "colorbar": {
              "outlinewidth": 0,
              "ticks": ""
             }
            },
            "type": "scattermapbox"
           }
          ],
          "scatterpolar": [
           {
            "marker": {
             "colorbar": {
              "outlinewidth": 0,
              "ticks": ""
             }
            },
            "type": "scatterpolar"
           }
          ],
          "scatterpolargl": [
           {
            "marker": {
             "colorbar": {
              "outlinewidth": 0,
              "ticks": ""
             }
            },
            "type": "scatterpolargl"
           }
          ],
          "scatterternary": [
           {
            "marker": {
             "colorbar": {
              "outlinewidth": 0,
              "ticks": ""
             }
            },
            "type": "scatterternary"
           }
          ],
          "surface": [
           {
            "colorbar": {
             "outlinewidth": 0,
             "ticks": ""
            },
            "colorscale": [
             [
              0,
              "#0d0887"
             ],
             [
              0.1111111111111111,
              "#46039f"
             ],
             [
              0.2222222222222222,
              "#7201a8"
             ],
             [
              0.3333333333333333,
              "#9c179e"
             ],
             [
              0.4444444444444444,
              "#bd3786"
             ],
             [
              0.5555555555555556,
              "#d8576b"
             ],
             [
              0.6666666666666666,
              "#ed7953"
             ],
             [
              0.7777777777777778,
              "#fb9f3a"
             ],
             [
              0.8888888888888888,
              "#fdca26"
             ],
             [
              1,
              "#f0f921"
             ]
            ],
            "type": "surface"
           }
          ],
          "table": [
           {
            "cells": {
             "fill": {
              "color": "#EBF0F8"
             },
             "line": {
              "color": "white"
             }
            },
            "header": {
             "fill": {
              "color": "#C8D4E3"
             },
             "line": {
              "color": "white"
             }
            },
            "type": "table"
           }
          ]
         },
         "layout": {
          "annotationdefaults": {
           "arrowcolor": "#2a3f5f",
           "arrowhead": 0,
           "arrowwidth": 1
          },
          "autotypenumbers": "strict",
          "coloraxis": {
           "colorbar": {
            "outlinewidth": 0,
            "ticks": ""
           }
          },
          "colorscale": {
           "diverging": [
            [
             0,
             "#8e0152"
            ],
            [
             0.1,
             "#c51b7d"
            ],
            [
             0.2,
             "#de77ae"
            ],
            [
             0.3,
             "#f1b6da"
            ],
            [
             0.4,
             "#fde0ef"
            ],
            [
             0.5,
             "#f7f7f7"
            ],
            [
             0.6,
             "#e6f5d0"
            ],
            [
             0.7,
             "#b8e186"
            ],
            [
             0.8,
             "#7fbc41"
            ],
            [
             0.9,
             "#4d9221"
            ],
            [
             1,
             "#276419"
            ]
           ],
           "sequential": [
            [
             0,
             "#0d0887"
            ],
            [
             0.1111111111111111,
             "#46039f"
            ],
            [
             0.2222222222222222,
             "#7201a8"
            ],
            [
             0.3333333333333333,
             "#9c179e"
            ],
            [
             0.4444444444444444,
             "#bd3786"
            ],
            [
             0.5555555555555556,
             "#d8576b"
            ],
            [
             0.6666666666666666,
             "#ed7953"
            ],
            [
             0.7777777777777778,
             "#fb9f3a"
            ],
            [
             0.8888888888888888,
             "#fdca26"
            ],
            [
             1,
             "#f0f921"
            ]
           ],
           "sequentialminus": [
            [
             0,
             "#0d0887"
            ],
            [
             0.1111111111111111,
             "#46039f"
            ],
            [
             0.2222222222222222,
             "#7201a8"
            ],
            [
             0.3333333333333333,
             "#9c179e"
            ],
            [
             0.4444444444444444,
             "#bd3786"
            ],
            [
             0.5555555555555556,
             "#d8576b"
            ],
            [
             0.6666666666666666,
             "#ed7953"
            ],
            [
             0.7777777777777778,
             "#fb9f3a"
            ],
            [
             0.8888888888888888,
             "#fdca26"
            ],
            [
             1,
             "#f0f921"
            ]
           ]
          },
          "colorway": [
           "#636efa",
           "#EF553B",
           "#00cc96",
           "#ab63fa",
           "#FFA15A",
           "#19d3f3",
           "#FF6692",
           "#B6E880",
           "#FF97FF",
           "#FECB52"
          ],
          "font": {
           "color": "#2a3f5f"
          },
          "geo": {
           "bgcolor": "white",
           "lakecolor": "white",
           "landcolor": "#E5ECF6",
           "showlakes": true,
           "showland": true,
           "subunitcolor": "white"
          },
          "hoverlabel": {
           "align": "left"
          },
          "hovermode": "closest",
          "mapbox": {
           "style": "light"
          },
          "paper_bgcolor": "white",
          "plot_bgcolor": "#E5ECF6",
          "polar": {
           "angularaxis": {
            "gridcolor": "white",
            "linecolor": "white",
            "ticks": ""
           },
           "bgcolor": "#E5ECF6",
           "radialaxis": {
            "gridcolor": "white",
            "linecolor": "white",
            "ticks": ""
           }
          },
          "scene": {
           "xaxis": {
            "backgroundcolor": "#E5ECF6",
            "gridcolor": "white",
            "gridwidth": 2,
            "linecolor": "white",
            "showbackground": true,
            "ticks": "",
            "zerolinecolor": "white"
           },
           "yaxis": {
            "backgroundcolor": "#E5ECF6",
            "gridcolor": "white",
            "gridwidth": 2,
            "linecolor": "white",
            "showbackground": true,
            "ticks": "",
            "zerolinecolor": "white"
           },
           "zaxis": {
            "backgroundcolor": "#E5ECF6",
            "gridcolor": "white",
            "gridwidth": 2,
            "linecolor": "white",
            "showbackground": true,
            "ticks": "",
            "zerolinecolor": "white"
           }
          },
          "shapedefaults": {
           "line": {
            "color": "#2a3f5f"
           }
          },
          "ternary": {
           "aaxis": {
            "gridcolor": "white",
            "linecolor": "white",
            "ticks": ""
           },
           "baxis": {
            "gridcolor": "white",
            "linecolor": "white",
            "ticks": ""
           },
           "bgcolor": "#E5ECF6",
           "caxis": {
            "gridcolor": "white",
            "linecolor": "white",
            "ticks": ""
           }
          },
          "title": {
           "x": 0.05
          },
          "xaxis": {
           "automargin": true,
           "gridcolor": "white",
           "linecolor": "white",
           "ticks": "",
           "title": {
            "standoff": 15
           },
           "zerolinecolor": "white",
           "zerolinewidth": 2
          },
          "yaxis": {
           "automargin": true,
           "gridcolor": "white",
           "linecolor": "white",
           "ticks": "",
           "title": {
            "standoff": 15
           },
           "zerolinecolor": "white",
           "zerolinewidth": 2
          }
         }
        }
       }
      }
     },
     "metadata": {},
     "output_type": "display_data"
    }
   ],
   "source": [
    "# Create a map using Plotly Express\n",
    "fig = px.scatter_mapbox(df, \n",
    "                        lat=df.lat, \n",
    "                        lon=df.lon,\n",
    "                        color='User Code',\n",
    "                        color_continuous_scale='blues',\n",
    "                        mapbox_style='dark',\n",
    "                        zoom=12)\n",
    "\n",
    "# Display the map\n",
    "fig.update_layout(mapbox_style=\"open-street-map\")\n",
    "fig.update_layout(margin={\"r\":0,\"t\":0,\"l\":0,\"b\":0})\n",
    "fig.show()"
   ]
  },
  {
   "cell_type": "code",
   "execution_count": 13,
   "id": "fef64c1b-0834-4bb0-881b-b06e2102c8c8",
   "metadata": {},
   "outputs": [],
   "source": [
    "# Assuming 'fig' is your Plotly figure\n",
    "pio.write_html(fig, 'data/reverse.html')"
   ]
  }
 ],
 "metadata": {
  "kernelspec": {
   "display_name": "Python 3 (ipykernel)",
   "language": "python",
   "name": "python3"
  },
  "language_info": {
   "codemirror_mode": {
    "name": "ipython",
    "version": 3
   },
   "file_extension": ".py",
   "mimetype": "text/x-python",
   "name": "python",
   "nbconvert_exporter": "python",
   "pygments_lexer": "ipython3",
   "version": "3.10.7"
  }
 },
 "nbformat": 4,
 "nbformat_minor": 5
}
